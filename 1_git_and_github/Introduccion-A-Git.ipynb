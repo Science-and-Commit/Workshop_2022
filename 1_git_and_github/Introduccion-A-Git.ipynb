{
 "cells": [
  {
   "cell_type": "markdown",
   "metadata": {},
   "source": [
    "# Control de versiones:\n",
    "## Git: La herramienta que no sabias que necesitabas\n",
    "\n",
    "***\n",
    "***\n",
    "***"
   ]
  },
  {
   "cell_type": "markdown",
   "metadata": {},
   "source": [
    "#### Fuentes utilizadas para este tutorial: \n",
    "- [\"Version Control for Fun and Profit\"](https://nbviewer.jupyter.org/github/fperez/reprosw/raw/master/Version%20Control.ipynb)\n",
    "- [LSST DSFP Session 1: Hands-on introduction to git](https://github.com/jakevdp/git-intro/blob/master/git-intro.ipynb)\n",
    "- [ProGit - Scott Chacon and Ben Straub](https://git-scm.com/book/en/v2)"
   ]
  },
  {
   "cell_type": "markdown",
   "metadata": {},
   "source": [
    "## Que es el Control de Versiones?"
   ]
  },
  {
   "cell_type": "markdown",
   "metadata": {},
   "source": [
    "El control de versiones es un sistema que registra cambios a un archivo o conjunto de archivos a traves del tiempo con la particularidad que **se puede volver facilmente a una version anterior**"
   ]
  },
  {
   "cell_type": "markdown",
   "metadata": {},
   "source": [
    "#### Reproducibilidad?\n",
    "- Seguimiento y recreacion de cada paso de tu trabajo\n",
    "- En el mundo de software esto se llama *Control de Versiones*!\n",
    "\n",
    "#### Que te brinda un (buen) control de versiones?\n",
    "- Paz mental (respaldos)\n",
    "- Libertad (ramas exploratorias)\n",
    "- Colaboracion (sincronizacion)"
   ]
  },
  {
   "cell_type": "markdown",
   "metadata": {},
   "source": [
    "## Git es tecnologia habilitadora: Usalo para todo!\n",
    "- Escritura de tesis/papers/tareas <br>\n",
    "(Es compatible con overleaf y nunca mas guardarás archivos como tesis_v5_jose_vines_final_final_ago11_finalisimo.tex)\n",
    "- Tareas\n",
    "- Investigaciones\n",
    "- Proyectos personales\n",
    "- Trabajo en múltiples servidores\n",
    "- Páginas web\n",
    "- Proyectos grupales"
   ]
  },
  {
   "cell_type": "markdown",
   "metadata": {},
   "source": [
    "***\n",
    "***\n",
    "***\n",
    "\n",
    "## Temario:\n",
    "\n",
    "### 1/ Instalación\n",
    "\n",
    "### 2/ Conceptos clave\n",
    "\n",
    "### 3/ Workflow local\n",
    "\n",
    "### 4/ Ramas\n",
    "\n",
    "### 5/ Workflow remoto\n",
    "\n",
    "### 6/ Manejo de conflictos\n",
    "\n",
    "### 7/ Actividad\n",
    "\n",
    "***\n",
    "***\n",
    "***"
   ]
  },
  {
   "cell_type": "markdown",
   "metadata": {},
   "source": [
    "## 1/ Como instalar git?\n",
    "\n",
    "### Linux:\n",
    "- Distribucion basada en Debian (e.g. Ubuntu): ```sudo apt-get install git-all```\n",
    "- Distribucion RPM (e.g. Fedora): ```sudo dnf install git-all```\n",
    "\n",
    "### OS X\n",
    "En OS X 10.9 o mas reciente se puede instalar a traves de Xcode Command Line Tools, para esto uno puede simplemente correr ```$ git --version``` desde la terminal y si no esta instalado, te pedira instalarlo.\n",
    "Otra opcion es a traves de [homebrew](https://brew.sh/) con ```$ brew install git``` desde la terminal una vez homebrew este instalado. Finalmente se puede instalar a traves de la [aplicacion de escritorio de GitHub](https://desktop.github.com/)\n",
    "\n",
    "### Windows\n",
    "Se puede descargar un [instalador](https://git-scm.com/download/win) del proyecto [Git for Windows](https://gitforwindows.org), o bien se puede instalar a traves de la [aplicacion de escritorio de GitHub](https://desktop.github.com/)\n",
    "\n",
    "Es posible tambien compilar git localmente, pero no ahondaremos en eso para esta ocasion."
   ]
  },
  {
   "cell_type": "markdown",
   "metadata": {},
   "source": [
    "### Primer setup\n",
    "\n",
    "Ahora que hemos instalado Git, antes de empezar a respaldar nuestros proyectos debemos llevar a cabo ciertas configuraciones de nuestro entorno de Git, por suerte estas configuraciones se deben hacer solo unas vez en un computador y se quedaran entre actualizaciones.\n",
    "\n",
    "Git viene con una instruccion llamada `git config` que te permite obtener y determinar variables de ajuste que controlan todo aspecto de como funciona Git. Puedes ver tus configuraciones con `$git config --list --show-origin`\n",
    "\n",
    "Partamos por uno de los aspectos mas importantes:\n",
    "Tenemos que darle nuestra identidad a git, ya que utilizara esta informacion cada vez que respaldemos algo (a estos respaldos les llamaremos «commit» de aqui en adelante). Cada commit guarda la informacion del usuario de manera tajante, es decir, una vez hecho un commit, no podremos editar la informacion del usuario que lo creo.\n",
    "\n",
    "Configurar nuestra identidad es sencillo y se hace con los siguientes comandos en la consola:\n",
    "\n",
    "```\n",
    "$ git config --global user.name \"Nombre Apellido\"\n",
    "$ git config --global user.email tuemail@ejemplo.com\n",
    "```\n",
    "\n",
    "Al usar el flag `--global` nos aseguramos que solo hay que configurar estos parametros una sola vez en el computador!"
   ]
  },
  {
   "cell_type": "markdown",
   "metadata": {},
   "source": [
    "Otra configuracion quizas menos importante pero muy util es el editor de texto que usaremos cuando Git necesite que ingresemos informacion extra a algun commit. Si no configuramos esto, Git usara el editor por defecto en el sistema.\n",
    "\n",
    "Si, por ejemplo, quisieramos usar Emacs como editor, esto lo configuramos con la instruccion: `$ git config --global core.editor emacs`\n",
    "\n",
    "**En windows si quisieramos usar otro editor, debemos darle el path entero a su archivo ejecutable**\n",
    "\n",
    "Un ejemplo con Notepad++: `$ git config --global core.editor \"'C:/Program Files/Notepad++/notepad++.exe' -multiInst -notabbar -nosession -noPlugin\"`"
   ]
  },
  {
   "cell_type": "markdown",
   "metadata": {},
   "source": [
    "Otra configuracion util es el uso de colores: `$ git config --global color.ui \"auto\"`\n",
    "Podemos revisar como quedaron nuestras configuraciones con el archivo `.gitconfig`"
   ]
  },
  {
   "cell_type": "code",
   "execution_count": 1,
   "metadata": {},
   "outputs": [
    {
     "name": "stdout",
     "output_type": "stream",
     "text": [
      "# This is Git's per-user configuration file.\r\n",
      "[user]\r\n",
      "# Please adapt and uncomment the following lines:\r\n",
      "\tname = José Vines\r\n",
      "\temail = jose.vines@ug.uchile.cl\r\n",
      "[alias]\r\n",
      "\tslog = log --oneline --topo-order --graph\r\n",
      "[color]\r\n",
      "\tui = auto\r\n"
     ]
    }
   ],
   "source": [
    "!cat ~/.gitconfig"
   ]
  },
  {
   "cell_type": "markdown",
   "metadata": {},
   "source": [
    "***\n",
    "***\n",
    "*** \n",
    "## 2/ Conceptos clave\n",
    "\n",
    "Antes de comenzar con nuestro primer repositorio, haremos una pasada por los conceptos claves de git\n",
    "\n",
    "El **commit**: Un registro de trabajo instantaneo en el tiempo.\n",
    "\n",
    "![Anatomia de un commit](img/commit_anatomy.png \"Anatomia de un commit\")\n",
    "\n",
    "Credito: libro ProGit de Scott Chacon, licencia CC."
   ]
  },
  {
   "cell_type": "markdown",
   "metadata": {},
   "source": [
    "Un **repositorio**: Un grupo de commits *enlazados*\n",
    "\n",
    "![Un repositorio](img/threecommits.png \"Un repositorio\")\n",
    "\n",
    "Nota: Un repositorio es un grafo dirigido aciclico cuyos nodos estan identificados por su *hash*\n",
    "\n",
    "Hablando de **hash**, este es lo mas parecido a una huella digital de un commit\n",
    "\n",
    "Un corto ejemplo en Python"
   ]
  },
  {
   "cell_type": "code",
   "execution_count": 1,
   "metadata": {},
   "outputs": [
    {
     "name": "stdout",
     "output_type": "stream",
     "text": [
      "Hash: eadf93cde4cfd0c23b66647642386912e507bd05\n"
     ]
    }
   ],
   "source": [
    "import hashlib as sha\n",
    "\n",
    "# Vamos a simular un commit!!\n",
    "datos = b'Con esto comenzare mi tarea!'\n",
    "metadatos = b'Nombre: Paulina Caceres'\n",
    "hash1 = sha.sha1(datos + metadatos).hexdigest()\n",
    "print(f'Hash: {hash1}')"
   ]
  },
  {
   "cell_type": "code",
   "execution_count": 2,
   "metadata": {},
   "outputs": [
    {
     "name": "stdout",
     "output_type": "stream",
     "text": [
      "Hash: fa6e22dff266f4f82c8a9f746fd9a26adf6fba4b\n"
     ]
    }
   ],
   "source": [
    "# Ahora simularemos un segundo commit, relacionado al primero!\n",
    "mas_datos = b'Este es el primer parrafo de mi tarea.'\n",
    "mas_metadatos = b'fecha: 11/11/2020'\n",
    "hash2 = sha.sha1(mas_datos + mas_metadatos + bytes(hash1, 'utf-8')).hexdigest()\n",
    "print(f'Hash: {hash2}')"
   ]
  },
  {
   "cell_type": "markdown",
   "metadata": {},
   "source": [
    "***\n",
    "***\n",
    "***\n",
    "\n",
    "Esto es el corazon de Git!\n",
    "\n",
    "Comencemos con lo mas basico: \n",
    "\n",
    "## 3/ Un workflow local con un solo usuario"
   ]
  },
  {
   "cell_type": "markdown",
   "metadata": {},
   "source": [
    "Podemos ver una lista de los comandos «esenciales» de git escribiendo `git` en la terminal. Revisaremos varios de estos a traves de pequenos ejemplos"
   ]
  },
  {
   "cell_type": "code",
   "execution_count": 3,
   "metadata": {},
   "outputs": [
    {
     "name": "stdout",
     "output_type": "stream",
     "text": [
      "usage: git [--version] [--help] [-C <path>] [-c <name>=<value>]\r\n",
      "           [--exec-path[=<path>]] [--html-path] [--man-path] [--info-path]\r\n",
      "           [-p | --paginate | -P | --no-pager] [--no-replace-objects] [--bare]\r\n",
      "           [--git-dir=<path>] [--work-tree=<path>] [--namespace=<name>]\r\n",
      "           [--super-prefix=<path>] [--config-env=<name>=<envvar>]\r\n",
      "           <command> [<args>]\r\n",
      "\r\n",
      "These are common Git commands used in various situations:\r\n",
      "\r\n",
      "start a working area (see also: git help tutorial)\r\n",
      "   clone             Clone a repository into a new directory\r\n",
      "   init              Create an empty Git repository or reinitialize an existing one\r\n",
      "\r\n",
      "work on the current change (see also: git help everyday)\r\n",
      "   add               Add file contents to the index\r\n",
      "   mv                Move or rename a file, a directory, or a symlink\r\n",
      "   restore           Restore working tree files\r\n",
      "   rm                Remove files from the working tree and from the index\r\n",
      "   sparse-checkout   Initialize and modify the sparse-checkout\r\n",
      "\r\n",
      "examine the history and state (see also: git help revisions)\r\n",
      "   bisect            Use binary search to find the commit that introduced a bug\r\n",
      "   diff              Show changes between commits, commit and working tree, etc\r\n",
      "   grep              Print lines matching a pattern\r\n",
      "   log               Show commit logs\r\n",
      "   show              Show various types of objects\r\n",
      "   status            Show the working tree status\r\n",
      "\r\n",
      "grow, mark and tweak your common history\r\n",
      "   branch            List, create, or delete branches\r\n",
      "   commit            Record changes to the repository\r\n",
      "   merge             Join two or more development histories together\r\n",
      "   rebase            Reapply commits on top of another base tip\r\n",
      "   reset             Reset current HEAD to the specified state\r\n",
      "   switch            Switch branches\r\n",
      "   tag               Create, list, delete or verify a tag object signed with GPG\r\n",
      "\r\n",
      "collaborate (see also: git help workflows)\r\n",
      "   fetch             Download objects and refs from another repository\r\n",
      "   pull              Fetch from and integrate with another repository or a local branch\r\n",
      "   push              Update remote refs along with associated objects\r\n",
      "\r\n",
      "'git help -a' and 'git help -g' list available subcommands and some\r\n",
      "concept guides. See 'git help <command>' or 'git help <concept>'\r\n",
      "to read about a specific subcommand or concept.\r\n",
      "See 'git help git' for an overview of the system.\r\n"
     ]
    }
   ],
   "source": [
    "!git"
   ]
  },
  {
   "cell_type": "markdown",
   "metadata": {},
   "source": [
    "### `git init`: crear un repositorio vacio\n",
    "\n",
    "Intenta ejecutar las celdas a continuacion, o bien, copiar las instrucciones en una terminal para que vayas viendo como trabaja Git. Si usas una terminal, puedes ignorar las instrucciones `%%bash` y `cd test` en cada celda"
   ]
  },
  {
   "cell_type": "code",
   "execution_count": 5,
   "metadata": {},
   "outputs": [
    {
     "name": "stdout",
     "output_type": "stream",
     "text": [
      "Initialized empty Git repository in /Users/pulux/Desktop/Science_and_Commit/GitHub/Workshop_2022/1_git_and_github/test/.git/\n"
     ]
    },
    {
     "name": "stderr",
     "output_type": "stream",
     "text": [
      "hint: Using 'master' as the name for the initial branch. This default branch name\n",
      "hint: is subject to change. To configure the initial branch name to use in all\n",
      "hint: of your new repositories, which will suppress this warning, call:\n",
      "hint: \n",
      "hint: \tgit config --global init.defaultBranch <name>\n",
      "hint: \n",
      "hint: Names commonly chosen instead of 'master' are 'main', 'trunk' and\n",
      "hint: 'development'. The just-created branch can be renamed via this command:\n",
      "hint: \n",
      "hint: \tgit branch -m <name>\n"
     ]
    }
   ],
   "source": [
    "%%bash\n",
    "rm -rf test\n",
    "git init test"
   ]
  },
  {
   "cell_type": "markdown",
   "metadata": {},
   "source": [
    "Veamos que ha hecho Git"
   ]
  },
  {
   "cell_type": "code",
   "execution_count": 6,
   "metadata": {},
   "outputs": [
    {
     "name": "stdout",
     "output_type": "stream",
     "text": [
      "total 0\n",
      "drwxr-xr-x  3 pulux  staff   96 Mar 29 20:19 .\n",
      "drwxr-xr-x  7 pulux  staff  224 Mar 29 20:19 ..\n",
      "drwxr-xr-x  9 pulux  staff  288 Mar 29 20:19 .git\n"
     ]
    }
   ],
   "source": [
    "%%bash\n",
    "cd test\n",
    "\n",
    "ls -la"
   ]
  },
  {
   "cell_type": "code",
   "execution_count": 7,
   "metadata": {},
   "outputs": [
    {
     "name": "stdout",
     "output_type": "stream",
     "text": [
      "total 24\n",
      "-rw-r--r--   1 pulux  staff   23 Mar 29 20:19 HEAD\n",
      "-rw-r--r--   1 pulux  staff  137 Mar 29 20:19 config\n",
      "-rw-r--r--   1 pulux  staff   73 Mar 29 20:19 description\n",
      "drwxr-xr-x  15 pulux  staff  480 Mar 29 20:19 hooks\n",
      "drwxr-xr-x   3 pulux  staff   96 Mar 29 20:19 info\n",
      "drwxr-xr-x   4 pulux  staff  128 Mar 29 20:19 objects\n",
      "drwxr-xr-x   4 pulux  staff  128 Mar 29 20:19 refs\n"
     ]
    }
   ],
   "source": [
    "%%bash\n",
    "cd test\n",
    "\n",
    "ls -l .git"
   ]
  },
  {
   "cell_type": "markdown",
   "metadata": {},
   "source": [
    "Ahora vamos a modificar nuestro primer archivo en el directorio test. En esta ocasion lo hare a traves de la linea de comando, pero usualmente uno utilizaria un editor de texto para hacer este tipo de cosas"
   ]
  },
  {
   "cell_type": "code",
   "execution_count": 8,
   "metadata": {},
   "outputs": [],
   "source": [
    "%%bash\n",
    "cd test\n",
    "\n",
    "echo \"Hola, Mundo!\" > archivo1.txt"
   ]
  },
  {
   "cell_type": "code",
   "execution_count": 9,
   "metadata": {},
   "outputs": [
    {
     "name": "stdout",
     "output_type": "stream",
     "text": [
      "total 8\n",
      "drwxr-xr-x  4 pulux  staff  128 Mar 29 20:20 .\n",
      "drwxr-xr-x  7 pulux  staff  224 Mar 29 20:20 ..\n",
      "drwxr-xr-x  9 pulux  staff  288 Mar 29 20:19 .git\n",
      "-rw-r--r--  1 pulux  staff   13 Mar 29 20:20 archivo1.txt\n"
     ]
    }
   ],
   "source": [
    "%%bash\n",
    "cd test\n",
    "\n",
    "ls -al"
   ]
  },
  {
   "cell_type": "markdown",
   "metadata": {},
   "source": [
    "### `git add`: Le informa a git sobre nuevos archivos o cambios"
   ]
  },
  {
   "cell_type": "code",
   "execution_count": 10,
   "metadata": {},
   "outputs": [],
   "source": [
    "%%bash\n",
    "cd test\n",
    "\n",
    "git add archivo1.txt"
   ]
  },
  {
   "cell_type": "markdown",
   "metadata": {},
   "source": [
    "### `git status`: Nos dice el estado actual del repositorio"
   ]
  },
  {
   "cell_type": "code",
   "execution_count": 11,
   "metadata": {},
   "outputs": [
    {
     "name": "stdout",
     "output_type": "stream",
     "text": [
      "On branch master\n",
      "\n",
      "No commits yet\n",
      "\n",
      "Changes to be committed:\n",
      "  (use \"git rm --cached <file>...\" to unstage)\n",
      "\tnew file:   archivo1.txt\n",
      "\n"
     ]
    }
   ],
   "source": [
    "%%bash\n",
    "cd test\n",
    "\n",
    "git status"
   ]
  },
  {
   "cell_type": "markdown",
   "metadata": {},
   "source": [
    "### `git commit`: Agrega permanentemente nuestros cambios al repositorio\n",
    "\n",
    "Por ahora utilizaremos la instruccion `git commit` con el flag `-a` o con nombres de archivos (`git commit archivo1 archivo2 ...`)\n",
    "\n",
    "Discutiremos mas adelante un aspecto de git que no es realmente necesario en el trabajo cientifico del dia a dia, pero podemos adquirir un control aun mayor de que y como Git guarda nuestras acciones"
   ]
  },
  {
   "cell_type": "code",
   "execution_count": 13,
   "metadata": {},
   "outputs": [
    {
     "name": "stdout",
     "output_type": "stream",
     "text": [
      "[master (root-commit) 8947ae7] Nuestro primer commit\n",
      " 1 file changed, 1 insertion(+)\n",
      " create mode 100644 archivo1.txt\n"
     ]
    }
   ],
   "source": [
    "%%bash\n",
    "cd test\n",
    "\n",
    "git commit -a -m \"Nuestro primer commit\""
   ]
  },
  {
   "cell_type": "markdown",
   "metadata": {},
   "source": [
    "En la celda anterior usamos un flag extra, `-m`, acompanado de texto. Este flag le indica a git que el texto a continuacion es el mensaje asociado al commit.\n",
    "\n",
    "Si no utilizamos este flag, git abre automaticamente el editor que especificamos para ingresar un mensaje. Por defecto git se rehusa a registrar cambios sin un mensaje, y es sumamente importante que estos resuman de manera efectiva el cambio.\n",
    "\n",
    "Los mensajes facilitan la comprension y el seguimiento de los cambios de un proyecto a lo largo del tiempo!"
   ]
  },
  {
   "cell_type": "markdown",
   "metadata": {},
   "source": [
    "### `git log`: Los commit hasta ahora"
   ]
  },
  {
   "cell_type": "code",
   "execution_count": 14,
   "metadata": {},
   "outputs": [
    {
     "name": "stdout",
     "output_type": "stream",
     "text": [
      "commit 8947ae7213283097d256af6cd8ac2ad6eb33f4f6\n",
      "Author: ppalmabifani <70551357+ppalmabifani@users.noreply.github.com>\n",
      "Date:   Tue Mar 29 20:25:12 2022 +0200\n",
      "\n",
      "    Nuestro primer commit\n"
     ]
    }
   ],
   "source": [
    "%%bash\n",
    "cd test\n",
    "\n",
    "git log"
   ]
  },
  {
   "cell_type": "markdown",
   "metadata": {},
   "source": [
    "### `git diff`: Que hemos cambiado?\n",
    "\n",
    "Nuevamente, recuerda que en la practica estaras modificando los archivos a mano. Aqui lo hacemos con comandos en la terminal para hacer que este tutorial sea reproducible en el futuro :)"
   ]
  },
  {
   "cell_type": "code",
   "execution_count": 15,
   "metadata": {},
   "outputs": [],
   "source": [
    "%%bash\n",
    "cd test\n",
    "\n",
    "echo \"Adios, Mundo!\" >> archivo1.txt"
   ]
  },
  {
   "cell_type": "markdown",
   "metadata": {},
   "source": [
    "Ahora le podemos preguntar a git que ha cambiado"
   ]
  },
  {
   "cell_type": "code",
   "execution_count": 16,
   "metadata": {},
   "outputs": [
    {
     "name": "stdout",
     "output_type": "stream",
     "text": [
      "diff --git a/archivo1.txt b/archivo1.txt\n",
      "index 37a9b58..e4f4c41 100644\n",
      "--- a/archivo1.txt\n",
      "+++ b/archivo1.txt\n",
      "@@ -1 +1,2 @@\n",
      " Hola, Mundo!\n",
      "+Adios, Mundo!\n"
     ]
    }
   ],
   "source": [
    "%%bash\n",
    "cd test\n",
    "\n",
    "git diff"
   ]
  },
  {
   "cell_type": "markdown",
   "metadata": {},
   "source": [
    "### El ciclo de git.... trabajo, commit, trabajo, commit, ..."
   ]
  },
  {
   "cell_type": "code",
   "execution_count": 17,
   "metadata": {},
   "outputs": [
    {
     "name": "stdout",
     "output_type": "stream",
     "text": [
      "[master 0f193d0] He avanzado mucho con mi tarea.\n",
      " 1 file changed, 1 insertion(+)\n"
     ]
    }
   ],
   "source": [
    "%%bash\n",
    "cd test\n",
    "\n",
    "git commit -a -m \"He avanzado mucho con mi tarea.\""
   ]
  },
  {
   "cell_type": "markdown",
   "metadata": {},
   "source": [
    "### `git log`: El reencuentro\n",
    "\n",
    "Veamos que nos muestra el log ahora!"
   ]
  },
  {
   "cell_type": "code",
   "execution_count": 18,
   "metadata": {},
   "outputs": [
    {
     "name": "stdout",
     "output_type": "stream",
     "text": [
      "commit 0f193d0bde39ca1fd4a6d83c1000e4bdb6cd19e1\n",
      "Author: ppalmabifani <70551357+ppalmabifani@users.noreply.github.com>\n",
      "Date:   Tue Mar 29 20:26:09 2022 +0200\n",
      "\n",
      "    He avanzado mucho con mi tarea.\n",
      "\n",
      "commit 8947ae7213283097d256af6cd8ac2ad6eb33f4f6\n",
      "Author: ppalmabifani <70551357+ppalmabifani@users.noreply.github.com>\n",
      "Date:   Tue Mar 29 20:25:12 2022 +0200\n",
      "\n",
      "    Nuestro primer commit\n"
     ]
    }
   ],
   "source": [
    "%%bash\n",
    "cd test\n",
    "\n",
    "git log"
   ]
  },
  {
   "cell_type": "markdown",
   "metadata": {},
   "source": [
    "Tambien podemos ver una version resumida del log"
   ]
  },
  {
   "cell_type": "code",
   "execution_count": 19,
   "metadata": {},
   "outputs": [
    {
     "name": "stdout",
     "output_type": "stream",
     "text": [
      "0f193d0 He avanzado mucho con mi tarea.\n",
      "8947ae7 Nuestro primer commit\n"
     ]
    }
   ],
   "source": [
    "%%bash\n",
    "cd test\n",
    "\n",
    "git log --oneline"
   ]
  },
  {
   "cell_type": "markdown",
   "metadata": {},
   "source": [
    "Dijimos previamente que un repositorio es un grafo dirigido, y podemos pedirle a git que nos muestre nuestro repositorio como si fuera uno!"
   ]
  },
  {
   "cell_type": "code",
   "execution_count": 20,
   "metadata": {},
   "outputs": [
    {
     "name": "stdout",
     "output_type": "stream",
     "text": [
      "* 0f193d0 He avanzado mucho con mi tarea.\n",
      "* 8947ae7 Nuestro primer commit\n"
     ]
    }
   ],
   "source": [
    "%%bash\n",
    "cd test\n",
    "\n",
    "git log --oneline --topo-order --graph"
   ]
  },
  {
   "cell_type": "markdown",
   "metadata": {},
   "source": [
    "Pero escribir esa linea cada vez que queramos revisar el log es tedioso y tan largo que quizas lo olvidemos de inmediato.... Como podremos corregir esto??\n",
    "\n",
    "Introduciremos los **alias**!\n",
    "\n",
    "Git soporta *aliases*, nombres cortos para combinaciones de instrucciones. Convirtamos la instruccion anterior en un alias llamado `slog`, asi, solo tendremos que escribir `git slog` y tendremos un log compacto visualizado como grafo!\n",
    "\n",
    "Al crear un alias, git guarda esta informacion en el archivo de configuracion, `.gitconfig`"
   ]
  },
  {
   "cell_type": "code",
   "execution_count": 21,
   "metadata": {},
   "outputs": [
    {
     "name": "stdout",
     "output_type": "stream",
     "text": [
      "* 0f193d0 He avanzado mucho con mi tarea.\n",
      "* 8947ae7 Nuestro primer commit\n"
     ]
    }
   ],
   "source": [
    "%%bash\n",
    "cd test\n",
    "\n",
    "git config --global alias.slog \"log --oneline --topo-order --graph\"\n",
    "\n",
    "# Probemos nuestro alias\n",
    "git slog"
   ]
  },
  {
   "cell_type": "markdown",
   "metadata": {},
   "source": [
    "### Mover y eliminar archivos con `git mv` y `git rm`\n",
    "\n",
    "Vimos que con `git add` podemos decirle a git que observe nuevos archivos, pero tambien le podemos decir si queremos cambiarle el nombre y si queremos quitarlo"
   ]
  },
  {
   "cell_type": "code",
   "execution_count": 22,
   "metadata": {},
   "outputs": [
    {
     "name": "stdout",
     "output_type": "stream",
     "text": [
      "On branch master\n",
      "Changes to be committed:\n",
      "  (use \"git restore --staged <file>...\" to unstage)\n",
      "\trenamed:    archivo1.txt -> nuevo-archivo.txt\n",
      "\n"
     ]
    }
   ],
   "source": [
    "%%bash\n",
    "cd test\n",
    "\n",
    "git mv archivo1.txt nuevo-archivo.txt\n",
    "git status"
   ]
  },
  {
   "cell_type": "markdown",
   "metadata": {},
   "source": [
    "No olvidemos hacer commit!"
   ]
  },
  {
   "cell_type": "code",
   "execution_count": 23,
   "metadata": {},
   "outputs": [
    {
     "name": "stdout",
     "output_type": "stream",
     "text": [
      "[master 0b9a15a] Este nombre es mas apropiado\n",
      " 1 file changed, 0 insertions(+), 0 deletions(-)\n",
      " rename archivo1.txt => nuevo-archivo.txt (100%)\n"
     ]
    }
   ],
   "source": [
    "%%bash\n",
    "cd test\n",
    "\n",
    "git commit -a -m \"Este nombre es mas apropiado\""
   ]
  },
  {
   "cell_type": "markdown",
   "metadata": {},
   "source": [
    "Revisemos el log ahora!"
   ]
  },
  {
   "cell_type": "code",
   "execution_count": 24,
   "metadata": {},
   "outputs": [
    {
     "name": "stdout",
     "output_type": "stream",
     "text": [
      "* 0b9a15a Este nombre es mas apropiado\n",
      "* 0f193d0 He avanzado mucho con mi tarea.\n",
      "* 8947ae7 Nuestro primer commit\n"
     ]
    }
   ],
   "source": [
    "%%bash\n",
    "cd test\n",
    "\n",
    "git slog"
   ]
  },
  {
   "cell_type": "markdown",
   "metadata": {},
   "source": [
    "`git rm` funciona de manera similar"
   ]
  },
  {
   "cell_type": "markdown",
   "metadata": {},
   "source": [
    "### Pongamos a prueba lo aprendido: agreguen un nuevo archivo llamado archivo2.txt, haganle commit, luego cambios y otro commit. Finalmente borrenlo (no olviden el commit!)"
   ]
  },
  {
   "cell_type": "markdown",
   "metadata": {},
   "source": [
    "***\n",
    "***\n",
    "***\n",
    "\n",
    "## 4/ Ramas\n",
    "\n",
    "Introduciremos un concepto importante llamado rama, o branch en ingles.\n",
    "\n",
    "Una rama es simplemente el nombre para una secuencia de commits\n",
    "\n",
    "![master branch](img/masterbranch.png)\n",
    "\n",
    "Podemos tener multiples ramas en nuestro repositorio y la rama de trabajo actual se representa por un puntero especial llamado HEAD. En este ejemplo hay dos ramas, *master* y *testing*, pero *testing* es la rama activa ya que a el le apunta HEAD\n",
    "\n",
    "![head test](img/HEAD_testing.png)\n",
    "\n",
    "Una vez se hagan nuevos commits en una rama, HEAD y el nombre de la rama se mueven con los nuevos commits\n",
    "\n",
    "![branch commit](img/branchcommit.png)\n",
    "\n",
    "Esto permite que los branches diverjan eventualmente\n",
    "\n",
    "![merge](img/mergescenario.png)\n",
    "\n",
    "Y gracias a la estructura de grafo, git puede calcular la informacion necesaria para unir las ramas divergentes para formar una linea continua de desarrollo.\n",
    "\n",
    "![mergeafter](img/mergeaftermath.png)"
   ]
  },
  {
   "cell_type": "markdown",
   "metadata": {},
   "source": [
    "## Usuario local con ramas\n",
    "\n",
    "Ilustraremos esto con un ejemplo concreto. Comencemos por reconocer nuestro estado actual"
   ]
  },
  {
   "cell_type": "code",
   "execution_count": 25,
   "metadata": {},
   "outputs": [
    {
     "name": "stdout",
     "output_type": "stream",
     "text": [
      "On branch master\n",
      "nothing to commit, working tree clean\n",
      "nuevo-archivo.txt\n"
     ]
    }
   ],
   "source": [
    "%%bash\n",
    "cd test\n",
    "\n",
    "git status\n",
    "ls"
   ]
  },
  {
   "cell_type": "markdown",
   "metadata": {},
   "source": [
    "Ahora vamos a intentar dos rutas de desarrollo diferentes: en la rama `master` agregaremos un archivo y en la rama `experimental`, la cual crearemos ahora, agregaremes un archivo diferente. Posteriormente uniremos la rama experimental a la rama `master`"
   ]
  },
  {
   "cell_type": "code",
   "execution_count": 26,
   "metadata": {},
   "outputs": [
    {
     "name": "stderr",
     "output_type": "stream",
     "text": [
      "Switched to branch 'experimental'\n"
     ]
    }
   ],
   "source": [
    "%%bash\n",
    "cd test\n",
    "\n",
    "git branch experimental\n",
    "git checkout experimental"
   ]
  },
  {
   "cell_type": "code",
   "execution_count": 27,
   "metadata": {},
   "outputs": [
    {
     "name": "stdout",
     "output_type": "stream",
     "text": [
      "[experimental 4f96ff4] Intentando algo nuevo\n",
      " 1 file changed, 1 insertion(+)\n",
      " create mode 100644 experimento.txt\n",
      "* 4f96ff4 Intentando algo nuevo\n",
      "* 0b9a15a Este nombre es mas apropiado\n",
      "* 0f193d0 He avanzado mucho con mi tarea.\n",
      "* 8947ae7 Nuestro primer commit\n"
     ]
    }
   ],
   "source": [
    "%%bash\n",
    "cd test\n",
    "\n",
    "echo \"Alguna idea novedosa\" > experimento.txt\n",
    "git add experimento.txt\n",
    "git commit -a -m \"Intentando algo nuevo\"\n",
    "git slog"
   ]
  },
  {
   "cell_type": "code",
   "execution_count": 28,
   "metadata": {},
   "outputs": [
    {
     "name": "stdout",
     "output_type": "stream",
     "text": [
      "* 0b9a15a Este nombre es mas apropiado\n",
      "* 0f193d0 He avanzado mucho con mi tarea.\n",
      "* 8947ae7 Nuestro primer commit\n"
     ]
    },
    {
     "name": "stderr",
     "output_type": "stream",
     "text": [
      "Switched to branch 'master'\n"
     ]
    }
   ],
   "source": [
    "%%bash\n",
    "cd test\n",
    "\n",
    "git checkout master\n",
    "git slog"
   ]
  },
  {
   "cell_type": "code",
   "execution_count": 29,
   "metadata": {},
   "outputs": [
    {
     "name": "stdout",
     "output_type": "stream",
     "text": [
      "[master c84e601] El trabajo principal avanza\n",
      " 1 file changed, 1 insertion(+)\n",
      "* c84e601 El trabajo principal avanza\n",
      "* 0b9a15a Este nombre es mas apropiado\n",
      "* 0f193d0 He avanzado mucho con mi tarea.\n",
      "* 8947ae7 Nuestro primer commit\n"
     ]
    }
   ],
   "source": [
    "%%bash\n",
    "cd test\n",
    "\n",
    "echo \"Mientras avanzo con experimental, le sigo haciendo cambios a master.\" >> nuevo-archivo.txt\n",
    "git commit -a -m \"El trabajo principal avanza\"\n",
    "git slog"
   ]
  },
  {
   "cell_type": "code",
   "execution_count": 30,
   "metadata": {},
   "outputs": [
    {
     "name": "stdout",
     "output_type": "stream",
     "text": [
      "nuevo-archivo.txt\n"
     ]
    }
   ],
   "source": [
    "%%bash\n",
    "cd test\n",
    "\n",
    "ls"
   ]
  },
  {
   "cell_type": "code",
   "execution_count": 31,
   "metadata": {},
   "outputs": [
    {
     "name": "stdout",
     "output_type": "stream",
     "text": [
      "Merge made by the 'recursive' strategy.\n",
      " experimento.txt | 1 +\n",
      " 1 file changed, 1 insertion(+)\n",
      " create mode 100644 experimento.txt\n",
      "*   14bfaa2 Merge branch 'experimental'\n",
      "|\\  \n",
      "| * 4f96ff4 Intentando algo nuevo\n",
      "* | c84e601 El trabajo principal avanza\n",
      "|/  \n",
      "* 0b9a15a Este nombre es mas apropiado\n",
      "* 0f193d0 He avanzado mucho con mi tarea.\n",
      "* 8947ae7 Nuestro primer commit\n"
     ]
    }
   ],
   "source": [
    "%%bash\n",
    "cd test\n",
    "\n",
    "git merge experimental\n",
    "git slog"
   ]
  },
  {
   "cell_type": "markdown",
   "metadata": {},
   "source": [
    "***\n",
    "***\n",
    "***\n",
    "\n",
    "## 5/ Utilizar repositorios remotos como usuario unico\n",
    "\n",
    "Introduciremos el concepto de *repositorio remoto*: Un repositorio que se encuentra en un lugar distinto al lugar de trabajo, esto puede ser en otro directorio o bien algun servidor en internet.\n",
    "\n",
    "Para esta parte ocuparemos repositorios hospedados en [GitHub.com](github.com), pero hay otros como [BitBucket](bitbucket.org) o [GitLab](gitlab.com) donde pueden hospedar sus propios repositorios.\n",
    "\n",
    "Si no tienen una cuenta de GitHub, pueden crear una [aqui](https://github.com/)"
   ]
  },
  {
   "cell_type": "markdown",
   "metadata": {},
   "source": [
    "### `git remote`: ver/modificar repositorios remotos"
   ]
  },
  {
   "cell_type": "code",
   "execution_count": 32,
   "metadata": {},
   "outputs": [
    {
     "name": "stdout",
     "output_type": "stream",
     "text": [
      "experimento.txt\n",
      "nuevo-archivo.txt\n",
      "Veamos si hay algun repositorio remoto aca:\n"
     ]
    }
   ],
   "source": [
    "%%bash\n",
    "cd test\n",
    "\n",
    "ls\n",
    "echo \"Veamos si hay algun repositorio remoto aca:\"\n",
    "git remote -v"
   ]
  },
  {
   "cell_type": "markdown",
   "metadata": {},
   "source": [
    "Podemos ver que no hay ningun repositorio remoto configurado...\n",
    "\n",
    "### Creando un repositorio remoto\n",
    "\n",
    "Inicien sesion en GitHub, vayan a la seccion de [nuevo repositorio](https://github.com/new) y creen un repositorio llamado `test`\n",
    "\n",
    "**No** deben apretar el boton que dice ``Add a README file`` ya que tenemos un repositorio existente local. Esa opcion es util cuando primero creas un repositorio desde GitHub sin tener uno local!\n",
    "\n",
    "Ahora seguimos las instrucciones de la pagina siguiente:"
   ]
  },
  {
   "cell_type": "code",
   "execution_count": 33,
   "metadata": {},
   "outputs": [],
   "source": [
    "%%bash\n",
    "cd test\n",
    "\n",
    "git remote add origin https://github.com/jvines/test.git"
   ]
  },
  {
   "cell_type": "markdown",
   "metadata": {},
   "source": [
    "Revisemos nuevamente nuestros repositorios remotos:"
   ]
  },
  {
   "cell_type": "code",
   "execution_count": 34,
   "metadata": {},
   "outputs": [
    {
     "name": "stdout",
     "output_type": "stream",
     "text": [
      "origin\thttps://github.com/jvines/test.git (fetch)\n",
      "origin\thttps://github.com/jvines/test.git (push)\n"
     ]
    }
   ],
   "source": [
    "%%bash\n",
    "cd test\n",
    "\n",
    "git remote -v"
   ]
  },
  {
   "cell_type": "markdown",
   "metadata": {},
   "source": [
    "Ahora podemos sincronizar nuestro repositorio remoto con la instruccion `push`"
   ]
  },
  {
   "cell_type": "code",
   "execution_count": 38,
   "metadata": {},
   "outputs": [],
   "source": [
    "%%bash\n",
    "cd test\n",
    "\n",
    "# git push origin master"
   ]
  },
  {
   "cell_type": "markdown",
   "metadata": {},
   "source": [
    "Y finalmente [podemos ver nuestro repositorio publico en GitHub](https://github.com/jvines/test.git)"
   ]
  },
  {
   "cell_type": "markdown",
   "metadata": {},
   "source": [
    "Con Git y GitHub podemos facilmente **sincronizar** y **respaldar** nuestro trabajo, asi no se volveran a perder trabajos, manuscritos, codigos, etc, con la falla de un computador; se puede trabajar cooperativamente en equipos sin mayores conflictos; se puede tener documentacion de facil acceso para los usuarios de un proyecto; etc.\n",
    "\n",
    "Ilustraremos la utilidad para respaldar y sincronizar nuestro trabajo entre dos computadores distintos. Vamos a simular el segundo computador con un directorio diferente."
   ]
  },
  {
   "cell_type": "code",
   "execution_count": 39,
   "metadata": {},
   "outputs": [
    {
     "name": "stdout",
     "output_type": "stream",
     "text": [
      "/Users/pulux/Desktop/Science_and_Commit/GitHub/Workshop_2022/1_git_and_github/test2\n",
      "origin\thttps://github.com/jvines/test.git (fetch)\n",
      "origin\thttps://github.com/jvines/test.git (push)\n"
     ]
    },
    {
     "name": "stderr",
     "output_type": "stream",
     "text": [
      "fatal: destination path 'test2' already exists and is not an empty directory.\n"
     ]
    }
   ],
   "source": [
    "%%bash\n",
    "\n",
    "# Ahora clonaremos el repositorio 'test' pero con un nombre diferente, 'test2', para simular un segundo computador\n",
    "git clone https://github.com/jvines/test.git test2\n",
    "cd test2\n",
    "pwd\n",
    "git remote -v"
   ]
  },
  {
   "cell_type": "markdown",
   "metadata": {},
   "source": [
    "Ahora haremos cambios en un «computador» y lo sincronizaremos con el segundo"
   ]
  },
  {
   "cell_type": "code",
   "execution_count": 40,
   "metadata": {},
   "outputs": [
    {
     "name": "stdout",
     "output_type": "stream",
     "text": [
      "[master 14963b2] Mas trabajo, desde el segundo computador.\n",
      " 1 file changed, 1 insertion(+)\n"
     ]
    }
   ],
   "source": [
    "%%bash\n",
    "cd test2  # Trabajaremos en el computador numero 2\n",
    "\n",
    "echo \"Mas contenido experimental\" >> experimento.txt\n",
    "git commit -a -m \"Mas trabajo, desde el segundo computador.\""
   ]
  },
  {
   "cell_type": "markdown",
   "metadata": {},
   "source": [
    "Ahora pondremos este nuevo avance en el servidor de GitHub para que este disponible en internet"
   ]
  },
  {
   "cell_type": "code",
   "execution_count": 42,
   "metadata": {},
   "outputs": [],
   "source": [
    "%%bash\n",
    "cd test2\n",
    "\n",
    "git push origin master"
   ]
  },
  {
   "cell_type": "markdown",
   "metadata": {},
   "source": [
    "Ahora recuperaremos ese trabajo desde la primera «maquina»"
   ]
  },
  {
   "cell_type": "code",
   "execution_count": 38,
   "metadata": {},
   "outputs": [
    {
     "name": "stdout",
     "output_type": "stream",
     "text": [
      "Updating 2b0d5d4..6b79d01\n",
      "Fast-forward\n",
      " experimento.txt | 1 +\n",
      " 1 file changed, 1 insertion(+)\n"
     ]
    },
    {
     "name": "stderr",
     "output_type": "stream",
     "text": [
      "From https://github.com/jvines/test\n",
      " * branch            master     -> FETCH_HEAD\n",
      "   2b0d5d4..6b79d01  master     -> origin/master\n"
     ]
    }
   ],
   "source": [
    "%%bash\n",
    "cd test\n",
    "\n",
    "git pull origin master"
   ]
  },
  {
   "cell_type": "markdown",
   "metadata": {},
   "source": [
    "***\n",
    "***\n",
    "***\n",
    "\n",
    "## 6/ Manejo de conflictos\n",
    "\n",
    "Git es muy bueno para unir ramas, pero si dos ramas diferentes modifican el mismo archivo en el mismo lugar, entonces no es capaz de decidir cual de los cambios debe permanecer. Es entonces que la intervencion humana es encesaria para tomar una decision. Git te ayuda marcando los lugares en el archivo donde hay un problema, pero depende de uno resolver ese conflicto. Veamos como funciona esto provocando un conflicto a proposito\n",
    "\n",
    "Comenzaremos creando uan rama y haciendo un cambio a nuestro archivo experimental:"
   ]
  },
  {
   "cell_type": "code",
   "execution_count": 39,
   "metadata": {},
   "outputs": [
    {
     "name": "stdout",
     "output_type": "stream",
     "text": [
      "[problema e9485be] Cambios en la rama problema.\n",
      " 1 file changed, 1 insertion(+)\n"
     ]
    },
    {
     "name": "stderr",
     "output_type": "stream",
     "text": [
      "Switched to branch 'problema'\n"
     ]
    }
   ],
   "source": [
    "%%bash\n",
    "cd test\n",
    "\n",
    "git branch problema\n",
    "git checkout problema\n",
    "echo \"Esto sera un problema...\" >> experimento.txt\n",
    "git commit -a -m \"Cambios en la rama problema.\""
   ]
  },
  {
   "cell_type": "code",
   "execution_count": 40,
   "metadata": {},
   "outputs": [
    {
     "name": "stdout",
     "output_type": "stream",
     "text": [
      "[master 17274d9] Trabajo principal\n",
      " 1 file changed, 1 insertion(+)\n"
     ]
    },
    {
     "name": "stderr",
     "output_type": "stream",
     "text": [
      "Switched to branch 'master'\n"
     ]
    }
   ],
   "source": [
    "%%bash\n",
    "cd test\n",
    "\n",
    "git checkout master\n",
    "echo \"Mas trabajo en la rama master...\" >> experimento.txt\n",
    "git commit -a -m \"Trabajo principal\""
   ]
  },
  {
   "cell_type": "markdown",
   "metadata": {},
   "source": [
    "### El conflicto!\n",
    "\n",
    "Ahora veamos que ocurre si intentamos unir la rama `problema` con master"
   ]
  },
  {
   "cell_type": "code",
   "execution_count": 41,
   "metadata": {},
   "outputs": [
    {
     "name": "stdout",
     "output_type": "stream",
     "text": [
      "Auto-merging experimento.txt\n",
      "CONFLICT (content): Merge conflict in experimento.txt\n",
      "Automatic merge failed; fix conflicts and then commit the result.\n"
     ]
    },
    {
     "ename": "CalledProcessError",
     "evalue": "Command 'b'cd test\\n\\ngit merge problema\\n'' returned non-zero exit status 1.",
     "output_type": "error",
     "traceback": [
      "\u001b[0;31m---------------------------------------------------------------------------\u001b[0m",
      "\u001b[0;31mCalledProcessError\u001b[0m                        Traceback (most recent call last)",
      "\u001b[0;32m<ipython-input-41-90567c116f21>\u001b[0m in \u001b[0;36m<module>\u001b[0;34m\u001b[0m\n\u001b[0;32m----> 1\u001b[0;31m \u001b[0mget_ipython\u001b[0m\u001b[0;34m(\u001b[0m\u001b[0;34m)\u001b[0m\u001b[0;34m.\u001b[0m\u001b[0mrun_cell_magic\u001b[0m\u001b[0;34m(\u001b[0m\u001b[0;34m'bash'\u001b[0m\u001b[0;34m,\u001b[0m \u001b[0;34m''\u001b[0m\u001b[0;34m,\u001b[0m \u001b[0;34m'cd test\\n\\ngit merge problema\\n'\u001b[0m\u001b[0;34m)\u001b[0m\u001b[0;34m\u001b[0m\u001b[0;34m\u001b[0m\u001b[0m\n\u001b[0m",
      "\u001b[0;32m/anaconda3/lib/python3.7/site-packages/IPython/core/interactiveshell.py\u001b[0m in \u001b[0;36mrun_cell_magic\u001b[0;34m(self, magic_name, line, cell)\u001b[0m\n\u001b[1;32m   2360\u001b[0m             \u001b[0;32mwith\u001b[0m \u001b[0mself\u001b[0m\u001b[0;34m.\u001b[0m\u001b[0mbuiltin_trap\u001b[0m\u001b[0;34m:\u001b[0m\u001b[0;34m\u001b[0m\u001b[0;34m\u001b[0m\u001b[0m\n\u001b[1;32m   2361\u001b[0m                 \u001b[0margs\u001b[0m \u001b[0;34m=\u001b[0m \u001b[0;34m(\u001b[0m\u001b[0mmagic_arg_s\u001b[0m\u001b[0;34m,\u001b[0m \u001b[0mcell\u001b[0m\u001b[0;34m)\u001b[0m\u001b[0;34m\u001b[0m\u001b[0;34m\u001b[0m\u001b[0m\n\u001b[0;32m-> 2362\u001b[0;31m                 \u001b[0mresult\u001b[0m \u001b[0;34m=\u001b[0m \u001b[0mfn\u001b[0m\u001b[0;34m(\u001b[0m\u001b[0;34m*\u001b[0m\u001b[0margs\u001b[0m\u001b[0;34m,\u001b[0m \u001b[0;34m**\u001b[0m\u001b[0mkwargs\u001b[0m\u001b[0;34m)\u001b[0m\u001b[0;34m\u001b[0m\u001b[0;34m\u001b[0m\u001b[0m\n\u001b[0m\u001b[1;32m   2363\u001b[0m             \u001b[0;32mreturn\u001b[0m \u001b[0mresult\u001b[0m\u001b[0;34m\u001b[0m\u001b[0;34m\u001b[0m\u001b[0m\n\u001b[1;32m   2364\u001b[0m \u001b[0;34m\u001b[0m\u001b[0m\n",
      "\u001b[0;32m/anaconda3/lib/python3.7/site-packages/IPython/core/magics/script.py\u001b[0m in \u001b[0;36mnamed_script_magic\u001b[0;34m(line, cell)\u001b[0m\n\u001b[1;32m    140\u001b[0m             \u001b[0;32melse\u001b[0m\u001b[0;34m:\u001b[0m\u001b[0;34m\u001b[0m\u001b[0;34m\u001b[0m\u001b[0m\n\u001b[1;32m    141\u001b[0m                 \u001b[0mline\u001b[0m \u001b[0;34m=\u001b[0m \u001b[0mscript\u001b[0m\u001b[0;34m\u001b[0m\u001b[0;34m\u001b[0m\u001b[0m\n\u001b[0;32m--> 142\u001b[0;31m             \u001b[0;32mreturn\u001b[0m \u001b[0mself\u001b[0m\u001b[0;34m.\u001b[0m\u001b[0mshebang\u001b[0m\u001b[0;34m(\u001b[0m\u001b[0mline\u001b[0m\u001b[0;34m,\u001b[0m \u001b[0mcell\u001b[0m\u001b[0;34m)\u001b[0m\u001b[0;34m\u001b[0m\u001b[0;34m\u001b[0m\u001b[0m\n\u001b[0m\u001b[1;32m    143\u001b[0m \u001b[0;34m\u001b[0m\u001b[0m\n\u001b[1;32m    144\u001b[0m         \u001b[0;31m# write a basic docstring:\u001b[0m\u001b[0;34m\u001b[0m\u001b[0;34m\u001b[0m\u001b[0;34m\u001b[0m\u001b[0m\n",
      "\u001b[0;32m<decorator-gen-110>\u001b[0m in \u001b[0;36mshebang\u001b[0;34m(self, line, cell)\u001b[0m\n",
      "\u001b[0;32m/anaconda3/lib/python3.7/site-packages/IPython/core/magic.py\u001b[0m in \u001b[0;36m<lambda>\u001b[0;34m(f, *a, **k)\u001b[0m\n\u001b[1;32m    185\u001b[0m     \u001b[0;31m# but it's overkill for just that one bit of state.\u001b[0m\u001b[0;34m\u001b[0m\u001b[0;34m\u001b[0m\u001b[0;34m\u001b[0m\u001b[0m\n\u001b[1;32m    186\u001b[0m     \u001b[0;32mdef\u001b[0m \u001b[0mmagic_deco\u001b[0m\u001b[0;34m(\u001b[0m\u001b[0marg\u001b[0m\u001b[0;34m)\u001b[0m\u001b[0;34m:\u001b[0m\u001b[0;34m\u001b[0m\u001b[0;34m\u001b[0m\u001b[0m\n\u001b[0;32m--> 187\u001b[0;31m         \u001b[0mcall\u001b[0m \u001b[0;34m=\u001b[0m \u001b[0;32mlambda\u001b[0m \u001b[0mf\u001b[0m\u001b[0;34m,\u001b[0m \u001b[0;34m*\u001b[0m\u001b[0ma\u001b[0m\u001b[0;34m,\u001b[0m \u001b[0;34m**\u001b[0m\u001b[0mk\u001b[0m\u001b[0;34m:\u001b[0m \u001b[0mf\u001b[0m\u001b[0;34m(\u001b[0m\u001b[0;34m*\u001b[0m\u001b[0ma\u001b[0m\u001b[0;34m,\u001b[0m \u001b[0;34m**\u001b[0m\u001b[0mk\u001b[0m\u001b[0;34m)\u001b[0m\u001b[0;34m\u001b[0m\u001b[0;34m\u001b[0m\u001b[0m\n\u001b[0m\u001b[1;32m    188\u001b[0m \u001b[0;34m\u001b[0m\u001b[0m\n\u001b[1;32m    189\u001b[0m         \u001b[0;32mif\u001b[0m \u001b[0mcallable\u001b[0m\u001b[0;34m(\u001b[0m\u001b[0marg\u001b[0m\u001b[0;34m)\u001b[0m\u001b[0;34m:\u001b[0m\u001b[0;34m\u001b[0m\u001b[0;34m\u001b[0m\u001b[0m\n",
      "\u001b[0;32m/anaconda3/lib/python3.7/site-packages/IPython/core/magics/script.py\u001b[0m in \u001b[0;36mshebang\u001b[0;34m(self, line, cell)\u001b[0m\n\u001b[1;32m    243\u001b[0m             \u001b[0msys\u001b[0m\u001b[0;34m.\u001b[0m\u001b[0mstderr\u001b[0m\u001b[0;34m.\u001b[0m\u001b[0mflush\u001b[0m\u001b[0;34m(\u001b[0m\u001b[0;34m)\u001b[0m\u001b[0;34m\u001b[0m\u001b[0;34m\u001b[0m\u001b[0m\n\u001b[1;32m    244\u001b[0m         \u001b[0;32mif\u001b[0m \u001b[0margs\u001b[0m\u001b[0;34m.\u001b[0m\u001b[0mraise_error\u001b[0m \u001b[0;32mand\u001b[0m \u001b[0mp\u001b[0m\u001b[0;34m.\u001b[0m\u001b[0mreturncode\u001b[0m\u001b[0;34m!=\u001b[0m\u001b[0;36m0\u001b[0m\u001b[0;34m:\u001b[0m\u001b[0;34m\u001b[0m\u001b[0;34m\u001b[0m\u001b[0m\n\u001b[0;32m--> 245\u001b[0;31m             \u001b[0;32mraise\u001b[0m \u001b[0mCalledProcessError\u001b[0m\u001b[0;34m(\u001b[0m\u001b[0mp\u001b[0m\u001b[0;34m.\u001b[0m\u001b[0mreturncode\u001b[0m\u001b[0;34m,\u001b[0m \u001b[0mcell\u001b[0m\u001b[0;34m,\u001b[0m \u001b[0moutput\u001b[0m\u001b[0;34m=\u001b[0m\u001b[0mout\u001b[0m\u001b[0;34m,\u001b[0m \u001b[0mstderr\u001b[0m\u001b[0;34m=\u001b[0m\u001b[0merr\u001b[0m\u001b[0;34m)\u001b[0m\u001b[0;34m\u001b[0m\u001b[0;34m\u001b[0m\u001b[0m\n\u001b[0m\u001b[1;32m    246\u001b[0m \u001b[0;34m\u001b[0m\u001b[0m\n\u001b[1;32m    247\u001b[0m     \u001b[0;32mdef\u001b[0m \u001b[0m_run_script\u001b[0m\u001b[0;34m(\u001b[0m\u001b[0mself\u001b[0m\u001b[0;34m,\u001b[0m \u001b[0mp\u001b[0m\u001b[0;34m,\u001b[0m \u001b[0mcell\u001b[0m\u001b[0;34m,\u001b[0m \u001b[0mto_close\u001b[0m\u001b[0;34m)\u001b[0m\u001b[0;34m:\u001b[0m\u001b[0;34m\u001b[0m\u001b[0;34m\u001b[0m\u001b[0m\n",
      "\u001b[0;31mCalledProcessError\u001b[0m: Command 'b'cd test\\n\\ngit merge problema\\n'' returned non-zero exit status 1."
     ]
    }
   ],
   "source": [
    "%%bash\n",
    "cd test\n",
    "\n",
    "git merge problema"
   ]
  },
  {
   "cell_type": "markdown",
   "metadata": {},
   "source": [
    "Ignoremos el error de Python llamado CalledProcessError que viene de git por no poder unir las ramas y concentremosnos en git.\n",
    "\n",
    "Comencemos por revisar nuestro archivo"
   ]
  },
  {
   "cell_type": "code",
   "execution_count": 42,
   "metadata": {},
   "outputs": [
    {
     "name": "stdout",
     "output_type": "stream",
     "text": [
      "Alguna idea novedosa\n",
      "Mas contenido experimental\n",
      "<<<<<<< HEAD\n",
      "Mas trabajo en la rama master...\n",
      "=======\n",
      "Esto sera un problema...\n",
      ">>>>>>> problema\n"
     ]
    }
   ],
   "source": [
    "%%bash\n",
    "cd test\n",
    "\n",
    "cat experimento.txt"
   ]
  },
  {
   "cell_type": "markdown",
   "metadata": {},
   "source": [
    "Ahora es cuando entramos al archivo con un editor de texto, decidimos que cambios conservar, y hacemos un nuevo commit con nuestra decision. En este caso decidi que ambas adiciones son utiles, pero los integre con algun cambio"
   ]
  },
  {
   "cell_type": "code",
   "execution_count": 43,
   "metadata": {},
   "outputs": [
    {
     "name": "stdout",
     "output_type": "stream",
     "text": [
      "Alguna idea novedosa\n",
      "Mas contenido experimental\n",
      "Mas trabajo en la rama master...\n",
      "Esto sera un problema...\n"
     ]
    }
   ],
   "source": [
    "%%bash\n",
    "cd test\n",
    "\n",
    "cat experimento.txt"
   ]
  },
  {
   "cell_type": "markdown",
   "metadata": {},
   "source": [
    "Ahora hacemos nuestro nuevo commit"
   ]
  },
  {
   "cell_type": "code",
   "execution_count": 44,
   "metadata": {},
   "outputs": [
    {
     "name": "stdout",
     "output_type": "stream",
     "text": [
      "[master d8afb13] Terminado el merge de problema, arregle los conflictos.\n",
      "*   d8afb13 Terminado el merge de problema, arregle los conflictos.\n",
      "|\\  \n",
      "| * e9485be Cambios en la rama problema.\n",
      "* | 17274d9 Trabajo principal\n",
      "|/  \n",
      "* 6b79d01 Mas trabajo, desde el segundo computador.\n",
      "*   2b0d5d4 Merge branch 'experimental'\n",
      "|\\  \n",
      "| * 864b2dd Intentando algo nuevo\n",
      "* | 230607b El trabajo principal avanza\n",
      "|/  \n",
      "* 0759aeb Este nombre es mas apropiado\n",
      "* 0a35c94 He avanzado mucho con mi tarea.\n",
      "* 242be32 Nuestro primer commit\n"
     ]
    }
   ],
   "source": [
    "%%bash\n",
    "cd test\n",
    "\n",
    "git commit -a -m \"Terminado el merge de problema, arregle los conflictos.\"\n",
    "git slog"
   ]
  },
  {
   "cell_type": "markdown",
   "metadata": {},
   "source": []
  },
  {
   "cell_type": "markdown",
   "metadata": {},
   "source": [
    "***\n",
    "***\n",
    "***\n",
    "\n",
    "## 7/ Actividad\n",
    "\n",
    "Arbol de commits que utilizaremos para una pequeña actividad donde pondremos a prueba los conceptos recién presentados. La flecha azul es el head que apunta al commit más reciente. Los numeros y letras representan el hash de cada commit.\n",
    "\n",
    "<img src=\"img/tree.png\" alt=\"Drawing\" style=\"width: 100px;\"/>\n",
    "\n",
    "\n",
    "### Caso 1\n",
    "\n",
    "Digamos que la imágen muestra el estado actual del árbol en nuestra computadora (91e1 es el último commit). Ejecutamos el comando `git pull` para actualizar nuestro árbol local con las ultimas actualizaciones remotas. \n",
    "\n",
    "Dibuja lo que le sucede al árbol local en cada uno de los siguientes escenarios:\n",
    "\n",
    "- La rama remota está adelantada por un commit con hash 832e.\n",
    "\n",
    "- La rama remota también tiene tres commits, pero el tercero es 832e en lugar de 91e1.\n",
    "\n",
    "(Sugerencia: Crea un repositorio de prueba si te confundes)\n",
    "\n",
    "\n",
    "### Caso 2\n",
    "\n",
    "Ups, acabo de hacer un commit y me di cuenta que lo que agregué en el proyecto está malo y quiero revertir estos cambios. Hay dos formas de revertir este commit indeseado.\n",
    "\n",
    " `git revert 91e1` <br>\n",
    " `git reset --hard 8a6c`\n",
    "\n",
    "- Que sucede con el árbol de commits de git en cada uno de estos casos?\n",
    "\n",
    "- Cuál es el momento adecuado para usar cada uno de estos comandos?"
   ]
  },
  {
   "cell_type": "code",
   "execution_count": null,
   "metadata": {},
   "outputs": [],
   "source": []
  }
 ],
 "metadata": {
  "kernelspec": {
   "display_name": "Python 3",
   "language": "python",
   "name": "python3"
  },
  "language_info": {
   "codemirror_mode": {
    "name": "ipython",
    "version": 3
   },
   "file_extension": ".py",
   "mimetype": "text/x-python",
   "name": "python",
   "nbconvert_exporter": "python",
   "pygments_lexer": "ipython3",
   "version": "3.8.5"
  }
 },
 "nbformat": 4,
 "nbformat_minor": 4
}
