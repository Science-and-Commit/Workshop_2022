{
 "cells": [
  {
   "cell_type": "markdown",
   "metadata": {},
   "source": [
    "# Numpy & Pandas\n",
    "\n",
    "Tutorial basado en Code/Astro"
   ]
  },
  {
   "cell_type": "markdown",
   "metadata": {},
   "source": [
    "# A. Numpy & Arrays\n",
    "\n",
    "Numpy es una poderosa librería numérica que es esencial para cualquiera que analice datos con Python. Numpy es un paquete enorme que puede admitir una multitud de tareas. Numpy también está vinculado a SciPy, una poderosa librería para computación científica con capacidades de ajuste, álgebra lineal, machine learning, etc. Aquí solo cubriremos algunos de los conceptos básicos de numpy, pero le animamos a que consulte el páginas de documentación (https://numpy.org/doc/stable/) para tener una idea de la variedad de cosas que puede hacer.\n",
    "\n",
    "Los arrays son un tipo de datos que es fundamental para Numpy. De alguna manera, las matrices Numpy son como listas de Python:\n",
    "- ambas se utilizan para almacenar datos/objetos\n",
    "- ambas son mutables\n",
    "- los elementos se pueden extraer de ambas mediante la indexación y el corte\n",
    "- ambas pueden ser iterados\n",
    "\n",
    "Sin embargo, hay aspectos clave de los arrays que las hacen muy diferentes:\n",
    "- la mayoría de los operadores actúan sobre los elementos de una matriz en lugar de la matriz como un todo\n",
    "- los arrays solo pueden contener datos de un solo tipo\n",
    "- los arrays pueden almacenar de manera eficiente grandes cantidades de datos en la memoria"
   ]
  },
  {
   "cell_type": "code",
   "execution_count": 1,
   "metadata": {},
   "outputs": [],
   "source": [
    "import numpy as np\n",
    "\n",
    "# creemos listas simples\n",
    "xlist = [1, 2, 3, 4]\n",
    "ylist = [1, 4, 9, 16]\n",
    "\n",
    "# creemos arrays siimples\n",
    "x = np.array([1, 2, 3, 4])\n",
    "y = np.array([1, 4, 9, 16])"
   ]
  },
  {
   "cell_type": "markdown",
   "metadata": {},
   "source": [
    "Primero, veamos los diferentes comportamientos entre listas y arrays."
   ]
  },
  {
   "cell_type": "code",
   "execution_count": null,
   "metadata": {},
   "outputs": [],
   "source": [
    "print(xlist * 4)\n",
    "\n",
    "print(x * 4)\n",
    "\n",
    "print(x / 4)\n",
    "\n",
    "print(xlist / 4)"
   ]
  },
  {
   "cell_type": "markdown",
   "metadata": {},
   "source": [
    "Observe cómo la lista se repitió 4 veces, mientras que cada elemento del array se multiplicó por 4 y el resultado terminó siendo de la misma longitud.\n",
    "\n",
    "La división funciona por elementos para los arrays, pero no está definida y produce un error cuando se realiza en una lista."
   ]
  },
  {
   "cell_type": "markdown",
   "metadata": {},
   "source": [
    "## Iterating, indexing, and slicing\n",
    "\n",
    "Iterar sobre un array 1D se parece a iterar sobre una lista"
   ]
  },
  {
   "cell_type": "code",
   "execution_count": null,
   "metadata": {},
   "outputs": [],
   "source": [
    "for val in xlist:\n",
    "    print(val)\n",
    "\n",
    "for val in x:\n",
    "    print(val)"
   ]
  },
  {
   "cell_type": "markdown",
   "metadata": {},
   "source": [
    "La iteración de un array N-dimensional iterará a lo largo de la primera dimensión."
   ]
  },
  {
   "cell_type": "code",
   "execution_count": null,
   "metadata": {},
   "outputs": [],
   "source": [
    "y = np.zeros((5, 5))\n",
    "\n",
    "for val in y:\n",
    "    print(val)\n",
    "\n",
    "print()\n",
    "# you could accomplish the same thing like this (but you probably shouldn't)\n",
    "for i in range(y.shape[0]):\n",
    "    val = y[i, :]\n",
    "    print(val)"
   ]
  },
  {
   "cell_type": "markdown",
   "metadata": {},
   "source": [
    "También podemos seleccionar subconjuntos del array usando condicionales."
   ]
  },
  {
   "cell_type": "code",
   "execution_count": null,
   "metadata": {},
   "outputs": [],
   "source": [
    "xs = x[x < 2]\n",
    "xs"
   ]
  },
  {
   "cell_type": "markdown",
   "metadata": {},
   "source": [
    "# B. Pandas\n",
    "\n",
    "Pandas es un poderoso paquete de análisis de datos que proporciona herramientas para manipular datos tabulares. Esto es particularmente útil en muchas aplicaciones astronómicas, como la espectroscopia y las series temporales. Los datos se organizan en filas y columnas donde las columnas se nombran y recuperan utilizando objetos arbitrarios de Python (las cadenas son las más convenientes). Esto contrasta con las matrices Numpy donde solo se puede acceder a las columnas mediante índices enteros (sin embargo, consulte las matrices de registros https://docs.scipy.org/doc/numpy-1.10.1/user/basics.rec.html).\n",
    "\n",
    "Ordenar, consultar, fusionar y agregar son algunas de las características más útiles de Pandas, pero este tutorial solo arañará la superficie. Consulte https://pandas.pydata.org/docs/ para obtener la documentación completa.\n",
    "\n",
    "Pandas es más útil para manejar conjuntos de datos heterogéneos y/o grandes, cuando se necesitan fusiones o consultas complejas, o si tiene metadatos asociados con columnas (por ejemplo, strings como labels)."
   ]
  },
  {
   "cell_type": "markdown",
   "metadata": {},
   "source": [
    "Las unidades/objetos básicos en Pandas son los objetos Series y DataFrame."
   ]
  },
  {
   "cell_type": "code",
   "execution_count": 2,
   "metadata": {},
   "outputs": [
    {
     "name": "stdout",
     "output_type": "stream",
     "text": [
      "0     1.0\n",
      "1     2.0\n",
      "2     4.4\n",
      "3     4.5\n",
      "4     8.8\n",
      "5     9.1\n",
      "6     8.7\n",
      "7     2.3\n",
      "8     2.4\n",
      "9     3.1\n",
      "10    5.9\n",
      "dtype: float64\n"
     ]
    }
   ],
   "source": [
    "import pandas as pd\n",
    "\n",
    "# Creemos un objeto Series simple\n",
    "x = [1.0, 2.0, 4.4, 4.5, 8.8, 9.1, 8.7, 2.3, 2.4, 3.1, 5.9]\n",
    "s = pd.Series(x)\n",
    "\n",
    "print(s)"
   ]
  },
  {
   "cell_type": "markdown",
   "metadata": {},
   "source": [
    "Rellenamos una serie a partir de una lista de números float. Observe que se imprimen dos columnas en la salida. Cada entrada en una Serie tiene un índice entero correspondiente, generalmente estos índices se crean automáticamente. El tipo de datos de la serie está impreso debajo de la propia Serie. Los objetos de serie solo pueden almacenar datos de un solo tipo, pero se puede almacenar cualquier tipo de datos.\n",
    "\n",
    "Una serie es como una sola columna de datos en una tabla. Un DataFrame es el objeto Pandas que representa una tabla completa. Cada columna de la tabla es una Serie.\n",
    "\n",
    "Hay varias formas de construir un Pandas DataFrame, incluso desde matrices Numpy, diccionarios Python, una lista de objetos Series, lectura desde un CSV, lectura desde una URL, etc.\n",
    "\n",
    "Primero construyamos un DataFrame de una sola columna de nuestra serie `s`."
   ]
  },
  {
   "cell_type": "code",
   "execution_count": 4,
   "metadata": {},
   "outputs": [
    {
     "data": {
      "text/html": [
       "<div>\n",
       "<style scoped>\n",
       "    .dataframe tbody tr th:only-of-type {\n",
       "        vertical-align: middle;\n",
       "    }\n",
       "\n",
       "    .dataframe tbody tr th {\n",
       "        vertical-align: top;\n",
       "    }\n",
       "\n",
       "    .dataframe thead th {\n",
       "        text-align: right;\n",
       "    }\n",
       "</style>\n",
       "<table border=\"1\" class=\"dataframe\">\n",
       "  <thead>\n",
       "    <tr style=\"text-align: right;\">\n",
       "      <th></th>\n",
       "      <th>sample</th>\n",
       "    </tr>\n",
       "  </thead>\n",
       "  <tbody>\n",
       "    <tr>\n",
       "      <th>0</th>\n",
       "      <td>1.0</td>\n",
       "    </tr>\n",
       "    <tr>\n",
       "      <th>1</th>\n",
       "      <td>2.0</td>\n",
       "    </tr>\n",
       "    <tr>\n",
       "      <th>2</th>\n",
       "      <td>4.4</td>\n",
       "    </tr>\n",
       "    <tr>\n",
       "      <th>3</th>\n",
       "      <td>4.5</td>\n",
       "    </tr>\n",
       "    <tr>\n",
       "      <th>4</th>\n",
       "      <td>8.8</td>\n",
       "    </tr>\n",
       "    <tr>\n",
       "      <th>5</th>\n",
       "      <td>9.1</td>\n",
       "    </tr>\n",
       "    <tr>\n",
       "      <th>6</th>\n",
       "      <td>8.7</td>\n",
       "    </tr>\n",
       "    <tr>\n",
       "      <th>7</th>\n",
       "      <td>2.3</td>\n",
       "    </tr>\n",
       "    <tr>\n",
       "      <th>8</th>\n",
       "      <td>2.4</td>\n",
       "    </tr>\n",
       "    <tr>\n",
       "      <th>9</th>\n",
       "      <td>3.1</td>\n",
       "    </tr>\n",
       "    <tr>\n",
       "      <th>10</th>\n",
       "      <td>5.9</td>\n",
       "    </tr>\n",
       "  </tbody>\n",
       "</table>\n",
       "</div>"
      ],
      "text/plain": [
       "    sample\n",
       "0      1.0\n",
       "1      2.0\n",
       "2      4.4\n",
       "3      4.5\n",
       "4      8.8\n",
       "5      9.1\n",
       "6      8.7\n",
       "7      2.3\n",
       "8      2.4\n",
       "9      3.1\n",
       "10     5.9"
      ]
     },
     "execution_count": 4,
     "metadata": {},
     "output_type": "execute_result"
    }
   ],
   "source": [
    "df = pd.DataFrame(s, columns=['sample'])\n",
    "df"
   ]
  },
  {
   "cell_type": "markdown",
   "metadata": {},
   "source": [
    "Jupyter tiene soporte especial para mostrar DataFrames, simplemente escribiendo el nombre de la variable de un DataFrame al final de la celda presentará una vista bien formateada de la tabla.\n",
    "\n",
    "Agreguemos algunas columnas más a nuestro DataFrame."
   ]
  },
  {
   "cell_type": "code",
   "execution_count": 5,
   "metadata": {},
   "outputs": [
    {
     "data": {
      "text/html": [
       "<div>\n",
       "<style scoped>\n",
       "    .dataframe tbody tr th:only-of-type {\n",
       "        vertical-align: middle;\n",
       "    }\n",
       "\n",
       "    .dataframe tbody tr th {\n",
       "        vertical-align: top;\n",
       "    }\n",
       "\n",
       "    .dataframe thead th {\n",
       "        text-align: right;\n",
       "    }\n",
       "</style>\n",
       "<table border=\"1\" class=\"dataframe\">\n",
       "  <thead>\n",
       "    <tr style=\"text-align: right;\">\n",
       "      <th></th>\n",
       "      <th>sample</th>\n",
       "      <th>sample_base</th>\n",
       "      <th>sample_plus1</th>\n",
       "      <th>sample_squared</th>\n",
       "    </tr>\n",
       "  </thead>\n",
       "  <tbody>\n",
       "    <tr>\n",
       "      <th>0</th>\n",
       "      <td>1.0</td>\n",
       "      <td>1.0</td>\n",
       "      <td>2.0</td>\n",
       "      <td>1.00</td>\n",
       "    </tr>\n",
       "    <tr>\n",
       "      <th>1</th>\n",
       "      <td>2.0</td>\n",
       "      <td>2.0</td>\n",
       "      <td>3.0</td>\n",
       "      <td>4.00</td>\n",
       "    </tr>\n",
       "    <tr>\n",
       "      <th>2</th>\n",
       "      <td>4.4</td>\n",
       "      <td>4.0</td>\n",
       "      <td>5.4</td>\n",
       "      <td>19.36</td>\n",
       "    </tr>\n",
       "    <tr>\n",
       "      <th>3</th>\n",
       "      <td>4.5</td>\n",
       "      <td>4.0</td>\n",
       "      <td>5.5</td>\n",
       "      <td>20.25</td>\n",
       "    </tr>\n",
       "    <tr>\n",
       "      <th>4</th>\n",
       "      <td>8.8</td>\n",
       "      <td>8.0</td>\n",
       "      <td>9.8</td>\n",
       "      <td>77.44</td>\n",
       "    </tr>\n",
       "    <tr>\n",
       "      <th>5</th>\n",
       "      <td>9.1</td>\n",
       "      <td>9.0</td>\n",
       "      <td>10.1</td>\n",
       "      <td>82.81</td>\n",
       "    </tr>\n",
       "    <tr>\n",
       "      <th>6</th>\n",
       "      <td>8.7</td>\n",
       "      <td>8.0</td>\n",
       "      <td>9.7</td>\n",
       "      <td>75.69</td>\n",
       "    </tr>\n",
       "    <tr>\n",
       "      <th>7</th>\n",
       "      <td>2.3</td>\n",
       "      <td>2.0</td>\n",
       "      <td>3.3</td>\n",
       "      <td>5.29</td>\n",
       "    </tr>\n",
       "    <tr>\n",
       "      <th>8</th>\n",
       "      <td>2.4</td>\n",
       "      <td>2.0</td>\n",
       "      <td>3.4</td>\n",
       "      <td>5.76</td>\n",
       "    </tr>\n",
       "    <tr>\n",
       "      <th>9</th>\n",
       "      <td>3.1</td>\n",
       "      <td>3.0</td>\n",
       "      <td>4.1</td>\n",
       "      <td>9.61</td>\n",
       "    </tr>\n",
       "    <tr>\n",
       "      <th>10</th>\n",
       "      <td>5.9</td>\n",
       "      <td>5.0</td>\n",
       "      <td>6.9</td>\n",
       "      <td>34.81</td>\n",
       "    </tr>\n",
       "  </tbody>\n",
       "</table>\n",
       "</div>"
      ],
      "text/plain": [
       "    sample  sample_base  sample_plus1  sample_squared\n",
       "0      1.0          1.0           2.0            1.00\n",
       "1      2.0          2.0           3.0            4.00\n",
       "2      4.4          4.0           5.4           19.36\n",
       "3      4.5          4.0           5.5           20.25\n",
       "4      8.8          8.0           9.8           77.44\n",
       "5      9.1          9.0          10.1           82.81\n",
       "6      8.7          8.0           9.7           75.69\n",
       "7      2.3          2.0           3.3            5.29\n",
       "8      2.4          2.0           3.4            5.76\n",
       "9      3.1          3.0           4.1            9.61\n",
       "10     5.9          5.0           6.9           34.81"
      ]
     },
     "execution_count": 5,
     "metadata": {},
     "output_type": "execute_result"
    }
   ],
   "source": [
    "df['sample_base'] = df['sample'] // 1\n",
    "df['sample_plus1'] = df['sample'] + 1\n",
    "df['sample_squared'] = df['sample']**2\n",
    "df"
   ]
  },
  {
   "cell_type": "markdown",
   "metadata": {},
   "source": [
    "Note que podemos acceder a los valores en una columna usando dos sintaxis diferentes.\n",
    "\n",
    "Ahora ordene a partir de la columna `sample_squared`"
   ]
  },
  {
   "cell_type": "code",
   "execution_count": 6,
   "metadata": {},
   "outputs": [
    {
     "data": {
      "text/html": [
       "<div>\n",
       "<style scoped>\n",
       "    .dataframe tbody tr th:only-of-type {\n",
       "        vertical-align: middle;\n",
       "    }\n",
       "\n",
       "    .dataframe tbody tr th {\n",
       "        vertical-align: top;\n",
       "    }\n",
       "\n",
       "    .dataframe thead th {\n",
       "        text-align: right;\n",
       "    }\n",
       "</style>\n",
       "<table border=\"1\" class=\"dataframe\">\n",
       "  <thead>\n",
       "    <tr style=\"text-align: right;\">\n",
       "      <th></th>\n",
       "      <th>sample</th>\n",
       "      <th>sample_base</th>\n",
       "      <th>sample_plus1</th>\n",
       "      <th>sample_squared</th>\n",
       "    </tr>\n",
       "  </thead>\n",
       "  <tbody>\n",
       "    <tr>\n",
       "      <th>0</th>\n",
       "      <td>1.0</td>\n",
       "      <td>1.0</td>\n",
       "      <td>2.0</td>\n",
       "      <td>1.00</td>\n",
       "    </tr>\n",
       "    <tr>\n",
       "      <th>1</th>\n",
       "      <td>2.0</td>\n",
       "      <td>2.0</td>\n",
       "      <td>3.0</td>\n",
       "      <td>4.00</td>\n",
       "    </tr>\n",
       "    <tr>\n",
       "      <th>7</th>\n",
       "      <td>2.3</td>\n",
       "      <td>2.0</td>\n",
       "      <td>3.3</td>\n",
       "      <td>5.29</td>\n",
       "    </tr>\n",
       "    <tr>\n",
       "      <th>8</th>\n",
       "      <td>2.4</td>\n",
       "      <td>2.0</td>\n",
       "      <td>3.4</td>\n",
       "      <td>5.76</td>\n",
       "    </tr>\n",
       "    <tr>\n",
       "      <th>9</th>\n",
       "      <td>3.1</td>\n",
       "      <td>3.0</td>\n",
       "      <td>4.1</td>\n",
       "      <td>9.61</td>\n",
       "    </tr>\n",
       "    <tr>\n",
       "      <th>2</th>\n",
       "      <td>4.4</td>\n",
       "      <td>4.0</td>\n",
       "      <td>5.4</td>\n",
       "      <td>19.36</td>\n",
       "    </tr>\n",
       "    <tr>\n",
       "      <th>3</th>\n",
       "      <td>4.5</td>\n",
       "      <td>4.0</td>\n",
       "      <td>5.5</td>\n",
       "      <td>20.25</td>\n",
       "    </tr>\n",
       "    <tr>\n",
       "      <th>10</th>\n",
       "      <td>5.9</td>\n",
       "      <td>5.0</td>\n",
       "      <td>6.9</td>\n",
       "      <td>34.81</td>\n",
       "    </tr>\n",
       "    <tr>\n",
       "      <th>6</th>\n",
       "      <td>8.7</td>\n",
       "      <td>8.0</td>\n",
       "      <td>9.7</td>\n",
       "      <td>75.69</td>\n",
       "    </tr>\n",
       "    <tr>\n",
       "      <th>4</th>\n",
       "      <td>8.8</td>\n",
       "      <td>8.0</td>\n",
       "      <td>9.8</td>\n",
       "      <td>77.44</td>\n",
       "    </tr>\n",
       "    <tr>\n",
       "      <th>5</th>\n",
       "      <td>9.1</td>\n",
       "      <td>9.0</td>\n",
       "      <td>10.1</td>\n",
       "      <td>82.81</td>\n",
       "    </tr>\n",
       "  </tbody>\n",
       "</table>\n",
       "</div>"
      ],
      "text/plain": [
       "    sample  sample_base  sample_plus1  sample_squared\n",
       "0      1.0          1.0           2.0            1.00\n",
       "1      2.0          2.0           3.0            4.00\n",
       "7      2.3          2.0           3.3            5.29\n",
       "8      2.4          2.0           3.4            5.76\n",
       "9      3.1          3.0           4.1            9.61\n",
       "2      4.4          4.0           5.4           19.36\n",
       "3      4.5          4.0           5.5           20.25\n",
       "10     5.9          5.0           6.9           34.81\n",
       "6      8.7          8.0           9.7           75.69\n",
       "4      8.8          8.0           9.8           77.44\n",
       "5      9.1          9.0          10.1           82.81"
      ]
     },
     "execution_count": 6,
     "metadata": {},
     "output_type": "execute_result"
    }
   ],
   "source": [
    "df = df.sort_values(by='sample_squared')\n",
    "df"
   ]
  },
  {
   "cell_type": "markdown",
   "metadata": {},
   "source": [
    "Observe que los índices también se reordenaron. Los índices conservan información sobre el orden original."
   ]
  },
  {
   "cell_type": "markdown",
   "metadata": {},
   "source": [
    "También podemos seleccionar subconjuntos de los datos usando condicionales similares a las matrices Numpy."
   ]
  },
  {
   "cell_type": "code",
   "execution_count": 7,
   "metadata": {},
   "outputs": [
    {
     "data": {
      "text/html": [
       "<div>\n",
       "<style scoped>\n",
       "    .dataframe tbody tr th:only-of-type {\n",
       "        vertical-align: middle;\n",
       "    }\n",
       "\n",
       "    .dataframe tbody tr th {\n",
       "        vertical-align: top;\n",
       "    }\n",
       "\n",
       "    .dataframe thead th {\n",
       "        text-align: right;\n",
       "    }\n",
       "</style>\n",
       "<table border=\"1\" class=\"dataframe\">\n",
       "  <thead>\n",
       "    <tr style=\"text-align: right;\">\n",
       "      <th></th>\n",
       "      <th>sample</th>\n",
       "      <th>sample_base</th>\n",
       "      <th>sample_plus1</th>\n",
       "      <th>sample_squared</th>\n",
       "    </tr>\n",
       "  </thead>\n",
       "  <tbody>\n",
       "    <tr>\n",
       "      <th>0</th>\n",
       "      <td>1.0</td>\n",
       "      <td>1.0</td>\n",
       "      <td>2.0</td>\n",
       "      <td>1.00</td>\n",
       "    </tr>\n",
       "    <tr>\n",
       "      <th>1</th>\n",
       "      <td>2.0</td>\n",
       "      <td>2.0</td>\n",
       "      <td>3.0</td>\n",
       "      <td>4.00</td>\n",
       "    </tr>\n",
       "    <tr>\n",
       "      <th>7</th>\n",
       "      <td>2.3</td>\n",
       "      <td>2.0</td>\n",
       "      <td>3.3</td>\n",
       "      <td>5.29</td>\n",
       "    </tr>\n",
       "    <tr>\n",
       "      <th>8</th>\n",
       "      <td>2.4</td>\n",
       "      <td>2.0</td>\n",
       "      <td>3.4</td>\n",
       "      <td>5.76</td>\n",
       "    </tr>\n",
       "    <tr>\n",
       "      <th>9</th>\n",
       "      <td>3.1</td>\n",
       "      <td>3.0</td>\n",
       "      <td>4.1</td>\n",
       "      <td>9.61</td>\n",
       "    </tr>\n",
       "  </tbody>\n",
       "</table>\n",
       "</div>"
      ],
      "text/plain": [
       "   sample  sample_base  sample_plus1  sample_squared\n",
       "0     1.0          1.0           2.0            1.00\n",
       "1     2.0          2.0           3.0            4.00\n",
       "7     2.3          2.0           3.3            5.29\n",
       "8     2.4          2.0           3.4            5.76\n",
       "9     3.1          3.0           4.1            9.61"
      ]
     },
     "execution_count": 7,
     "metadata": {},
     "output_type": "execute_result"
    }
   ],
   "source": [
    "q1 = df[df['sample'] <= 4]\n",
    "q1"
   ]
  },
  {
   "cell_type": "markdown",
   "metadata": {},
   "source": [
    "El método `.groupby` se usa para crear el objeto `DataFrameGroupBy` de Pandas que se puede usar para calcular estadísticas dentro de los grupos."
   ]
  },
  {
   "cell_type": "code",
   "execution_count": 8,
   "metadata": {},
   "outputs": [
    {
     "name": "stdout",
     "output_type": "stream",
     "text": [
      "             sample  sample_plus1  sample_squared\n",
      "sample_base                                      \n",
      "1.0               1             1               1\n",
      "2.0               3             3               3\n",
      "3.0               1             1               1\n",
      "4.0               2             2               2\n",
      "5.0               1             1               1\n",
      "8.0               2             2               2\n",
      "9.0               1             1               1\n"
     ]
    }
   ],
   "source": [
    "# grupos que comparten un campo sample_base común\n",
    "g = df.groupby('sample_base')\n",
    "\n",
    "# contar el número de filas dentro de cada grupo\n",
    "print(g.count())"
   ]
  },
  {
   "cell_type": "markdown",
   "metadata": {},
   "source": [
    "fusionar DataFrames usando una columna común.\n",
    "\n",
    "Vamos a crear un segundo DataFrame a partir de la misma lista original de números y calcular el campo `sample_base` nuevamente. También calcularemos una nueva columna llamada `sample_sqrt`"
   ]
  },
  {
   "cell_type": "code",
   "execution_count": 9,
   "metadata": {},
   "outputs": [
    {
     "data": {
      "text/html": [
       "<div>\n",
       "<style scoped>\n",
       "    .dataframe tbody tr th:only-of-type {\n",
       "        vertical-align: middle;\n",
       "    }\n",
       "\n",
       "    .dataframe tbody tr th {\n",
       "        vertical-align: top;\n",
       "    }\n",
       "\n",
       "    .dataframe thead th {\n",
       "        text-align: right;\n",
       "    }\n",
       "</style>\n",
       "<table border=\"1\" class=\"dataframe\">\n",
       "  <thead>\n",
       "    <tr style=\"text-align: right;\">\n",
       "      <th></th>\n",
       "      <th>sample</th>\n",
       "      <th>sample_base</th>\n",
       "      <th>sample_sqrt</th>\n",
       "    </tr>\n",
       "  </thead>\n",
       "  <tbody>\n",
       "    <tr>\n",
       "      <th>0</th>\n",
       "      <td>1.0</td>\n",
       "      <td>1.0</td>\n",
       "      <td>1.000000</td>\n",
       "    </tr>\n",
       "    <tr>\n",
       "      <th>1</th>\n",
       "      <td>2.0</td>\n",
       "      <td>2.0</td>\n",
       "      <td>1.414214</td>\n",
       "    </tr>\n",
       "    <tr>\n",
       "      <th>2</th>\n",
       "      <td>4.4</td>\n",
       "      <td>4.0</td>\n",
       "      <td>2.097618</td>\n",
       "    </tr>\n",
       "    <tr>\n",
       "      <th>3</th>\n",
       "      <td>4.5</td>\n",
       "      <td>4.0</td>\n",
       "      <td>2.121320</td>\n",
       "    </tr>\n",
       "    <tr>\n",
       "      <th>4</th>\n",
       "      <td>8.8</td>\n",
       "      <td>8.0</td>\n",
       "      <td>2.966479</td>\n",
       "    </tr>\n",
       "    <tr>\n",
       "      <th>5</th>\n",
       "      <td>9.1</td>\n",
       "      <td>9.0</td>\n",
       "      <td>3.016621</td>\n",
       "    </tr>\n",
       "    <tr>\n",
       "      <th>6</th>\n",
       "      <td>8.7</td>\n",
       "      <td>8.0</td>\n",
       "      <td>2.949576</td>\n",
       "    </tr>\n",
       "    <tr>\n",
       "      <th>7</th>\n",
       "      <td>2.3</td>\n",
       "      <td>2.0</td>\n",
       "      <td>1.516575</td>\n",
       "    </tr>\n",
       "    <tr>\n",
       "      <th>8</th>\n",
       "      <td>2.4</td>\n",
       "      <td>2.0</td>\n",
       "      <td>1.549193</td>\n",
       "    </tr>\n",
       "    <tr>\n",
       "      <th>9</th>\n",
       "      <td>3.1</td>\n",
       "      <td>3.0</td>\n",
       "      <td>1.760682</td>\n",
       "    </tr>\n",
       "    <tr>\n",
       "      <th>10</th>\n",
       "      <td>5.9</td>\n",
       "      <td>5.0</td>\n",
       "      <td>2.428992</td>\n",
       "    </tr>\n",
       "  </tbody>\n",
       "</table>\n",
       "</div>"
      ],
      "text/plain": [
       "    sample  sample_base  sample_sqrt\n",
       "0      1.0          1.0     1.000000\n",
       "1      2.0          2.0     1.414214\n",
       "2      4.4          4.0     2.097618\n",
       "3      4.5          4.0     2.121320\n",
       "4      8.8          8.0     2.966479\n",
       "5      9.1          9.0     3.016621\n",
       "6      8.7          8.0     2.949576\n",
       "7      2.3          2.0     1.516575\n",
       "8      2.4          2.0     1.549193\n",
       "9      3.1          3.0     1.760682\n",
       "10     5.9          5.0     2.428992"
      ]
     },
     "execution_count": 9,
     "metadata": {},
     "output_type": "execute_result"
    }
   ],
   "source": [
    "df2 = pd.DataFrame(x, columns=['sample'])\n",
    "\n",
    "df2['sample_base'] = df2['sample'] // 1\n",
    "df2['sample_sqrt'] = np.sqrt(df2['sample'])\n",
    "df2"
   ]
  },
  {
   "cell_type": "markdown",
   "metadata": {},
   "source": [
    "Ahora podemos agregar esta nueva columna al DataFrame original haciendo coincidir los valores en una columna compartida. En este caso, queremos hacer coincidir la columna `muestra` original.\n",
    "\n",
    "A veces tenemos varios DF de datos con una o más columnas superpuestas y necesitamos combinarlos en uno solo. Aquí es donde entra merging.\n",
    "\n",
    "Merging es un tema poderoso y complejo. [Mira aca](https://pandas.pydata.org/pandas-docs/stable/user_guide/merging.html) para buscar varias funcionalidades."
   ]
  },
  {
   "cell_type": "code",
   "execution_count": null,
   "metadata": {},
   "outputs": [],
   "source": [
    "merged = pd.merge(df, df2, on='sample', suffixes=['_original', '_new'])\n",
    "merged"
   ]
  },
  {
   "cell_type": "markdown",
   "metadata": {},
   "source": [
    "Si un nombre de columna aparece en ambos DataFrames pero no es la columna en la que se está fusionando, las cadenas definidas en el argumento `suffixes` se agregarán al final de los nombres de columna.\n",
    "\n",
    "Los marcos de datos se pueden escribir y leer desde archivos muy fácilmente. Se admiten muchos formatos, pero los valores separados por comas (CSV) son los más utilizados en astronomía. La función `read_csv` puede leer una variedad de formatos de archivo de texto especificando el argumento `delimiter`.\n",
    "\n",
    "También puede cargar un CSV directamente desde una URL."
   ]
  },
  {
   "cell_type": "code",
   "execution_count": null,
   "metadata": {},
   "outputs": [],
   "source": [
    "#merged.to_csv('sample.csv')\n",
    "#\n",
    "#!cat sample.csv\n",
    "#\n",
    "#from_csv = pd.read_csv('sample.csv', index_col=0)\n",
    "#from_csv"
   ]
  },
  {
   "cell_type": "markdown",
   "metadata": {},
   "source": [
    "#### Buenas prácticas\n",
    "\n",
    "Casi siempre es mejor evitar los loops cuando se trabaja con arreglos Numpy o Pandas DataFrames. \n",
    "\n",
    "Si trabajas en un problema complicado y no estas seguro de si usar un loop o una matriz/operaciones de DataFrame, generalmente escribitlo en un loop primero para poder conceptualizar el problema un poco más fácil pero es importante luego convertirlo a operación para eliminar tantos loops como sea posible y hacer más eficiente y rápido el código."
   ]
  },
  {
   "cell_type": "markdown",
   "metadata": {},
   "source": [
    "## Actividad #1 \n",
    "\n",
    "Veamos cuánto más rápido es trabajar con arreglos de Numpy sobre listas de Python."
   ]
  },
  {
   "cell_type": "code",
   "execution_count": 10,
   "metadata": {},
   "outputs": [
    {
     "name": "stdout",
     "output_type": "stream",
     "text": [
      "Updated 10000000 elements in 2.374 seconds.\n"
     ]
    }
   ],
   "source": [
    "import time\n",
    "\n",
    "# Primero crearemos una larga lista\n",
    "length = 10000000  # int\n",
    "x = list(range(length))\n",
    "\n",
    "\n",
    "# ahora vamos a recorrer todos los elementos: \n",
    "## sumaremos uno y luego dividiremos por dos\n",
    "# también usaremos el paquete de tiempo para cronometrar\n",
    "\n",
    "t1 = time.time()\n",
    "for i in range(len(x)):\n",
    "    x[i] = (x[i] + 1) / 2\n",
    "t2 = time.time()\n",
    "\n",
    "print(\"Updated {:d} elements in {:4.3f} seconds.\".format(length, t2-t1))"
   ]
  },
  {
   "cell_type": "markdown",
   "metadata": {},
   "source": [
    "1. Cambie la longitud de la matriz y realice un seguimiento de cuánto tarda el cálculo en función de esa longitud.\n",
    "\n",
    "2. Trazar el tiempo en función de la longitud de la lista.\n",
    "\n",
    "3. Ahora construya una matriz Numpy a partir de la lista `x` y realice el mismo cálculo para varias longitudes de matriz diferentes.\n",
    "\n",
    "4. Grafique el tiempo de cálculo en función de la longitud de la matriz y agregue esta línea a la gráfica creada en el paso n.º 2."
   ]
  },
  {
   "cell_type": "code",
   "execution_count": null,
   "metadata": {},
   "outputs": [],
   "source": []
  },
  {
   "cell_type": "code",
   "execution_count": null,
   "metadata": {},
   "outputs": [],
   "source": []
  },
  {
   "cell_type": "markdown",
   "metadata": {},
   "source": [
    "## Actividad #2\n",
    "\n",
    "Cargue un par de archivos en un DataFrame de Pandas y reorganícelos y combínelos en un solo archivo en un formato más útil. \n",
    "`example_data/star_names.json` contiene una lista de nombres de estrellas. La columna `primary_name` es el ID principal de la estrella. Para cada `primary_name` único hay muchos `other_names` asociados con él. Cada combinación `primary_name`+`other_name` se almacena en una fila separada.\n",
    "\n",
    "1. Primero cargue el archivo `example_data/star_names.json` en un Pandas DataFrame. El archivo está en formato JSON, por lo que puede consultar la función `pandas.read_json`.\n",
    "\n",
    "2. Agrupe el DataFrame en la columna `primary_name` y cree una función de agregación personalizada que tome todos los valores en la columna `other_name` que tengan el mismo `primary_name` y los convierta en una sola cadena delimitada por (`| `).\n",
    "\n",
    "3. Cargue el archivo `example_data/star_props.csv` en un DataFrame separado y combínelo con el DataFrame agrupado del paso n.º 2.\n",
    "\n",
    "4. Guarde el resultado como un nuevo archivo CSV. El archivo resultante debería parecerse a `example_data/stars_merged.csv`. También puede cargar este archivo en Pandas para ver cómo debería verse el DataFrame final antes de guardarlo en un CSV."
   ]
  },
  {
   "cell_type": "code",
   "execution_count": null,
   "metadata": {},
   "outputs": [],
   "source": []
  },
  {
   "cell_type": "code",
   "execution_count": null,
   "metadata": {},
   "outputs": [],
   "source": []
  }
 ],
 "metadata": {
  "file_extension": ".py",
  "kernelspec": {
   "display_name": "Python 3",
   "language": "python",
   "name": "python3"
  },
  "language_info": {
   "codemirror_mode": {
    "name": "ipython",
    "version": 3
   },
   "file_extension": ".py",
   "mimetype": "text/x-python",
   "name": "python",
   "nbconvert_exporter": "python",
   "pygments_lexer": "ipython3",
   "version": "3.8.5"
  },
  "mimetype": "text/x-python",
  "name": "python",
  "npconvert_exporter": "python",
  "pygments_lexer": "ipython3",
  "version": 3
 },
 "nbformat": 4,
 "nbformat_minor": 2
}
