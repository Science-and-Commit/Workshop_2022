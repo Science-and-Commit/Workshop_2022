{
 "cells": [
  {
   "cell_type": "markdown",
   "metadata": {},
   "source": [
    "# Paquetes y Ambientes:\n",
    "## Como instalar paquetes y manejar ambientes de virtuales"
   ]
  },
  {
   "cell_type": "markdown",
   "metadata": {},
   "source": [
    "# A. Que son los paquetes y por que quiero usarlos?\n",
    "\n",
    "Un paquete es un **conjunto de modulos relacionados entre si**, un modulo, por otro lado, es un **conjunto de funciones** que llevan a cabo una o mas tareas similares.\n",
    "\n",
    "Por lo tanto un paquete es un **directorio** de **modulos** de Python que contienen un archivo adicional llamado `__init__.py`. Este archivo es clave ya que distingue un directorio comun y corriente de un paquete!"
   ]
  },
  {
   "cell_type": "markdown",
   "metadata": {},
   "source": [
    "![Diagrama paquete](img/paquetes.svg \"Anatomia de un paquete\")"
   ]
  },
  {
   "cell_type": "markdown",
   "metadata": {},
   "source": [
    "Los modulos son sumamente utiles porque nos permiten utilizar herramientas comunes (o no tan comunes) sin tener que reinventar la rueda, ademas de que ayudan a **modularizar** nuestro codigo, lo que a su vez nos ayuda a mantenerlo en el futuro.\n",
    "\n",
    "### Como podemos utilizar modulos en Python?\n",
    "\n",
    "Esto es tremendamente sencillo, y veremos un ejemplo a continuacion:\n",
    "\n",
    "Imaginemos que nuestro proyecto implica realizar calculos matematicos, como por ejemplo calcular el area de una circunferencia. Nosotros sabemos que hay una formula sencilla para esto: $\\pi r^2$.\n",
    "Podemos escribir un valor aproximado de $\\pi$ nosotros mismos, o bien podemos importar el modulo `math` y usar la constante $\\pi$ que esta dentro de ella!"
   ]
  },
  {
   "cell_type": "code",
   "execution_count": 3,
   "metadata": {},
   "outputs": [
    {
     "name": "stdout",
     "output_type": "stream",
     "text": [
      "3.141592653589793\n"
     ]
    }
   ],
   "source": [
    "import math\n",
    "\n",
    "def area_circle(radius):\n",
    "    return radius ** 2 * math.pi\n",
    "\n",
    "print(area_circle(1))"
   ]
  },
  {
   "cell_type": "markdown",
   "metadata": {},
   "source": [
    "Este es un ejemplo sencillo, por su puesto, pero no es dificil imaginar situaciones mucho mas complejas en donde esto se utiliza, es mas, es mucho mas comun utilizar paquetes y modulos de terceros que escribir todo el codigo uno mismo!"
   ]
  },
  {
   "cell_type": "markdown",
   "metadata": {},
   "source": [
    "## Anatomia de un paquete\n",
    "\n",
    "Ya vimos que un paquete es una coleccion de funciones o metodos ligados a una tematica comun que se diferencian de otros directorios con un arcihvo `__init__.py`.\n",
    "\n",
    "Supongamos tenemos nuestro paquete llamado luan que tiene la siguiente estructura:\n",
    "\n",
    "```\n",
    "Luan\n",
    "  |\n",
    "  |-modulo1.py\n",
    "  └-modulo2.py\n",
    " ```\n",
    "Y cuyos contenidos son:\n",
    "\n",
    "```python\n",
    "#modulo1.py\n",
    "def foo():\n",
    "    print('Modulo1 foo()')\n",
    "\n",
    "class Foo:\n",
    "    pass\n",
    "\n",
    "#modulo2.py\n",
    "def bar():\n",
    "    print('Modulo2 bar()')\n",
    "\n",
    "class Bar:\n",
    "    pass\n",
    "```"
   ]
  },
  {
   "cell_type": "markdown",
   "metadata": {},
   "source": [
    "Si nuestro paquete se encontrara dentro del `path` del sistema (ver `sys.path`), entonces podemos importar los modulos con la notacion de **punto**\n",
    "\n",
    "```python\n",
    "import <modulo>[, <modulo>]\n",
    "```\n",
    "\n",
    "Por ejemplo con nuestro paquete Luan seria lo siguiente:\n",
    "\n",
    "```python\n",
    ">>> import Luan.modulo1, Luan.modulo2\n",
    ">>> Luan.modulo1.foo()\n",
    "'Modulo1 foo()'\n",
    ">>> Luan.modulo2.Bar()\n",
    "```"
   ]
  },
  {
   "cell_type": "markdown",
   "metadata": {},
   "source": [
    "Podemos usar cualquier sistema de importacion para importar nuestros modulos y paquetes. Aqui un resumen de las distintas maneras para importar:\n",
    "\n",
    "```python\n",
    "import <paquete>\n",
    "from <paquete> import <modulo>\n",
    "import <paquete> as nombre\n",
    "from <paquete> import <modulo> as <nombre>\n",
    "from <paquete> import *\n",
    "```\n",
    "Las diferencias aqui son que en la primera linea estamos importando un **paquete completo**, mientras que en la segunda linea estamos importando un **modulo especifico de un paquete**, o quizas incluso estamos importando un **subpaquete** dentro del paquete!\n",
    "En la tercera y cuarta linea le estamos **asignando un nombre** a un paquete o un modulo o subpaquete especifico.\n",
    "Finalmente la ultima linea importa todo de un paquete **sin utilizar un nombre**!\n",
    "\n",
    "En el caso de nuestro ejemplo esto ultimo funciona asi:\n",
    "```python\n",
    "from Luan.modulo1 import *\n",
    "from Luan.modulo2 import *\n",
    ">>> foo()\n",
    "'Modulo1 foo()'\n",
    ">>> Bar()\n",
    "```\n",
    "\n",
    "Si bien podemos importar un paquete directamente con `import <paquete>` esto no necesariamente sera util ya que no siempre se incluiran los modulos o subpaquetes. Es recomendable importar los modulos que queramos utilizar!"
   ]
  },
  {
   "cell_type": "markdown",
   "metadata": {},
   "source": [
    "## Actividad Práctica\n",
    "\n",
    "Para aprender un poco más sobre los paquetes clásicos que se utilizan en astronomía puede ir a los jupyter notebooks que encuentra en el ítem 2 del repositorio, bajo el nombre de `Paquetes_Astronomia`"
   ]
  },
  {
   "cell_type": "code",
   "execution_count": null,
   "metadata": {},
   "outputs": [],
   "source": []
  },
  {
   "cell_type": "markdown",
   "metadata": {},
   "source": [
    "# B. Por que necesitamos ambientes virtuales?\n",
    "\n",
    "Es comun en astronomia y otras areas que uno se encuentre trabajando en mas de un proyecto a la vez, tambien es comun que estos proyectos no estemos utilizando las mismas herramientas o paquetes!\n",
    "\n",
    "Cuando esto ocurre, es facil empezar a enredarse con las diferentes versiones de los paquetes y modulos que estamos utilizando, y a medida que necesitamos cosas nuevas y vamos instalando, facilmente podemos llegar a un punto en donde un proyecto **deje de funcionar**!"
   ]
  },
  {
   "cell_type": "code",
   "execution_count": null,
   "metadata": {},
   "outputs": [],
   "source": []
  },
  {
   "cell_type": "code",
   "execution_count": null,
   "metadata": {},
   "outputs": [],
   "source": []
  },
  {
   "cell_type": "code",
   "execution_count": null,
   "metadata": {},
   "outputs": [],
   "source": []
  }
 ],
 "metadata": {
  "kernelspec": {
   "display_name": "Python 3",
   "language": "python",
   "name": "python3"
  },
  "language_info": {
   "codemirror_mode": {
    "name": "ipython",
    "version": 3
   },
   "file_extension": ".py",
   "mimetype": "text/x-python",
   "name": "python",
   "nbconvert_exporter": "python",
   "pygments_lexer": "ipython3",
   "version": "3.8.5"
  }
 },
 "nbformat": 4,
 "nbformat_minor": 5
}
