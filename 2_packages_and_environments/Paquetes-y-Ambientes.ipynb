{
 "cells": [
  {
   "cell_type": "markdown",
   "metadata": {},
   "source": [
    "# Paquetes y Ambientes:\n",
    "## Como instalar paquetes y manejar ambientes de virtuales\n",
    "\n",
    "#### Fuentes utilizadas para este tutorial: \n",
    "- [\"Python Modules and Packages - An Introduction\"](https://realpython.com/python-modules-packages/)\n",
    "- [What Is a Python Package?](https://www.udacity.com/blog/2021/01/what-is-a-python-package.html)\n",
    "- [What are Python packages?](https://www.educative.io/edpresso/what-are-python-packages)\n",
    "- [Managing environments](https://docs.conda.io/projects/conda/en/latest/user-guide/tasks/manage-environments.html)"
   ]
  },
  {
   "cell_type": "markdown",
   "metadata": {},
   "source": [
    "# A. Paquetes\n",
    "\n",
    "# Que son los paquetes y por que quiero usarlos?\n",
    "\n",
    "Un paquete es un **conjunto de modulos relacionados entre si**, un modulo, por otro lado, es un **conjunto de funciones** que llevan a cabo una o mas tareas similares.\n",
    "\n",
    "Por lo tanto un paquete es un **directorio** de **modulos** de Python que contienen un archivo adicional llamado `__init__.py`. Este archivo es clave ya que distingue un directorio comun y corriente de un paquete!"
   ]
  },
  {
   "cell_type": "markdown",
   "metadata": {},
   "source": [
    "![Diagrama paquete](img/paquetes.svg \"Anatomia de un paquete\")"
   ]
  },
  {
   "cell_type": "markdown",
   "metadata": {},
   "source": [
    "Los modulos son sumamente utiles porque nos permiten utilizar herramientas comunes (o no tan comunes) sin tener que reinventar la rueda, ademas de que ayudan a **modularizar** nuestro codigo, lo que a su vez nos ayuda a mantenerlo en el futuro.\n",
    "\n",
    "### Como podemos utilizar modulos en Python?\n",
    "\n",
    "Esto es tremendamente sencillo, y veremos un ejemplo a continuacion:\n",
    "\n",
    "Imaginemos que nuestro proyecto implica realizar calculos matematicos, como por ejemplo calcular el area de una circunferencia. Nosotros sabemos que hay una formula sencilla para esto: $\\pi r^2$.\n",
    "Podemos escribir un valor aproximado de $\\pi$ nosotros mismos, o bien podemos importar el modulo `math` y usar la constante $\\pi$ que esta dentro de ella!"
   ]
  },
  {
   "cell_type": "code",
   "execution_count": 3,
   "metadata": {},
   "outputs": [
    {
     "name": "stdout",
     "output_type": "stream",
     "text": [
      "3.141592653589793\n"
     ]
    }
   ],
   "source": [
    "import math\n",
    "\n",
    "def area_circle(radius):\n",
    "    return radius ** 2 * math.pi\n",
    "\n",
    "print(area_circle(1))"
   ]
  },
  {
   "cell_type": "markdown",
   "metadata": {},
   "source": [
    "Este es un ejemplo sencillo, por su puesto, pero no es dificil imaginar situaciones mucho mas complejas en donde esto se utiliza, es mas, es mucho mas comun utilizar paquetes y modulos de terceros que escribir todo el codigo uno mismo!"
   ]
  },
  {
   "cell_type": "markdown",
   "metadata": {},
   "source": [
    "## Anatomia de un paquete\n",
    "\n",
    "Ya vimos que un paquete es una coleccion de funciones o metodos ligados a una tematica comun que se diferencian de otros directorios con un arcihvo `__init__.py`.\n",
    "\n",
    "Supongamos tenemos nuestro paquete llamado luan que tiene la siguiente estructura:\n",
    "\n",
    "```\n",
    "Luan\n",
    "  |-__init__.py\n",
    "  |-modulo1.py\n",
    "  └-modulo2.py\n",
    " ```\n",
    "Y cuyos contenidos son:\n",
    "\n",
    "```python\n",
    "#modulo1.py\n",
    "def foo():\n",
    "    print('Modulo1 foo()')\n",
    "\n",
    "class Foo:\n",
    "    pass\n",
    "\n",
    "#modulo2.py\n",
    "def bar():\n",
    "    print('Modulo2 bar()')\n",
    "\n",
    "class Bar:\n",
    "    pass\n",
    "```"
   ]
  },
  {
   "cell_type": "markdown",
   "metadata": {},
   "source": [
    "Si nuestro paquete se encontrara dentro del `path` del sistema (ver `sys.path`), entonces podemos importar los modulos con la notacion de **punto**\n",
    "\n",
    "```python\n",
    "import <modulo>[, <modulo>]\n",
    "```\n",
    "\n",
    "Por ejemplo con nuestro paquete Luan seria lo siguiente:\n",
    "\n",
    "```python\n",
    ">>> import Luan.modulo1, Luan.modulo2\n",
    ">>> Luan.modulo1.foo()\n",
    "'Modulo1 foo()'\n",
    ">>> Luan.modulo2.Bar()\n",
    "```"
   ]
  },
  {
   "cell_type": "markdown",
   "metadata": {},
   "source": [
    "Podemos usar cualquier sistema de importacion para importar nuestros modulos y paquetes. Aqui un resumen de las distintas maneras para importar:\n",
    "\n",
    "```python\n",
    "import <paquete>\n",
    "from <paquete> import <modulo>\n",
    "import <paquete> as nombre\n",
    "from <paquete> import <modulo> as <nombre>\n",
    "from <paquete> import *\n",
    "```\n",
    "Las diferencias aqui son que en la primera linea estamos importando un **paquete completo**, mientras que en la segunda linea estamos importando un **modulo especifico de un paquete**, o quizas incluso estamos importando un **subpaquete** dentro del paquete!\n",
    "En la tercera y cuarta linea le estamos **asignando un nombre** a un paquete o un modulo o subpaquete especifico.\n",
    "Finalmente la ultima linea importa todo de un paquete **sin utilizar un nombre**!\n",
    "\n",
    "En el caso de nuestro ejemplo esto ultimo funciona asi:\n",
    "```python\n",
    "from Luan.modulo1 import *\n",
    "from Luan.modulo2 import *\n",
    ">>> foo()\n",
    "'Modulo1 foo()'\n",
    ">>> Bar()\n",
    "```\n",
    "\n",
    "Si bien podemos importar un paquete directamente con `import <paquete>` esto no necesariamente sera util ya que no siempre se incluiran los modulos o subpaquetes. Es recomendable importar los modulos que queramos utilizar!"
   ]
  },
  {
   "cell_type": "markdown",
   "metadata": {},
   "source": [
    "## Archivo \\_\\_init\\_\\_.py\n",
    "\n",
    "Este archivo le dice a Python que un directorio corresponde en realidad a un paquete, y por lo tanto decimos que _inicializa_ el paquete. Podemos dejar este archivo vacio y funcionara de todas maneras, pero tambien podemos colocar informacion util dentro de el.\n",
    "\n",
    "Por ejemplo si el paquete Luan tuviera este archivo \\_\\_init\\_\\_.py:\n",
    "\n",
    "```python\n",
    "print(f'Invocando __init__.py para el paquete {__name__}')\n",
    "A = ['Pauli', 'Pola', 'Raza']\n",
    "```\n",
    "\n",
    "Entonces al importar el paquete se inicializara la lista global _A_\n",
    "\n",
    "```python\n",
    ">>> import Luan\n",
    "'Invocando __init__.py para el paquete Luan'\n",
    ">>> Luan.A\n",
    "\"['Pauli', 'Pola', 'Raza']\"\n",
    "```"
   ]
  },
  {
   "cell_type": "markdown",
   "metadata": {},
   "source": [
    "Con este archivo podemos hacer que se importan los modulos de un paquete de manera automatica!\n",
    "Por ejemplo, si nuestro archivo \\_\\_init\\_\\_.py se ve de esta manera:\n",
    "\n",
    "```python\n",
    "print(f'Invocando __init__.py para el paquete {__name__}')\n",
    "import Luan.modulo1, Luan.modulo2\n",
    "```\n",
    "\n",
    "Entonces al importar el paquete `Luan`, los modulos `modulo1` y `modulo2` se importan automaticamente!"
   ]
  },
  {
   "cell_type": "markdown",
   "metadata": {},
   "source": [
    "Podemos ver un ejemplo del mundo real en accion. Este es el archivo \\_\\_init\\_\\_.py del paquete [astroARIADNE](https://github.com/jvines/astroARIADNE/)\n",
    "\n",
    "```python\n",
    "\"\"\"\n",
    "ARIADNE is a module to easily fit SED models using nested sampling algorithms.\n",
    "It allows to fit single models (Phoenix v2, BT-Settl, BT-Cond, BT-NextGen\n",
    "Castelli & Kurucz 2004 and Kurucz 1993) or multiple models in a single run.\n",
    "If multiple models are fit for, then ARIADNE automatically averages the\n",
    "parameters posteriors as in the Bayesian Model Average framework. This\n",
    "averages over the models and thus the averaged posteriors account for model\n",
    "specific uncertainties.\n",
    "\"\"\"\n",
    "from . import utils\n",
    "from .fitter import Fitter\n",
    "from .star import Star\n",
    "from .librarian import Librarian\n",
    "from .plotter import SEDPlotter\n",
    "```\n",
    "\n",
    "Esto importa al modeulo `utils` y a las clases `Fitter`, `Star`, `Librarian`, y `SEDPlotter` de los modulos `fitter`, `star`, `librarian` y `plotter` respectivamente."
   ]
  },
  {
   "cell_type": "markdown",
   "metadata": {},
   "source": [
    "# Instalando Paquetes\n",
    "\n",
    "Instalar paquetes es relativamente sencillo. La gran mayoria de instalaciones de Python vienen con `pip`, un gestor de paquetes. Instalar paquetes con `pip` es tan directo como escribir en la terminal: `pip install <paquete>`. Esto funcionanara siempre y cuando el paquete exista en los repositorios de PyPi, de no ser asi, `pip` se quejara que el paquete no existe!\n",
    "\n",
    "Por ejemplo si queremos instalar el paquete `termcolor` para imprimir cosas a la terminal con <span style=\"color:blue\">c</span><span style=\"color:red\">o</span><span style=\"color:green\">l</span><span style=\"color:mediumseagreen\">o</span><span style=\"color:orange\">r</span><span style=\"color:deeppink\">e</span><span style=\"color:khaki\">s</span>, escribiriamos `pip install termcolor`\n",
    "\n",
    "Esa no es la unica manera de instalar paquetes. Si nuestra instalacion de Python vienes de `anaconda` o `mini conda`, podemos utilizar `conda` para instalar paquetes! Utilizar `anaconda` tiene mas ventajas que solo instalar paquetes, como veremos pronto ;)\n",
    "\n",
    "## setup.py\n",
    "\n",
    "No todos los paquetes y codigos estaran en un repositorio formal, o a veces queremos utilizar la ultima version, incluso cuando esta no sea estable. Para instalar este tipo de paquetes debemos descargar el codigo desde un servicio como GitHub y luego ejecutar el script `setup.py`. Todo paquete instalable *debe* tener este script!\n",
    "\n",
    "Finalmente la instruccion seria: `python setup.py install`\n",
    "\n",
    "## Anaconda\n",
    "\n",
    "Para poder utilizar `anaconda` primero debemos [instalarlo](https://www.anaconda.com/). Una vez instalado podemos instalar paquetes utilizando el comando `conda install <paquete>` en la terminal. Por ejemplo: `conda install numpy` instalaria el paquete de computacion cientifica `numpy`. Hay una salvedad con `conda`, no todos los paquetes estan en el repositorio principal! Muchas veces podemos encontrar paquetes en repositorios alternativos de `conda`, y uno de los mas comunes es `conda-forge`. Por ejemplo, si quisieramos instalar `astroquery`, el paquete para acceder a diferentes bases de datos astronomicas a traves de Python, escribiriamos: `conda install -c conda-forge astroquery`. El flag `-c` le indica a `conda` que lo que sigue es el _canal_ o repositorio a utilizar para buscar el paquete.\n",
    "\n",
    "Existen mas canales asi que deben estar atentos al metodo de instalacion de los paquetes que vayan a utilizar!\n",
    "\n",
    "Con el método que seguimos recién, todos los paquetes se instalan en el ambiente *base* de Python, y en general se instalan en sus ultima version estable. Pero que pasa si queremos una version en particular de un paquete?\n",
    "\n",
    "Digamos que queremos utilizar Parallel Tempering Markov Chain Monte Carlo (PTMCMC) a traves del paquete `emcee`. Podemos instalarlo usando `pip install emcee` y al intentar usar PTMCMC vemos que ha sido removido del paquete! Por suerte sabemos que PTMCMC esta en la verison `2.2.1` de `emcee`, podemos instalar esta version con: `pip install emcee==2.2.1`."
   ]
  },
  {
   "cell_type": "code",
   "execution_count": null,
   "metadata": {},
   "outputs": [],
   "source": []
  },
  {
   "cell_type": "markdown",
   "metadata": {},
   "source": [
    "## Actividad Práctica\n",
    "\n",
    "Para aprender un poco más sobre los paquetes clásicos que se utilizan en astronomía puede ir a los jupyter notebooks que se encuentran en el ítem 2 del repositorio, bajo el nombre de `Paquetes_Astronomia`"
   ]
  },
  {
   "cell_type": "code",
   "execution_count": null,
   "metadata": {},
   "outputs": [],
   "source": []
  },
  {
   "cell_type": "markdown",
   "metadata": {},
   "source": [
    "# B. Ambientes Virtuales\n",
    "\n",
    "Como dijimos antes, los paquetes que instalamos quedan todos en el ambiente *base*, pero existe la posibilidad de tener ambientes diferentes, independientes entre si, donde los paquetes instalados en uno no aparecen en los otros. Estos se llaman _ambientes virtuales_ . (Como vimos en el video)\n"
   ]
  },
  {
   "cell_type": "markdown",
   "metadata": {},
   "source": [
    "# Por que necesitamos ambientes virtuales?\n",
    "\n",
    "Es comun en astronomia y otras areas que uno se encuentre trabajando en mas de un proyecto a la vez, tambien es comun que estos proyectos no estemos utilizando las mismas herramientas o paquetes!\n",
    "\n",
    "Cuando esto ocurre, es facil empezar a enredarse con las diferentes versiones de los paquetes y modulos que estamos utilizando, y a medida que necesitamos cosas nuevas y vamos instalando, facilmente podemos llegar a un punto en donde un proyecto **deje de funcionar**!\n",
    "\n",
    "Un ejemplo de esta ocurrencia es el mismo paquete `emcee` que mencionamos en la seccion anterior. El modulo de PTMCMC fue depreciado despues de la version `2.2.1`, asi que una aplicacion que requiera esa funcionalidad especifica solo funcionaria con dicha version, pero que pasa si queremos utilizar las ventajas de la version mas reciente para un proyecto diferente que no requiere de PTMCMC? Actualizar `emcee` haria que nuestro proyecto original no funcione! Esto se soluciona con los ambientes virtuales :)\n",
    "\n",
    "## Como se crean ambientes virtuales?\n",
    "\n",
    "Para esta seccion asumiremos que se esta utilizando `conda`.\n",
    "\n",
    "### Crear un ambiente desde la terminal\n",
    "\n",
    "Para crear un ambiente en la terminal se invoca la instruccion ~\n",
    "`conda create --name <nombre>`\n",
    "\n",
    "Por ejemplo asi podemos crear el ambiente llamado science\n",
    "\n",
    "`conda create --name science`\n",
    "\n",
    "Intentelo en sus terminales!"
   ]
  },
  {
   "cell_type": "markdown",
   "metadata": {},
   "source": [
    "Podemos crear un ambiente que utilice una version especifica de python tambien, en caso que queramos utilizar una version mas antigua.\n",
    "\n",
    "`conda create -n <nombre> python=3.6`\n",
    "\n",
    "Asimismo podemos crear ambientes con paquetes especificos instalados\n",
    "\n",
    "`conda create -n <nombre> scipy`\n",
    "\n",
    "Tambien podemos especifiar una version especifia para un paquete:\n",
    "\n",
    "`conda create -n <nombre> scipy=0.15.0`\n",
    "\n",
    "Y podemos combinar todo:\n",
    "\n",
    "`conda create -n <nombre> python=3.7 scipy=0.15.0 numpy pandas matplotlib`\n",
    "\n",
    "Es recomendable instalar todos los paquetes necesarios al mismo tiempo, de otra manera pueden haber problemas de dependencias!\n",
    "\n",
    "Hay mas maneras de crear ambientes, como duplicar otro, crear un ambiente desde un archivo .yml e incluso podemos volver a una version anterior de nuestro ambiente. Para ver las maneras mas avanzadas de creacion de ambientes se puede ver la [guia](https://docs.conda.io/projects/conda/en/latest/user-guide/tasks/manage-environments.html) de `anaconda`"
   ]
  },
  {
   "cell_type": "markdown",
   "metadata": {},
   "source": [
    "## Como accedo a estos ambientes?\n",
    "\n",
    "Una vez hemos creado un ambiente podemos activarlo utilizando `conda activate <nombre>`, asi de facil! :P\n",
    "\n",
    "## Necesito compartir mi codigo con un colega, puedo compartirle mi ambiente?\n",
    "\n",
    "En el caso que necesitemos colaborar con colegas y entregarles nuestro codigo, podemos generar un archivo especial con toda la informacion necesaria para recrear el ambiente.\n",
    "Para esto ejecutamos el comando `conda env export > <nombre>.yml` y ya esta! ahora podemos entregarle ese archivo a nuestro colega y este podra instalarlo con `conda env create -f <nombre>.yml -n <nombre>` :D\n",
    "\n",
    "(Ejemplo: `conda env export > test_env.yml`)"
   ]
  },
  {
   "cell_type": "code",
   "execution_count": null,
   "metadata": {},
   "outputs": [],
   "source": []
  },
  {
   "cell_type": "code",
   "execution_count": null,
   "metadata": {},
   "outputs": [],
   "source": []
  }
 ],
 "metadata": {
  "kernelspec": {
   "display_name": "Python 3",
   "language": "python",
   "name": "python3"
  },
  "language_info": {
   "codemirror_mode": {
    "name": "ipython",
    "version": 3
   },
   "file_extension": ".py",
   "mimetype": "text/x-python",
   "name": "python",
   "nbconvert_exporter": "python",
   "pygments_lexer": "ipython3",
   "version": "3.8.3"
  }
 },
 "nbformat": 4,
 "nbformat_minor": 5
}
