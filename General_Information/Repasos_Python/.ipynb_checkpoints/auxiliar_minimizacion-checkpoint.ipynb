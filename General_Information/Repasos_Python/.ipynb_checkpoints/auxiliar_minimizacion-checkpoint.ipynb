{
 "cells": [
  {
   "cell_type": "markdown",
   "metadata": {},
   "source": [
    "# Auxiliar: Minimizacion de funciones usando Python\n",
    "\n",
    "En Astronomia, nosotros tenemos diferentes modelos que describen fenomenos fisicos, pero tambien tenemos (ojala) muchos datos que nos indican la \"realidad\" del objeto que observamos. Los datos que tomamos son un reflejo de los procesos que ocurren en el objeto que estudiamos. \n",
    "\n",
    "En nuestro caso, esos objetos son nubes moleculares y gas que gira alrededor del centro galactico. \n",
    "\n",
    "La relacion que existe entre nuestros modelos y los datos es que, segun los procesos fisicos que nos interesen, estos nos dicen que datos podrian surgir de ellos en un caso ideal. Por ejemplo, sabemos que si la masa esta distribuida en una esfera, esperamos un perfil de velocidad de la forma $v(r) = \\sqrt(4 G \\pi r^2 \\rho_0 / 3)$. No obstante, los datos fueron tomados sin considerar ningun modelo, simplemente mirando el objeto. Por lo tanto, queremos saber que tan bien calza nuestro modelo ideal con los datos \"reales\". Para esto, encontraremos los parametros de nuestro modelo que hacen que se ajuste mejor a los datos.\n",
    "\n",
    "Hay varias formas de ajustar una curva a un set de puntos. Dependiendo de las caracteristicas de nuestros datos (por ejemplo, si tienen errores en solo un eje, en los dos ejes o en ninguno) hay diferentes metodos para ajustar la curva que funcionan mejor. En Astroinformatica veran mas al respecto.\n",
    "\n",
    "Por ahora, el metodo mas comun es la minimizacion de $\\chi^2$. \n",
    "\n",
    "## ¿Que es $\\chi^2$?\n",
    "\n",
    "$\\chi^2$ es una distribucion de probabilidad. (probablemente la vieron en Probabilidad y Estadistica) Describe como se distribuye el valor de la variable independiente $X = Z_1^2+...+Z_k^2$, donde $Z$ para nuestro caso son los errores cuadraticos. Por lo general, $\\chi^2$ evalua que tan distintos son las desviaciones entre el dato real y el teorico con el error del dato real:\n",
    "\n",
    "$\\chi^2 = \\Sigma (y_{model}-y_{data})^2 / \\sigma_i^2$\n",
    "\n",
    "Como en este caso no tenemos errores y solo queremos ajustar una linea cercana a los puntos, usamos un valor de $\\chi^2$ sin errores:\n",
    "\n",
    "$\\chi^2 = \\Sigma (y_{model}-y_{data})^2 $\n",
    "\n",
    "## Como ajustar una curva a un set de datos\n",
    "\n",
    "El problema que queremos solucionar es el de encontrar la curva que nos entregue el minimo valor de $\\chi^2$. En cursos mas avanzados (como Optimizacion) se ven las soluciones matematicas a problemas de minimizacion. Por ahora, lo que tenemos que saber es que hay distintas funciones implementadas en Python en la libreria scipy.\n",
    "\n",
    "Hoy veremos como aplicar distintas funciones para solucionar este problema. Ustedes pueden elegir la que quieran para la tarea."
   ]
  },
  {
   "cell_type": "code",
   "execution_count": 1,
   "metadata": {
    "collapsed": true
   },
   "outputs": [],
   "source": [
    "import scipy as sp\n",
    "import matplotlib.pyplot as plt\n",
    "%matplotlib inline"
   ]
  },
  {
   "cell_type": "markdown",
   "metadata": {},
   "source": [
    "## La funcion fmin\n",
    "\n",
    "La primera funcion que vamos a ver se llama optimize.fmin: lo que hace es minimizar una funcion, encontrando los parametros que la hacen alcanzar su valor minimo. Para poder usarla, tienen que fijarse que en la funcion que le entreguen, exista un valor minimo o si no se va a caer."
   ]
  },
  {
   "cell_type": "code",
   "execution_count": 3,
   "metadata": {
    "collapsed": true
   },
   "outputs": [],
   "source": [
    "from scipy.optimize import fmin"
   ]
  },
  {
   "cell_type": "markdown",
   "metadata": {},
   "source": [
    "Vamos a generar una funcion aleatoria que se asemeje a una linea. Recordemos que la funcion de una linea recta es $y = mx + b$:"
   ]
  },
  {
   "cell_type": "code",
   "execution_count": 47,
   "metadata": {},
   "outputs": [
    {
     "data": {
      "image/png": "[encoded data removed]",
      "text/plain": [
       "<Figure size 432x288 with 1 Axes>"
      ]
     },
     "metadata": {},
     "output_type": "display_data"
    }
   ],
   "source": [
    "sp.random.seed(42)\n",
    "\n",
    "m_true = -0.9594\n",
    "b_true = 4.294\n",
    "\n",
    "f_true = 0.534\n",
    "N = 50\n",
    "x = sp.sort(10*sp.random.rand(N)) # seleccion aleatoria de eje x\n",
    "y = m_true * x + b_true \n",
    "y += sp.absolute(f_true*y) * sp.random.randn(N) # seleccion aleatoria de eje y\n",
    "\n",
    "x0=sp.linspace(0, 10, 500)\n",
    "plt.plot(x, y, 'k.')\n",
    "plt.plot(x0,m_true*x0+b_true, 'k.')\n",
    "plt.show()"
   ]
  },
  {
   "cell_type": "markdown",
   "metadata": {},
   "source": [
    "La funcion fmin recibe la funcion que se debe minimizar. Por lo tanto, tenemos que escribir la funcion $\\chi^2$:"
   ]
  },
  {
   "cell_type": "code",
   "execution_count": 48,
   "metadata": {
    "collapsed": true
   },
   "outputs": [],
   "source": [
    "def chi_cuadrado(params):\n",
    "    m, b = params\n",
    "    y_model = m * x + b\n",
    "    y_data = y\n",
    "    a = 0\n",
    "    for i in range(len(y_data)):\n",
    "        a += (y_model[i] - y[i]) ** 2\n",
    "    return a"
   ]
  },
  {
   "cell_type": "code",
   "execution_count": 54,
   "metadata": {},
   "outputs": [
    {
     "name": "stdout",
     "output_type": "stream",
     "text": [
      "Optimization terminated successfully.\n",
      "         Current function value: 67.576946\n",
      "         Iterations: 32\n",
      "         Function evaluations: 62\n"
     ]
    }
   ],
   "source": [
    "initial = sp.array([m_true, b_true]) + 0.1*sp.random.randn(2)\n",
    "optimo = fmin(chi_cuadrado, initial)"
   ]
  },
  {
   "cell_type": "code",
   "execution_count": 53,
   "metadata": {},
   "outputs": [
    {
     "data": {
      "text/plain": [
       "array([-0.92515252,  4.08045713])"
      ]
     },
     "execution_count": 53,
     "metadata": {},
     "output_type": "execute_result"
    }
   ],
   "source": [
    "optimo"
   ]
  },
  {
   "cell_type": "markdown",
   "metadata": {},
   "source": [
    "Veamos como queda la funcion con los parametros que acabamos de estimar."
   ]
  },
  {
   "cell_type": "code",
   "execution_count": 55,
   "metadata": {},
   "outputs": [
    {
     "data": {
      "image/png": "[encoded data removed]",
      "text/plain": [
       "<Figure size 432x288 with 1 Axes>"
      ]
     },
     "metadata": {},
     "output_type": "display_data"
    }
   ],
   "source": [
    "m_est = optimo[0]\n",
    "b_est = optimo[1]\n",
    "\n",
    "plt.plot(x, y, 'k.')\n",
    "plt.plot(x0,m_true*x0+b_true, 'k-')\n",
    "plt.plot(x0, m_est*x0+b_est, 'g-')\n",
    "plt.show()"
   ]
  },
  {
   "cell_type": "markdown",
   "metadata": {},
   "source": [
    "## La funcion minimize\n",
    "\n",
    "Otra funcion que podemos utilizar es optimize.minimize. Esta funcion recibe una funcion a minimizar, pero esta debe tener otra forma. Por lo cual, tenemos que redefinir la funcion que teniamos antes."
   ]
  },
  {
   "cell_type": "code",
   "execution_count": 56,
   "metadata": {
    "collapsed": true
   },
   "outputs": [],
   "source": [
    "from scipy.optimize import minimize\n",
    "def chi_minimize(params, x, y):\n",
    "    m, b = params\n",
    "    y_model = m * x + b\n",
    "    y_data = y\n",
    "    a = 0\n",
    "    for i in range(len(y_data)):\n",
    "        a += (y_model[i] - y_data[i]) ** 2\n",
    "    return a"
   ]
  },
  {
   "cell_type": "code",
   "execution_count": 58,
   "metadata": {
    "collapsed": true
   },
   "outputs": [],
   "source": [
    "initial = sp.array([m_true, b_true]) + 0.1*sp.random.randn(2)\n",
    "optimo2 = minimize(chi_minimize, initial, args=(x, y)) # x e y son los datos, no modelo"
   ]
  },
  {
   "cell_type": "code",
   "execution_count": 59,
   "metadata": {},
   "outputs": [
    {
     "data": {
      "text/plain": [
       "      fun: 67.57694570483076\n",
       " hess_inv: array([[ 0.00122273, -0.00545243],\n",
       "       [-0.00545243,  0.03431369]])\n",
       "      jac: array([ 9.53674316e-07, -9.53674316e-07])\n",
       "  message: 'Optimization terminated successfully.'\n",
       "     nfev: 28\n",
       "      nit: 4\n",
       "     njev: 7\n",
       "   status: 0\n",
       "  success: True\n",
       "        x: array([-0.92515135,  4.08044121])"
      ]
     },
     "execution_count": 59,
     "metadata": {},
     "output_type": "execute_result"
    }
   ],
   "source": [
    "optimo2"
   ]
  },
  {
   "cell_type": "code",
   "execution_count": 61,
   "metadata": {},
   "outputs": [
    {
     "data": {
      "image/png": "[encoded data removed]",
      "text/plain": [
       "<Figure size 432x288 with 1 Axes>"
      ]
     },
     "metadata": {},
     "output_type": "display_data"
    }
   ],
   "source": [
    "parametros = optimo2.x\n",
    "\n",
    "plt.plot(x, y, 'k.')\n",
    "#plt.plot(x0,m_true*x0+b_true, 'k.')\n",
    "plt.plot(x0, parametros[0]*x0+parametros[1], 'r-')\n",
    "plt.show()"
   ]
  },
  {
   "cell_type": "markdown",
   "metadata": {},
   "source": [
    "## La funcion leastsq\n",
    "\n",
    "Lo que hace esta funcion es minimizar la suma de los cuadrados de una funcion. Tenemos que escribir otra forma de la funcion que queremos minimizar con respecto a las anteriores"
   ]
  },
  {
   "cell_type": "code",
   "execution_count": 62,
   "metadata": {
    "collapsed": true
   },
   "outputs": [],
   "source": [
    "from scipy.optimize import leastsq\n",
    "y_data = y\n",
    "x_data = x\n",
    "\n",
    "def chi(params):\n",
    "    m, b = params\n",
    "    return y_data - m*x_data - b"
   ]
  },
  {
   "cell_type": "code",
   "execution_count": 65,
   "metadata": {
    "collapsed": true
   },
   "outputs": [],
   "source": [
    "initial = sp.array([m_true, b_true]) + 0.1*sp.random.randn(2)\n",
    "optimo3 = leastsq(chi, initial)"
   ]
  },
  {
   "cell_type": "code",
   "execution_count": 66,
   "metadata": {},
   "outputs": [
    {
     "data": {
      "text/plain": [
       "(array([-0.92515134,  4.08044116]), 2)"
      ]
     },
     "execution_count": 66,
     "metadata": {},
     "output_type": "execute_result"
    }
   ],
   "source": [
    "optimo3"
   ]
  },
  {
   "cell_type": "code",
   "execution_count": 67,
   "metadata": {},
   "outputs": [
    {
     "data": {
      "image/png": "[encoded data removed]",
      "text/plain": [
       "<Figure size 432x288 with 1 Axes>"
      ]
     },
     "metadata": {},
     "output_type": "display_data"
    }
   ],
   "source": [
    "parametros3 = optimo3[0]\n",
    "\n",
    "plt.plot(x, y, 'k.')\n",
    "plt.plot(x0,m_true*x0+b_true, 'k-')\n",
    "plt.plot(x0, parametros3[0]*x0+parametros3[1], 'c-')\n",
    "plt.show()"
   ]
  },
  {
   "cell_type": "markdown",
   "metadata": {},
   "source": [
    "## La funcion curve_fit\n",
    "\n",
    "Tambien existe una funcion que se llama curve_fit, que recibe una funcion modelo y los valores de x e y, sin necesidad de hacer nosotros una evaluacion $\\chi^2$ porque ya la trae implementada."
   ]
  },
  {
   "cell_type": "code",
   "execution_count": 68,
   "metadata": {
    "collapsed": true
   },
   "outputs": [],
   "source": [
    "from scipy.optimize import curve_fit\n",
    "\n",
    "def linea(x, *params):\n",
    "    m, b = params\n",
    "    return m*x+b"
   ]
  },
  {
   "cell_type": "code",
   "execution_count": 69,
   "metadata": {},
   "outputs": [],
   "source": [
    "initial = sp.array([m_true, b_true]) + 0.1*sp.random.randn(2)\n",
    "optimo4 = curve_fit(linea, x, y, p0=initial)"
   ]
  },
  {
   "cell_type": "code",
   "execution_count": 70,
   "metadata": {},
   "outputs": [
    {
     "data": {
      "text/plain": [
       "(array([-0.92515134,  4.08044116]), array([[ 0.00344284, -0.01535244],\n",
       "        [-0.01535244,  0.09661726]]))"
      ]
     },
     "execution_count": 70,
     "metadata": {},
     "output_type": "execute_result"
    }
   ],
   "source": [
    "optimo4"
   ]
  },
  {
   "cell_type": "code",
   "execution_count": 71,
   "metadata": {},
   "outputs": [
    {
     "data": {
      "image/png": "[encoded data removed]",
      "text/plain": [
       "<Figure size 432x288 with 1 Axes>"
      ]
     },
     "metadata": {},
     "output_type": "display_data"
    }
   ],
   "source": [
    "parametros4 = optimo4[0]\n",
    "\n",
    "plt.plot(x, y, 'k.')\n",
    "plt.plot(x0,m_true*x0+b_true, 'k-')\n",
    "plt.plot(x0, parametros4[0]*x0+parametros4[1], 'm-')\n",
    "plt.show()"
   ]
  },
  {
   "cell_type": "code",
   "execution_count": null,
   "metadata": {
    "collapsed": true
   },
   "outputs": [],
   "source": []
  }
 ],
 "metadata": {
  "kernelspec": {
   "display_name": "Python 3",
   "language": "python",
   "name": "python3"
  },
  "language_info": {
   "codemirror_mode": {
    "name": "ipython",
    "version": 3
   },
   "file_extension": ".py",
   "mimetype": "text/x-python",
   "name": "python",
   "nbconvert_exporter": "python",
   "pygments_lexer": "ipython3",
   "version": "3.8.5"
  }
 },
 "nbformat": 4,
 "nbformat_minor": 2
}
