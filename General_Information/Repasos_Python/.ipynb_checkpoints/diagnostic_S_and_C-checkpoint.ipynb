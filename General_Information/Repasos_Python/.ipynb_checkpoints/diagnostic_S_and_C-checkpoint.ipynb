{
 "cells": [
  {
   "cell_type": "markdown",
   "metadata": {},
   "source": [
    "# Diagnóstico Sience & Commit"
   ]
  },
  {
   "cell_type": "markdown",
   "metadata": {},
   "source": [
    "Hola a todes!\n",
    "\n",
    "Bienvenides al Workshop Science and Commit. \n",
    "\n",
    "Este material es \n",
    "\n",
    "A continuación encuentran una serie de ejercicios para repasar sus conocimientos básicos de Python. No se queden pegados si un ítem no les funciona, pueden continuar con el siguiente. Pueden apoyarse por el material que quieran y escribir cualquier duda por el canal oficial del workshop.\n",
    "\n",
    "Usar Python desde Anaconda o Miniconda es lo más recomendado. Es fácil crear ambientes (environments), instalar paquetes y utilizar diferentes programas basados en python. \n",
    "\n",
    "https://www.anaconda.com/products/individual"
   ]
  },
  {
   "cell_type": "markdown",
   "metadata": {},
   "source": [
    "Este tutorial está escrito en ingles, pues fue una adapaticón del día 0 del Workshop codeastro. \n",
    "\n",
    "https://github.com/semaphoreP/codeastro/blob/main/Day0/diagnostic.ipynb"
   ]
  },
  {
   "cell_type": "code",
   "execution_count": null,
   "metadata": {},
   "outputs": [],
   "source": []
  },
  {
   "cell_type": "markdown",
   "metadata": {},
   "source": [
    "### I. Types and Variables\n",
    "\n",
    "**1.1.** Python is an object-oriented language, meaning that everything (even basic types like `int`s and `str`s) are represented asobjects. Describe and give an example of each of the following types. The first is completed for you.\n",
    "\n",
    "- `int`: integers (no decimals). Example: 345\n",
    "- `str`\n",
    "- `float`\n",
    "- `tuple`\n",
    "- `dict`\n",
    "- `bool`\n",
    "- `numpy.array`\n",
    "\n",
    "**1.2.** Identify the types of the following Python objects (one per line). The first is completed for you."
   ]
  },
  {
   "cell_type": "code",
   "execution_count": 2,
   "metadata": {},
   "outputs": [
    {
     "data": {
      "text/plain": [
       "7.2"
      ]
     },
     "execution_count": 2,
     "metadata": {},
     "output_type": "execute_result"
    }
   ],
   "source": [
    "\"foo\"   # type str\n",
    "1.2\n",
    "{\"foo\": 1, \"bar\": 6}\n",
    "100\n",
    "'bar'\n",
    "(1, 2, 3)\n",
    "1e4\n",
    "6 + 1.2"
   ]
  },
  {
   "cell_type": "markdown",
   "metadata": {},
   "source": [
    "**1.3.** Check your work using the `type()` function. An example is below."
   ]
  },
  {
   "cell_type": "code",
   "execution_count": 3,
   "metadata": {},
   "outputs": [
    {
     "name": "stdout",
     "output_type": "stream",
     "text": [
      "<class 'bool'>\n"
     ]
    }
   ],
   "source": [
    "print(type(True))"
   ]
  },
  {
   "cell_type": "markdown",
   "metadata": {},
   "source": [
    "**1.4.** What is the `type` of the object `foo` in the code snippet below? Comment the fourth line in to check."
   ]
  },
  {
   "cell_type": "code",
   "execution_count": 4,
   "metadata": {},
   "outputs": [
    {
     "data": {
      "text/plain": [
       "function"
      ]
     },
     "execution_count": 4,
     "metadata": {},
     "output_type": "execute_result"
    }
   ],
   "source": [
    "def foo(bar):\n",
    "    return bar\n",
    "\n",
    "type(foo)"
   ]
  },
  {
   "cell_type": "markdown",
   "metadata": {},
   "source": [
    "**1.5.** What is the `type` of the variable `foo` in the code snippet below?"
   ]
  },
  {
   "cell_type": "code",
   "execution_count": 5,
   "metadata": {},
   "outputs": [],
   "source": [
    "foo = 5 + 3.4"
   ]
  },
  {
   "cell_type": "markdown",
   "metadata": {},
   "source": [
    "**1.6** Access the first element of the following array, and assign it to the variable `foo`."
   ]
  },
  {
   "cell_type": "code",
   "execution_count": 6,
   "metadata": {},
   "outputs": [],
   "source": [
    "import numpy as np\n",
    "\n",
    "my_arr = np.array([1, 2, 3])"
   ]
  },
  {
   "cell_type": "markdown",
   "metadata": {},
   "source": [
    "**1.7.** Access the value with key `foo` in the following dictionary, and assign it to the variable `bar`."
   ]
  },
  {
   "cell_type": "code",
   "execution_count": 7,
   "metadata": {},
   "outputs": [],
   "source": [
    "my_dict = {'foo': 1, 'bar': 2}"
   ]
  },
  {
   "cell_type": "markdown",
   "metadata": {},
   "source": [
    "** (*) 1.8**. Think through the following code. What do you expect `bar` to be at the end? Comment in the last line in the cell below and see if you were right. \n",
    "\n",
    "Note: [this blog post](https://medium.com/@meghamohan/mutable-and-immutable-side-of-python-c2145cf72747) is a good overview of what's going on here.\n",
    "\n",
    "\n",
    "### II. Functions and Classes"
   ]
  },
  {
   "cell_type": "code",
   "execution_count": 8,
   "metadata": {},
   "outputs": [
    {
     "data": {
      "text/plain": [
       "3"
      ]
     },
     "execution_count": 8,
     "metadata": {},
     "output_type": "execute_result"
    }
   ],
   "source": [
    "foo = [1, 2, 3]\n",
    "bar = foo\n",
    "foo.pop() # removes the last element of the list\n",
    "# print(bar)"
   ]
  },
  {
   "cell_type": "markdown",
   "metadata": {},
   "source": [
    "**2.1** Define a function that takes in two integers and returns their product."
   ]
  },
  {
   "cell_type": "code",
   "execution_count": null,
   "metadata": {},
   "outputs": [],
   "source": []
  },
  {
   "cell_type": "markdown",
   "metadata": {},
   "source": [
    "(*) **2.2** Define a [recursive](https://www.programiz.com/python-programming/recursion) function that computes the factorial of an integer. Test your function by computing 5! (the answer should be 120)."
   ]
  },
  {
   "cell_type": "code",
   "execution_count": null,
   "metadata": {},
   "outputs": [],
   "source": []
  },
  {
   "cell_type": "markdown",
   "metadata": {},
   "source": [
    "Let's define and play with a simple class."
   ]
  },
  {
   "cell_type": "code",
   "execution_count": null,
   "metadata": {},
   "outputs": [],
   "source": []
  },
  {
   "cell_type": "code",
   "execution_count": 9,
   "metadata": {},
   "outputs": [
    {
     "name": "stdout",
     "output_type": "stream",
     "text": [
      "The numbers 1 and 2.\n"
     ]
    }
   ],
   "source": [
    "class Numbers(object):\n",
    "    \"\"\"\n",
    "    Class containing two floats that computes their product & sum.\n",
    "\n",
    "    Args:\n",
    "        a (float): number 1\n",
    "        b (float): number 2\n",
    "    \"\"\"\n",
    "    \n",
    "    def __init__(self, a, b):\n",
    "        self.a = a\n",
    "        self.b = b\n",
    "\n",
    "    def __repr__(self):\n",
    "        return \"The numbers {} and {}.\".format(self.a, self.b)\n",
    "        \n",
    "    def num_sum(self):\n",
    "        \"\"\"\n",
    "        Compute the sum of `a` and `b`\n",
    "\n",
    "        Returns:\n",
    "            float: sum of `a` and `b`\n",
    "        \"\"\"\n",
    "        return self.a + self.b\n",
    "    \n",
    "    def num_prod(self):\n",
    "        \"\"\"\n",
    "        Compute the product of `a` and `b`\n",
    "\n",
    "        Returns:\n",
    "            float: product of `a` and `b`\n",
    "        \"\"\"\n",
    "        return self.a * self.b\n",
    "    \n",
    "myNumbers = Numbers(1, 2)\n",
    "print(myNumbers)\n",
    "my_sum = myNumbers.num_sum()"
   ]
  },
  {
   "cell_type": "markdown",
   "metadata": {},
   "source": [
    "**2.3** Use the `Numbers` class to find the product of 100 and 350, and assign the result to the variable `my_prod`."
   ]
  },
  {
   "cell_type": "code",
   "execution_count": null,
   "metadata": {},
   "outputs": [],
   "source": []
  },
  {
   "cell_type": "markdown",
   "metadata": {},
   "source": [
    "(*) **2.4** Define a class `Integers` that inherits from `Numbers`. It should have an additional method, `fact_product` that computes the factorial of the product of two numbers. Instantiate your `Integers` class and compute the product of the factorial of 10 and 2 (you can use the function you defined in **2.2**)."
   ]
  },
  {
   "cell_type": "markdown",
   "metadata": {},
   "source": [
    "### III. Imports\n",
    "\n",
    "**3.1** Consider the following line of code:\n",
    "\n",
    "``import scipy.ndimage``\n",
    "\n",
    "Using this line of code as an example, explain the difference between packages and modules. Do all packages need modules and do all modules need packages?"
   ]
  },
  {
   "cell_type": "code",
   "execution_count": null,
   "metadata": {},
   "outputs": [],
   "source": []
  },
  {
   "cell_type": "code",
   "execution_count": null,
   "metadata": {},
   "outputs": [],
   "source": []
  },
  {
   "cell_type": "markdown",
   "metadata": {},
   "source": [
    "**3.2** I want to use the following functions from python's `math` module: `sqrt`, `sin`, `cos`, `tan`. Write a single line of code that imports all four of these functions (there are multiple solutions). Note that it is not recommended to use the wildcard `*` when importing as it often imports many other variables, which can have unintended consequences!"
   ]
  },
  {
   "cell_type": "code",
   "execution_count": null,
   "metadata": {},
   "outputs": [],
   "source": []
  },
  {
   "cell_type": "markdown",
   "metadata": {},
   "source": [
    "**3.3** Import the package `numpy` as the variable `np` and evaluate sin(0.5) using the `sin` function available in both `math` and  `numpy`.  Do they agree?"
   ]
  },
  {
   "cell_type": "code",
   "execution_count": null,
   "metadata": {},
   "outputs": [],
   "source": []
  },
  {
   "cell_type": "markdown",
   "metadata": {},
   "source": [
    "### IV: String Formatting\n",
    "\n",
    "**4.1** Use string formatting to print out the randomly generated number stored in the variable `rand` to 5 decimal places. For example, if the random number is 0.12984737, the output should be `0.12985`. In the code below, we have already generated the random number for you."
   ]
  },
  {
   "cell_type": "code",
   "execution_count": 10,
   "metadata": {},
   "outputs": [],
   "source": [
    "import random\n",
    "rand = random.random()\n",
    "\n",
    "# print something here"
   ]
  },
  {
   "cell_type": "code",
   "execution_count": null,
   "metadata": {},
   "outputs": [],
   "source": []
  },
  {
   "cell_type": "markdown",
   "metadata": {},
   "source": [
    "**4.2** Use string formatting to print out your python version and your python executable directory. We have stored your python executable directory in `python_dir`, your python major version number in `python_version_major`, and your python minor version number in `python_version_minor`. For example, if my python executable is in `/home/codeastro/anaconda3`, my python major version number is `3`, and my python minor version number is `8`, I should print out the following:\n",
    "\n",
    "`Python 3.8 can be run from /home/codeastro/anaconda3 folder`"
   ]
  },
  {
   "cell_type": "code",
   "execution_count": 11,
   "metadata": {},
   "outputs": [],
   "source": [
    "import sys\n",
    "python_dir = sys.prefix\n",
    "python_version_major = sys.version_info.major\n",
    "python_version_minor = sys.version_info.minor\n",
    "\n",
    "### print something here"
   ]
  },
  {
   "cell_type": "code",
   "execution_count": null,
   "metadata": {},
   "outputs": [],
   "source": []
  },
  {
   "cell_type": "markdown",
   "metadata": {},
   "source": [
    "### V: Lists\n",
    "\n",
    "Here are three different ways to construct a list\n",
    "\n",
    "1. Within a loop\n",
    "1. Using list comprehension (see https://www.pythonforbeginners.com/basics/list-comprehensions-in-python)\n",
    "1. Using the multiplication property of lists (see https://thehelloworldprogram.com/python/python-list-operations/)\n",
    "\n",
    "First, lets create a 100-element long list filled with zeros using a for loop"
   ]
  },
  {
   "cell_type": "code",
   "execution_count": 12,
   "metadata": {},
   "outputs": [],
   "source": [
    "zeros = []\n",
    "for i in range(100):\n",
    "    zeros.append(i)"
   ]
  },
  {
   "cell_type": "markdown",
   "metadata": {},
   "source": [
    "**5.1** Now use list multiplication to create the same 100-element long list filled with zeros"
   ]
  },
  {
   "cell_type": "code",
   "execution_count": null,
   "metadata": {},
   "outputs": [],
   "source": []
  },
  {
   "cell_type": "markdown",
   "metadata": {},
   "source": [
    "(*) **5.2** Use list comprehension to create a list containing all even numbers between 0 and 100 with a single line of code."
   ]
  },
  {
   "cell_type": "code",
   "execution_count": null,
   "metadata": {},
   "outputs": [],
   "source": []
  },
  {
   "cell_type": "markdown",
   "metadata": {},
   "source": [
    "As you saw in exercise 5.1, list operators operate on the entire list, not on the individual elements.\n",
    "\n",
    "**5.3** Add 1 to each element in the list. Save the modified list into a new variable called \"ones\""
   ]
  },
  {
   "cell_type": "code",
   "execution_count": null,
   "metadata": {},
   "outputs": [],
   "source": []
  },
  {
   "cell_type": "markdown",
   "metadata": {},
   "source": [
    "### VI: Numpy Arrays\n",
    "\n",
    "It is quite common in astronomy and many other applications to perform mathematical operations on each element of a list or array. Using the built-in Python list type forces you to loop over the items in the list and operate on the elements one at a time. Looping over long lists in Python is very slow and bad practice.\n",
    "\n",
    "Using numpy arrays allows for operations to be performed on an entire array at once. In reality a loop is still happening, but the numpy team programmed the loop in C so that it is much much faster.\n",
    "\n",
    "Numpy can do a lot more than vector operations. Its a large, powerful package that you will use very often. See https://numpy.org for more information.\n",
    "\n",
    "This example illustrates the different behavior for the + operator for lists and arrays."
   ]
  },
  {
   "cell_type": "code",
   "execution_count": 13,
   "metadata": {},
   "outputs": [
    {
     "name": "stdout",
     "output_type": "stream",
     "text": [
      "(10, 12)\n",
      "[[11. 10. 10. 10. 10. 10. 10. 10. 10. 10. 20. 10.]\n",
      " [ 0.  0.  0.  0.  0.  0.  0.  0.  0.  0. 10.  0.]\n",
      " [ 0.  0.  0.  0.  0.  0.  0.  0.  0.  0. 10.  0.]\n",
      " [ 0.  0.  0.  0.  0.  0.  0.  0.  0.  0. 10.  0.]\n",
      " [10.  0. 10.  0. 10.  0. 10.  0. 10.  0. 20.  0.]\n",
      " [ 0.  0.  0.  0.  0.  0.  0.  0.  0.  0. 10.  0.]\n",
      " [ 0.  0.  0.  0.  0.  0.  0.  0.  0.  0. 10.  0.]\n",
      " [ 0.  0.  0.  0.  0.  0.  0.  0.  0.  0. 10.  0.]\n",
      " [ 0.  0.  0.  0.  0.  0.  0.  0.  0.  0. 10.  0.]\n",
      " [ 0.  0.  0.  0.  0.  0.  0.  0.  0.  0. 10.  0.]]\n"
     ]
    }
   ],
   "source": [
    "import numpy as np\n",
    "\n",
    "x = [1, 2, 3, 4, 5]\n",
    "# lets divide each element by 2\n",
    "for i in range(len(x)):\n",
    "    x[i] /= 2\n",
    "    \n",
    "# Now lets do the same with a numpy array\n",
    "x = np.array([1, 2, 3, 4, 5])\n",
    "x = x / 2\n",
    "\n",
    "# See how easy!\n",
    "\n",
    "# We can also create arrays with more than one dimension\n",
    "# this creates a 3D array with shape 10 rows by 12 columns\n",
    "arr = np.zeros((10, 12))\n",
    "\n",
    "# use the .shape attribute of the array to check the shape\n",
    "print(arr.shape)\n",
    "\n",
    "# We can use indexing and slicing to extract and/or operate on a subset of an array\n",
    "# see https://www.pythoninformer.com/python-libraries/numpy/index-and-slice/\n",
    "# lets add 1 to the single element that is in the 0th position in both the rows and columns\n",
    "arr[0, 0] = 1\n",
    "\n",
    "# now add 10 to everything in the in the 0th row (first dimension)\n",
    "arr[0, :] += 10\n",
    "# now everything in the 10th column (second dimension)\n",
    "arr[:, 10] += 10\n",
    "# now every other element in the 4th row\n",
    "arr[4, ::2] += 10\n",
    "\n",
    "print(arr)"
   ]
  },
  {
   "cell_type": "markdown",
   "metadata": {},
   "source": [
    "**6.1** Create a 9x9 array filled with 1 in every element. Hint: there is a `np.ones` function too."
   ]
  },
  {
   "cell_type": "code",
   "execution_count": 14,
   "metadata": {},
   "outputs": [],
   "source": [
    "x = np.ones((9, 9))"
   ]
  },
  {
   "cell_type": "markdown",
   "metadata": {},
   "source": [
    "**6.2** Multiply every element in the 0th row by 100 using slicing"
   ]
  },
  {
   "cell_type": "code",
   "execution_count": 15,
   "metadata": {},
   "outputs": [
    {
     "name": "stdout",
     "output_type": "stream",
     "text": [
      "[[100. 100. 100. 100. 100. 100. 100. 100. 100.]\n",
      " [  1.   1.   1.   1.   1.   1.   1.   1.   1.]\n",
      " [  1.   1.   1.   1.   1.   1.   1.   1.   1.]\n",
      " [  1.   1.   1.   1.   1.   1.   1.   1.   1.]\n",
      " [  1.   1.   1.   1.   1.   1.   1.   1.   1.]\n",
      " [  1.   1.   1.   1.   1.   1.   1.   1.   1.]\n",
      " [  1.   1.   1.   1.   1.   1.   1.   1.   1.]\n",
      " [  1.   1.   1.   1.   1.   1.   1.   1.   1.]\n",
      " [  1.   1.   1.   1.   1.   1.   1.   1.   1.]]\n"
     ]
    }
   ],
   "source": [
    "x[0, :] *= 100\n",
    "print(x)"
   ]
  },
  {
   "cell_type": "markdown",
   "metadata": {},
   "source": [
    "Your array should now look like this"
   ]
  },
  {
   "cell_type": "raw",
   "metadata": {},
   "source": [
    "[[100. 100. 100. 100. 100. 100. 100. 100. 100.]\n",
    " [  1.   1.   1.   1.   1.   1.   1.   1.   1.]\n",
    " [  1.   1.   1.   1.   1.   1.   1.   1.   1.]\n",
    " [  1.   1.   1.   1.   1.   1.   1.   1.   1.]\n",
    " [  1.   1.   1.   1.   1.   1.   1.   1.   1.]\n",
    " [  1.   1.   1.   1.   1.   1.   1.   1.   1.]\n",
    " [  1.   1.   1.   1.   1.   1.   1.   1.   1.]\n",
    " [  1.   1.   1.   1.   1.   1.   1.   1.   1.]\n",
    " [  1.   1.   1.   1.   1.   1.   1.   1.   1.]]"
   ]
  },
  {
   "cell_type": "markdown",
   "metadata": {},
   "source": [
    "(*) **6.3** Extract every 3rd element from the 4th column of the array that you created in step 6.2"
   ]
  },
  {
   "cell_type": "code",
   "execution_count": null,
   "metadata": {},
   "outputs": [],
   "source": []
  },
  {
   "cell_type": "markdown",
   "metadata": {},
   "source": [
    "**6.4** Reshape the array into a 1-dimensional vector"
   ]
  },
  {
   "cell_type": "code",
   "execution_count": null,
   "metadata": {},
   "outputs": [],
   "source": []
  },
  {
   "cell_type": "markdown",
   "metadata": {},
   "source": [
    "**6.5** Modify the 4th element of the vector x. Change the value to 20."
   ]
  },
  {
   "cell_type": "code",
   "execution_count": 16,
   "metadata": {},
   "outputs": [],
   "source": [
    "x = np.array([0, 1, 2, 3, 4, 5, 6])\n",
    "y = x"
   ]
  },
  {
   "cell_type": "markdown",
   "metadata": {},
   "source": [
    "**6.6** Print the 4th element of the vector y. Was y also modified as a result of modifying x?"
   ]
  },
  {
   "cell_type": "code",
   "execution_count": null,
   "metadata": {},
   "outputs": [],
   "source": []
  },
  {
   "cell_type": "markdown",
   "metadata": {},
   "source": [
    "If I wanted to loop over the lines of a file and append each line to a list but I don't know how many lines are in the file, would it be more appropriate to use a list or an array?"
   ]
  },
  {
   "cell_type": "code",
   "execution_count": null,
   "metadata": {},
   "outputs": [],
   "source": []
  },
  {
   "cell_type": "markdown",
   "metadata": {},
   "source": [
    "If I needed to calculate the square root of 10000 numbers would it be better to use a list or an array?"
   ]
  },
  {
   "cell_type": "code",
   "execution_count": null,
   "metadata": {},
   "outputs": [],
   "source": []
  },
  {
   "cell_type": "markdown",
   "metadata": {},
   "source": [
    "### VII: Dictionaries\n",
    "\n",
    "**7.1** Construct a dictionary where the keys are the elements of the `lorem` list below and the values are the 2nd character in each word. First construct this dictionary using a loop, then construct the same dictionary using dictionary comprehension. See here https://www.geeksforgeeks.org/python-dictionary-comprehension/ for dictionary comprehension syntax."
   ]
  },
  {
   "cell_type": "code",
   "execution_count": 17,
   "metadata": {},
   "outputs": [],
   "source": [
    "lorem = ['Lorem', 'ipsum', 'dolor', 'sit', 'amet,', 'consectetur',\n",
    "         'adipiscing', 'elit,', 'sed', 'do', 'eiusmod', 'tempor',\n",
    "         'incididunt', 'ut', 'labore', 'et', 'dolore', 'magna', 'aliqua.']"
   ]
  },
  {
   "cell_type": "markdown",
   "metadata": {},
   "source": [
    "**7.2** Update the values to 0 for the following keys without using a loop. Hint: lookup the `update` method for Python dictionaries"
   ]
  },
  {
   "cell_type": "code",
   "execution_count": 18,
   "metadata": {},
   "outputs": [],
   "source": [
    "changes = ['dolor', 'elit', 'tempor', 'magna']"
   ]
  },
  {
   "cell_type": "markdown",
   "metadata": {},
   "source": [
    "**7.3** Loop over the key value pairs and print each pair in the following format `<key>: <value>`"
   ]
  },
  {
   "cell_type": "code",
   "execution_count": null,
   "metadata": {},
   "outputs": [],
   "source": []
  },
  {
   "cell_type": "markdown",
   "metadata": {},
   "source": [
    "**7.4** Remove all key/value pairs where the value is \"o\""
   ]
  },
  {
   "cell_type": "code",
   "execution_count": null,
   "metadata": {},
   "outputs": [],
   "source": []
  },
  {
   "cell_type": "markdown",
   "metadata": {},
   "source": [
    "### VIII: Packages\n",
    "\n",
    "The packages are a very powerful tool. \n",
    "\n",
    "Some useful packages are for example\n",
    "\n",
    "- `numpy`\n",
    "- `astropy`\n",
    "- `matplotlib`\n",
    "- `scipy`\n",
    "- `pandas`\n",
    "- `pytest`\n",
    "- `cython`\n",
    "- `mkl`\n",
    "\n"
   ]
  },
  {
   "cell_type": "code",
   "execution_count": null,
   "metadata": {},
   "outputs": [],
   "source": []
  },
  {
   "cell_type": "markdown",
   "metadata": {},
   "source": [
    "### IX: Fiteos básicos\n",
    "\n",
    "Muhcas veces queremos ajustar funciones a un set de datos. Existen muchas formas de hacer esto y varios aspectos a considerar, pero como ejemplo básico se pueden hacer cosas como estas. \n",
    "\n",
    "**9.1** Fiteo lineal."
   ]
  },
  {
   "cell_type": "code",
   "execution_count": 19,
   "metadata": {},
   "outputs": [],
   "source": [
    "import numpy as np   # Paquete para manejar arreglos de datos\n",
    "import matplotlib.pyplot as plt  # Paquete para graficar\n",
    "from scipy.optimize import curve_fit\t# Se importa metodo de fiteo"
   ]
  },
  {
   "cell_type": "code",
   "execution_count": 20,
   "metadata": {},
   "outputs": [
    {
     "data": {
      "image/png": "[encoded data removed]",
      "text/plain": [
       "<Figure size 432x288 with 1 Axes>"
      ]
     },
     "metadata": {
      "needs_background": "light"
     },
     "output_type": "display_data"
    }
   ],
   "source": [
    "x = [0.1, 0.9, 1.8, 3.2, 4.2, 5]\n",
    "y = [-0.1, 1, 2.1, 2.9, 3.9, 5.2]\n",
    "plt.plot(x, y, '*')\n",
    "plt.xlabel(r'$x_{data}$', fontsize=18) #Asi podemos escribir utilizando latex\n",
    "plt.ylabel(r'$y_{data}$', fontsize=18)\n",
    "plt.show()"
   ]
  },
  {
   "cell_type": "code",
   "execution_count": 21,
   "metadata": {},
   "outputs": [
    {
     "data": {
      "image/png": "[encoded data removed]",
      "text/plain": [
       "<Figure size 432x288 with 1 Axes>"
      ]
     },
     "metadata": {
      "needs_background": "light"
     },
     "output_type": "display_data"
    }
   ],
   "source": [
    "z = np.polyfit(x, y, 1)\n",
    "\n",
    "def lineal(x, m, a):\n",
    "    x=np.array(x)\n",
    "    y= m*x +a\n",
    "    return y\n",
    "\n",
    "x_lineal=[0,5]\n",
    "y_lineal=lineal(x_lineal, z[0], z[1])\n",
    "\n",
    "plt.plot(x_lineal, y_lineal, 'k')\n",
    "plt.plot(x, y, 'o')\n",
    "plt.xlabel(r'$x_{data}$', fontsize=18) #Asi podemos escribir utilizando latex\n",
    "plt.ylabel(r'$y_{data}$', fontsize=18)\n",
    "plt.show()"
   ]
  },
  {
   "cell_type": "markdown",
   "metadata": {},
   "source": [
    "**9.2** Fiteo Gaussiano."
   ]
  },
  {
   "cell_type": "code",
   "execution_count": 22,
   "metadata": {},
   "outputs": [],
   "source": [
    "path = '/Users/palmabifani/Desktop/Astronomía Experimental/Tarea 1/sec_mierc_sem1_2019/'"
   ]
  },
  {
   "cell_type": "code",
   "execution_count": 23,
   "metadata": {},
   "outputs": [],
   "source": [
    "nombre = path+'sdf_121_121'\n",
    "v,T = np.genfromtxt(nombre, unpack = True, skip_header=108)"
   ]
  },
  {
   "cell_type": "code",
   "execution_count": 24,
   "metadata": {},
   "outputs": [
    {
     "data": {
      "image/png": "[encoded data removed]",
      "text/plain": [
       "<Figure size 432x288 with 1 Axes>"
      ]
     },
     "metadata": {
      "needs_background": "light"
     },
     "output_type": "display_data"
    }
   ],
   "source": [
    "plt.plot(v,T)\n",
    "plt.title('Espectro', fontsize=18)\n",
    "plt.ylabel('Temperatura [K]', fontsize=18)\n",
    "plt.xlabel(r'Velocidad [$\\frac{km}{s}$]', fontsize=18)\n",
    "plt.show()"
   ]
  },
  {
   "cell_type": "code",
   "execution_count": 25,
   "metadata": {},
   "outputs": [
    {
     "name": "stdout",
     "output_type": "stream",
     "text": [
      "Valores fiteados: (t0,M,S) = (19.141494481856213, 9.483894744996908, 1.8850942209851342)\n"
     ]
    }
   ],
   "source": [
    "# Se define funcion gaussiana a fitear\n",
    "def f_gauss(x,T0,mean,stdv):\n",
    "    return T0*np.exp(-((x-mean)**2)/(2*(stdv**2)))\n",
    "\n",
    "# First Guess: T0=20, m=10, s=1 obtenidos al inspeccionar espectro ploteado\n",
    "fg = [20, 10, 1] \n",
    "\n",
    "coefs,cov = curve_fit(f_gauss,v,T, p0=fg) # Se fitea\n",
    "\n",
    "t0,M,S = coefs[0],coefs[1],coefs[2]  # Se extraen los coeficientes fiteados\n",
    "\n",
    "print ('Valores fiteados: (t0,M,S) =',(t0,M,S))"
   ]
  },
  {
   "cell_type": "code",
   "execution_count": 26,
   "metadata": {},
   "outputs": [
    {
     "data": {
      "image/png": "[encoded data removed]",
      "text/plain": [
       "<Figure size 432x288 with 1 Axes>"
      ]
     },
     "metadata": {
      "needs_background": "light"
     },
     "output_type": "display_data"
    }
   ],
   "source": [
    "plt.plot(v,T, label='Data')\n",
    "plt.plot(v,f_gauss(v,t0, M,S), label='Fiteo')\n",
    "plt.title('Espectro', fontsize=18)\n",
    "plt.ylabel('Temperatura [K]', fontsize=18)\n",
    "plt.xlabel(r'Velocidad [$\\frac{km}{s}$]', fontsize=18)\n",
    "plt.legend()\n",
    "plt.show()"
   ]
  },
  {
   "cell_type": "code",
   "execution_count": null,
   "metadata": {},
   "outputs": [],
   "source": []
  },
  {
   "cell_type": "code",
   "execution_count": null,
   "metadata": {},
   "outputs": [],
   "source": []
  },
  {
   "cell_type": "code",
   "execution_count": null,
   "metadata": {},
   "outputs": [],
   "source": []
  },
  {
   "cell_type": "code",
   "execution_count": null,
   "metadata": {},
   "outputs": [],
   "source": []
  },
  {
   "cell_type": "code",
   "execution_count": null,
   "metadata": {},
   "outputs": [],
   "source": []
  },
  {
   "cell_type": "code",
   "execution_count": null,
   "metadata": {},
   "outputs": [],
   "source": []
  }
 ],
 "metadata": {
  "kernelspec": {
   "display_name": "Python 3",
   "language": "python",
   "name": "python3"
  },
  "language_info": {
   "codemirror_mode": {
    "name": "ipython",
    "version": 3
   },
   "file_extension": ".py",
   "mimetype": "text/x-python",
   "name": "python",
   "nbconvert_exporter": "python",
   "pygments_lexer": "ipython3",
   "version": "3.8.5"
  }
 },
 "nbformat": 4,
 "nbformat_minor": 4
}
