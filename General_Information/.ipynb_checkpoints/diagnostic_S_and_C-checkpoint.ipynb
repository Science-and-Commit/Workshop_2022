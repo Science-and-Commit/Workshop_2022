{
 "cells": [
  {
   "cell_type": "markdown",
   "metadata": {},
   "source": [
    "# Sience & Commit\n",
    "\n",
    "# Repaso general de Python"
   ]
  },
  {
   "cell_type": "markdown",
   "metadata": {},
   "source": [
    "Hola a todes!\n",
    "\n",
    "Bienvenidxs al Workshop Science and Commit. \n",
    "\n",
    "Este material es complementario y absolutamente opcional. Si estás perdidx en el uso de python es posible que sea útil. No te quedes pegadx si un ítem no te funciona, puedes continuar con el siguiente. Apoyate en el material que quieras y escribe cualquier duda por los canales oficial del workshop (discord o mail).\n",
    "\n",
    "Usar Python desde Anaconda o Miniconda es lo más recomendado. Es fácil crear ambientes (environments), instalar paquetes y desarrolllar diferentes proyectos basados en python. \n",
    "\n",
    "https://www.anaconda.com/products/individual"
   ]
  },
  {
   "cell_type": "markdown",
   "metadata": {},
   "source": [
    "Este tutorial es una adapaticón del día 0 del Workshop codeastro. \n",
    "\n",
    "https://github.com/semaphoreP/codeastro/blob/main/Day0/diagnostic.ipynb"
   ]
  },
  {
   "cell_type": "code",
   "execution_count": null,
   "metadata": {},
   "outputs": [],
   "source": []
  },
  {
   "cell_type": "markdown",
   "metadata": {},
   "source": [
    "### I. Tipos and Variables\n",
    "\n",
    "**1.1.** Python es un lenguaje orientado al objeto, es decir, todo es representado como un objeto, incluso los tipos de variables básicos como `int` y `str`.\n",
    "Describe y da un ejemplo de los siguientes tipos de variables: \n",
    "\n",
    "- `int`: integers (no decimals). Example: 345\n",
    "- `str`:\n",
    "- `float`:\n",
    "- `tuple`:\n",
    "- `dict`:\n",
    "- `bool`:\n",
    "- `numpy.array`:\n",
    "\n",
    "**1.2.** Identifica los tipos de los siguientes objetos de python.\n"
   ]
  },
  {
   "cell_type": "code",
   "execution_count": 2,
   "metadata": {},
   "outputs": [
    {
     "data": {
      "text/plain": [
       "7.2"
      ]
     },
     "execution_count": 2,
     "metadata": {},
     "output_type": "execute_result"
    }
   ],
   "source": [
    "\"foo\"                  # type str\n",
    "1.2                    #\n",
    "{\"foo\": 1, \"bar\": 6}   #\n",
    "100                    #\n",
    "'bar'                  #\n",
    "(1, 2, 3)              #\n",
    "1e4                    #\n",
    "6 + 1.2                #"
   ]
  },
  {
   "cell_type": "markdown",
   "metadata": {},
   "source": [
    "**1.3.** Chequea el ejercicio anterior utilizando la función `type()`."
   ]
  },
  {
   "cell_type": "code",
   "execution_count": 1,
   "metadata": {},
   "outputs": [
    {
     "name": "stdout",
     "output_type": "stream",
     "text": [
      "<class 'bool'>\n"
     ]
    }
   ],
   "source": [
    "# Ejemplo:\n",
    "print(type(True))"
   ]
  },
  {
   "cell_type": "markdown",
   "metadata": {},
   "source": [
    "**1.4.** Cual es el tipo de variable (`type`) del objeto `foo` en el código a continuación? "
   ]
  },
  {
   "cell_type": "code",
   "execution_count": 2,
   "metadata": {},
   "outputs": [],
   "source": [
    "def foo(bar):\n",
    "    return bar\n",
    "\n",
    "#type(foo)"
   ]
  },
  {
   "cell_type": "markdown",
   "metadata": {},
   "source": [
    "**1.5.** Cual es el tipo de variable (`type`) del objeto `foo` en el código a continuación? "
   ]
  },
  {
   "cell_type": "code",
   "execution_count": 5,
   "metadata": {},
   "outputs": [],
   "source": [
    "foo = 5 + 3.4"
   ]
  },
  {
   "cell_type": "markdown",
   "metadata": {},
   "source": [
    "**1.6** Accede al primer elemento del siguiente array y asignale el nombre `foo`."
   ]
  },
  {
   "cell_type": "code",
   "execution_count": 4,
   "metadata": {},
   "outputs": [],
   "source": [
    "import numpy as np  # Importamos este paquete para utilizar arrays de python\n",
    "\n",
    "my_arr = np.array([1, 2, 3])\n",
    "\n",
    "# foo = "
   ]
  },
  {
   "cell_type": "markdown",
   "metadata": {},
   "source": [
    "**1.7.** Accede al valor asociado a la llave `foo` en el siguiente diccionario y asigna ese valor a la variable `bar`."
   ]
  },
  {
   "cell_type": "code",
   "execution_count": 7,
   "metadata": {},
   "outputs": [],
   "source": [
    "my_dict = {'foo': 1, 'bar': 2}"
   ]
  },
  {
   "cell_type": "markdown",
   "metadata": {},
   "source": [
    "\n",
    "Nota: [en este blog](https://medium.com/@meghamohan/mutable-and-immutable-side-of-python-c2145cf72747) hay un buen esquema del contenido que acabamos de ver.\n",
    "\n",
    "\n",
    "### II. Funciones and Clases"
   ]
  },
  {
   "cell_type": "code",
   "execution_count": 7,
   "metadata": {},
   "outputs": [
    {
     "data": {
      "text/plain": [
       "3"
      ]
     },
     "execution_count": 7,
     "metadata": {},
     "output_type": "execute_result"
    }
   ],
   "source": [
    "foo = [1, 2, 3]\n",
    "bar = foo\n",
    "foo.pop() # elimina el último elemento de una lista\n",
    "# print(bar, foo)"
   ]
  },
  {
   "cell_type": "markdown",
   "metadata": {},
   "source": [
    "**2.1** Escribe la función producto entre dos variables."
   ]
  },
  {
   "cell_type": "code",
   "execution_count": null,
   "metadata": {},
   "outputs": [],
   "source": []
  },
  {
   "cell_type": "markdown",
   "metadata": {},
   "source": [
    "**2.2** Escribe una función [recursiva](https://www.programiz.com/python-programming/recursion) que calcule el factorial de un entero. Testea tu función calculando 5! (la respuesta debería ser 120)."
   ]
  },
  {
   "cell_type": "code",
   "execution_count": null,
   "metadata": {},
   "outputs": [],
   "source": []
  },
  {
   "cell_type": "markdown",
   "metadata": {},
   "source": [
    "**2.3** Definamos y juguemos con una clase simple. :D\n",
    "\n",
    "Calcula la suma y el producto entre dos objetos números."
   ]
  },
  {
   "cell_type": "code",
   "execution_count": 8,
   "metadata": {},
   "outputs": [],
   "source": [
    "class Numbers(object):\n",
    "    \"\"\"\n",
    "    Class containing two floats that computes their product & sum.\n",
    "\n",
    "    Args:\n",
    "        a (float): number 1\n",
    "        b (float): number 2\n",
    "    \"\"\"\n",
    "    \n",
    "    def __init__(self, a, b):\n",
    "        self.a = a\n",
    "        self.b = b\n",
    "\n",
    "    def __repr__(self):\n",
    "        return \"The numbers {} and {}.\".format(self.a, self.b)\n",
    "        \n",
    "    def num_sum(self):\n",
    "        \"\"\"\n",
    "        Compute the sum of `a` and `b`\n",
    "\n",
    "        Returns:\n",
    "            float: sum of `a` and `b`\n",
    "        \"\"\"\n",
    "        return self.a + self.b\n",
    "    \n",
    "    def num_prod(self):\n",
    "        \"\"\"\n",
    "        Compute the product of `a` and `b`\n",
    "\n",
    "        Returns:\n",
    "            float: product of `a` and `b`\n",
    "        \"\"\"\n",
    "        return self.a * self.b"
   ]
  },
  {
   "cell_type": "code",
   "execution_count": 9,
   "metadata": {},
   "outputs": [
    {
     "name": "stdout",
     "output_type": "stream",
     "text": [
      "The numbers 1 and 2.\n"
     ]
    }
   ],
   "source": [
    "myNumbers = Numbers(1, 2)\n",
    "print(myNumbers)\n",
    "\n",
    "# my_sum  = \n",
    "# my_prod ="
   ]
  },
  {
   "cell_type": "markdown",
   "metadata": {},
   "source": [
    "**2.3** Utiliza la clase `Numbers` para encontrar el producto de 149 y 352 y asígna este resultado a la variable `my_prod_2`."
   ]
  },
  {
   "cell_type": "code",
   "execution_count": null,
   "metadata": {},
   "outputs": [],
   "source": []
  },
  {
   "cell_type": "markdown",
   "metadata": {},
   "source": [
    "**2.4** Define una nueva clase, llamada `Integers` que herede `Numbers`. \n",
    "Agrégale un método adicional llamado `fact_product` que calcule el factorial del producto de dos números.\n",
    "Inicia tu clase `Integers` y calcula el factorial del producto entre 17 y 5.\n"
   ]
  },
  {
   "cell_type": "code",
   "execution_count": null,
   "metadata": {},
   "outputs": [],
   "source": [
    "class Integers(object):\n",
    "    \"\"\"\n",
    "    Def \n",
    "    \n",
    "    Args:\n",
    "        \n",
    "    \"\"\""
   ]
  },
  {
   "cell_type": "code",
   "execution_count": null,
   "metadata": {},
   "outputs": [],
   "source": []
  },
  {
   "cell_type": "markdown",
   "metadata": {},
   "source": [
    "### III. Imports\n",
    "\n",
    "**3.1** Considera la siguiente línea de código:\n",
    "\n",
    "``import scipy.ndimage``\n",
    "\n",
    "Utilizando esta línea como ejemplo, explica la diferencia entre paquetes y módulos. \n",
    "Todos los paquetes necesitan módulos y todos los módulos necesitan paquetes?"
   ]
  },
  {
   "cell_type": "code",
   "execution_count": null,
   "metadata": {},
   "outputs": [],
   "source": []
  },
  {
   "cell_type": "code",
   "execution_count": null,
   "metadata": {},
   "outputs": [],
   "source": []
  },
  {
   "cell_type": "markdown",
   "metadata": {},
   "source": [
    "**3.2** Queremos utilizar las siguientes funciones del módulo `math`: `sqrt`, `sin`, `cos`, `tan`. Escribe una línea de código que importe las cuatro funciones (Hay múltiples soluciones). \n",
    "\n",
    "Nota: No es recp,emdadp utilizar `*` para importar, ya que importa todas las funciones del método y podría tener consecuencias no deseadas."
   ]
  },
  {
   "cell_type": "code",
   "execution_count": null,
   "metadata": {},
   "outputs": [],
   "source": []
  },
  {
   "cell_type": "markdown",
   "metadata": {},
   "source": [
    "**3.3** Importa el paquete `numpy` como `np` y evalúa sin(0.5) usando la función `sin` de `math` y `numpy`.  Coinciden los resultados?"
   ]
  },
  {
   "cell_type": "code",
   "execution_count": null,
   "metadata": {},
   "outputs": [],
   "source": []
  },
  {
   "cell_type": "markdown",
   "metadata": {},
   "source": [
    "### IV: String Formatting\n",
    "\n",
    "**4.1** \n",
    "Utilice string formatting para imprimir un número generado aleatoriamente almacenado en la variable `rand` con 5 decimales. Por ejemplo, si el número aleatorio es 0,12984737, la salida debería ser `0,12985`. En el código a continuación, ya hemos generado el número aleatorio para usted."
   ]
  },
  {
   "cell_type": "code",
   "execution_count": 10,
   "metadata": {},
   "outputs": [],
   "source": [
    "import random\n",
    "rand = random.random()\n",
    "\n",
    "# print aca"
   ]
  },
  {
   "cell_type": "code",
   "execution_count": null,
   "metadata": {},
   "outputs": [],
   "source": []
  },
  {
   "cell_type": "markdown",
   "metadata": {},
   "source": [
    "**4.2** Use string formatting para imprimir su versión de python (`python_version_mayor`,`python_version_minor`) y su directorio ejecutable de python (`python_dir`). \n",
    "\n",
    "Imprime la siguiente frase con tu versión de python y tu directorio.\n",
    "\n",
    "`Python 3.8 can be run from /home/codeastro/anaconda3 folder`"
   ]
  },
  {
   "cell_type": "code",
   "execution_count": 11,
   "metadata": {},
   "outputs": [],
   "source": [
    "import sys\n",
    "python_dir = sys.prefix\n",
    "python_version_major = sys.version_info.major\n",
    "python_version_minor = sys.version_info.minor\n",
    "\n",
    "### print aca"
   ]
  },
  {
   "cell_type": "code",
   "execution_count": null,
   "metadata": {},
   "outputs": [],
   "source": []
  },
  {
   "cell_type": "markdown",
   "metadata": {},
   "source": [
    "### V: Listas\n",
    "\n",
    "Estas son 3 formas diferentes de hacer una lista:\n",
    "\n",
    "1. Con un loop\n",
    "2. Con list comprehension (see https://www.pythonforbeginners.com/basics/list-comprehensions-in-python)\n",
    "3. Con propiedades multiplicativas de las listas (see https://thehelloworldprogram.com/python/python-list-operations/)\n",
    "\n",
    "Partamos creeando una lista de 100 elementos con un loop (1)."
   ]
  },
  {
   "cell_type": "code",
   "execution_count": 12,
   "metadata": {},
   "outputs": [],
   "source": [
    "zeros = []\n",
    "for i in range(100):\n",
    "    zeros.append(i)"
   ]
  },
  {
   "cell_type": "markdown",
   "metadata": {},
   "source": [
    "**5.1** Ahora con las propiedades multiplicativas de las listas crea la misma lista de 100 elementos llena de ceros."
   ]
  },
  {
   "cell_type": "code",
   "execution_count": null,
   "metadata": {},
   "outputs": [],
   "source": []
  },
  {
   "cell_type": "markdown",
   "metadata": {},
   "source": [
    "**5.2** Use list comprehension para crear una lista de 100 elementos con solo números pares en orden, en una sola línea de código."
   ]
  },
  {
   "cell_type": "code",
   "execution_count": null,
   "metadata": {},
   "outputs": [],
   "source": []
  },
  {
   "cell_type": "markdown",
   "metadata": {},
   "source": [
    "**5.3** Suma 1 a todos los elementos de la lista creada en 5.2 y guarda la lista modificada en una nueva variable. "
   ]
  },
  {
   "cell_type": "code",
   "execution_count": null,
   "metadata": {},
   "outputs": [],
   "source": []
  },
  {
   "cell_type": "markdown",
   "metadata": {},
   "source": [
    "### VI: Arreglos de Numpy\n",
    "\n",
    "Es bastante común en astronomía y muchas otras aplicaciones realizar operaciones matemáticas en cada elemento de una lista o matriz. El uso del tipo de lista integrado de Python lo obliga a recorrer los elementos de la lista y operar en los elementos uno a la vez. Recorrer listas largas en Python es una práctica muy lenta y mala.\n",
    "\n",
    "El uso de matrices numpy permite realizar operaciones en una matriz completa a la vez. En realidad, sigue ocurriendo un ciclo, pero el equipo de numpy programó el ciclo en C para que sea mucho más rápido.\n",
    "\n",
    "\n",
    "Numpy puede hacer mucho más que operaciones vectoriales. Es un paquete grande y poderoso que probablemente use con mucha frecuencia. Consulte https://numpy.org para obtener más información.\n",
    "\n",
    "Este ejemplo ilustra el comportamiento diferente del operador + para listas y matrices.\n",
    " "
   ]
  },
  {
   "cell_type": "code",
   "execution_count": 13,
   "metadata": {},
   "outputs": [
    {
     "name": "stdout",
     "output_type": "stream",
     "text": [
      "(10, 12)\n",
      "[[11. 10. 10. 10. 10. 10. 10. 10. 10. 10. 20. 10.]\n",
      " [ 0.  0.  0.  0.  0.  0.  0.  0.  0.  0. 10.  0.]\n",
      " [ 0.  0.  0.  0.  0.  0.  0.  0.  0.  0. 10.  0.]\n",
      " [ 0.  0.  0.  0.  0.  0.  0.  0.  0.  0. 10.  0.]\n",
      " [10.  0. 10.  0. 10.  0. 10.  0. 10.  0. 20.  0.]\n",
      " [ 0.  0.  0.  0.  0.  0.  0.  0.  0.  0. 10.  0.]\n",
      " [ 0.  0.  0.  0.  0.  0.  0.  0.  0.  0. 10.  0.]\n",
      " [ 0.  0.  0.  0.  0.  0.  0.  0.  0.  0. 10.  0.]\n",
      " [ 0.  0.  0.  0.  0.  0.  0.  0.  0.  0. 10.  0.]\n",
      " [ 0.  0.  0.  0.  0.  0.  0.  0.  0.  0. 10.  0.]]\n"
     ]
    }
   ],
   "source": [
    "import numpy as np\n",
    "\n",
    "x = [1, 2, 3, 4, 5]\n",
    "# dividamos por 2\n",
    "for i in range(len(x)):\n",
    "    x[i] /= 2\n",
    "    \n",
    "# Ahora lo mismo con numpy\n",
    "x = np.array([1, 2, 3, 4, 5])\n",
    "x = x / 2\n",
    "\n",
    "# Mira que fácil!\n",
    "\n",
    "# Podemos crear arreglos con más de una dimensión\n",
    "# Esto crea un arreglo 3D con 10 filas y 12 columnas\n",
    "arr = np.zeros((10, 12))\n",
    "\n",
    "# puedes usar .shape para chequear las dimensiones\n",
    "print(arr.shape)\n",
    "\n",
    "# Puedes usar indexing y slicing para extraer o operar en un subset del arreglo\n",
    "# mira https://www.pythoninformer.com/python-libraries/numpy/index-and-slice/\n",
    "# sumemos 1 al elemento en la posición (0,0)\n",
    "arr[0, 0] = 1\n",
    "\n",
    "# suma 10 a todos los elementos de la fila 0\n",
    "arr[0, :] += 10\n",
    "# ahora suma 10 a todos los elementos en la columna 10\n",
    "arr[:, 10] += 10\n",
    "# y ahora suma 10 a los elementos en posiciones pares en la fila 4\n",
    "arr[4, ::2] += 10\n",
    "\n",
    "print(arr)"
   ]
  },
  {
   "cell_type": "markdown",
   "metadata": {},
   "source": [
    "**6.1** Cree una matriz de 9x9 rellena con 1 en cada elemento. Pista: también hay una función `np.ones`."
   ]
  },
  {
   "cell_type": "code",
   "execution_count": 14,
   "metadata": {},
   "outputs": [],
   "source": [
    "x = np.ones((9, 9))"
   ]
  },
  {
   "cell_type": "markdown",
   "metadata": {},
   "source": [
    "**6.2** Multiplique cada elemento en la fila 0 por 100 usando slicing "
   ]
  },
  {
   "cell_type": "code",
   "execution_count": null,
   "metadata": {},
   "outputs": [],
   "source": [
    "# lista *= 100"
   ]
  },
  {
   "cell_type": "markdown",
   "metadata": {},
   "source": [
    "Su matriz ahora debería verse así"
   ]
  },
  {
   "cell_type": "raw",
   "metadata": {},
   "source": [
    "[[100. 100. 100. 100. 100. 100. 100. 100. 100.]\n",
    " [  1.   1.   1.   1.   1.   1.   1.   1.   1.]\n",
    " [  1.   1.   1.   1.   1.   1.   1.   1.   1.]\n",
    " [  1.   1.   1.   1.   1.   1.   1.   1.   1.]\n",
    " [  1.   1.   1.   1.   1.   1.   1.   1.   1.]\n",
    " [  1.   1.   1.   1.   1.   1.   1.   1.   1.]\n",
    " [  1.   1.   1.   1.   1.   1.   1.   1.   1.]\n",
    " [  1.   1.   1.   1.   1.   1.   1.   1.   1.]\n",
    " [  1.   1.   1.   1.   1.   1.   1.   1.   1.]]"
   ]
  },
  {
   "cell_type": "markdown",
   "metadata": {},
   "source": [
    "**6.3** Extraiga cada tercer elemento de la cuarta columna de la matriz que se creó en el paso 6.2"
   ]
  },
  {
   "cell_type": "code",
   "execution_count": null,
   "metadata": {},
   "outputs": [],
   "source": []
  },
  {
   "cell_type": "markdown",
   "metadata": {},
   "source": [
    "**6.4** Reshape el arreglo en un vector 1D"
   ]
  },
  {
   "cell_type": "code",
   "execution_count": null,
   "metadata": {},
   "outputs": [],
   "source": []
  },
  {
   "cell_type": "markdown",
   "metadata": {},
   "source": [
    "**6.5** Modificar el 4º elemento del vector x. Cambia el valor a 20."
   ]
  },
  {
   "cell_type": "code",
   "execution_count": 16,
   "metadata": {},
   "outputs": [],
   "source": [
    "x = np.array([0, 1, 2, 3, 4, 5, 6])\n",
    "y = x\n"
   ]
  },
  {
   "cell_type": "markdown",
   "metadata": {},
   "source": [
    "**6.6** \n",
    "Imprime el cuarto elemento del vector y. Se modificó y también como resultado de la modificación de x?"
   ]
  },
  {
   "cell_type": "code",
   "execution_count": null,
   "metadata": {},
   "outputs": [],
   "source": []
  },
  {
   "cell_type": "markdown",
   "metadata": {},
   "source": [
    "**6.7** Si quisiera recorrer las líneas de un archivo y agregar cada línea a una lista pero no sé cuántas líneas hay en el archivo, ¿sería más apropiado usar una lista o una matriz?"
   ]
  },
  {
   "cell_type": "code",
   "execution_count": null,
   "metadata": {},
   "outputs": [],
   "source": []
  },
  {
   "cell_type": "markdown",
   "metadata": {},
   "source": [
    "**6.8** Si tuviera que calcular la raíz cuadrada de 10000 números, ¿sería mejor usar una lista o una matriz?"
   ]
  },
  {
   "cell_type": "code",
   "execution_count": null,
   "metadata": {},
   "outputs": [],
   "source": []
  },
  {
   "cell_type": "markdown",
   "metadata": {},
   "source": [
    "### VII: Diccionarios\n",
    "\n",
    "**7.1** Construya un diccionario donde las claves sean los elementos de la lista `lorem` a continuación y los valores sean el segundo carácter de cada palabra. \n",
    "\n",
    "Primero construya este diccionario usando un bucle, luego construya el mismo diccionario usando comprensión de diccionarios. Consulte aquí https://www.geeksforgeeks.org/python-dictionary-comprehension/ para ver la sintaxis de comprensión del diccionario."
   ]
  },
  {
   "cell_type": "code",
   "execution_count": 17,
   "metadata": {},
   "outputs": [],
   "source": [
    "lorem = ['Lorem', 'ipsum', 'dolor', 'sit', 'amet,', 'consectetur',\n",
    "         'adipiscing', 'elit,', 'sed', 'do', 'eiusmod', 'tempor',\n",
    "         'incididunt', 'ut', 'labore', 'et', 'dolore', 'magna', 'aliqua.']"
   ]
  },
  {
   "cell_type": "code",
   "execution_count": null,
   "metadata": {},
   "outputs": [],
   "source": []
  },
  {
   "cell_type": "markdown",
   "metadata": {},
   "source": [
    "**7.2** Actualice los valores a 0 para las siguientes claves sin usar un loop. Sugerencia: busque el método `update` para los diccionarios de Python"
   ]
  },
  {
   "cell_type": "code",
   "execution_count": 18,
   "metadata": {},
   "outputs": [],
   "source": [
    "changes = ['dolor', 'elit', 'tempor', 'magna']"
   ]
  },
  {
   "cell_type": "markdown",
   "metadata": {},
   "source": [
    "**7.3** Loop sobre el diccionario e imprima cada par en el siguiente formato `<clave>: <valor>`"
   ]
  },
  {
   "cell_type": "code",
   "execution_count": null,
   "metadata": {},
   "outputs": [],
   "source": []
  },
  {
   "cell_type": "markdown",
   "metadata": {},
   "source": [
    "**7.4** \n",
    "Elimine todos los pares clave/valor donde el valor sea \"o\""
   ]
  },
  {
   "cell_type": "code",
   "execution_count": null,
   "metadata": {},
   "outputs": [],
   "source": []
  },
  {
   "cell_type": "markdown",
   "metadata": {},
   "source": [
    "### VIII: Paquetes\n",
    "\n",
    "\n",
    "Los paquetes son una herramienta muy poderosa.\n",
    "\n",
    "Algunos paquetes útiles son por ejemplo\n",
    "\n",
    "- `numpy`\n",
    "- `astropy`\n",
    "- `matplotlib`\n",
    "- `scipy`\n",
    "- `pandas`\n",
    "- `pytest`\n",
    "- `cython`\n",
    "- `mkl`\n",
    "\n",
    "**8.1** Describa brevemente los paquetes mencionados arriba"
   ]
  },
  {
   "cell_type": "code",
   "execution_count": null,
   "metadata": {},
   "outputs": [],
   "source": []
  },
  {
   "cell_type": "code",
   "execution_count": null,
   "metadata": {},
   "outputs": [],
   "source": []
  },
  {
   "cell_type": "markdown",
   "metadata": {},
   "source": [
    "### IX: Fiteos básicos\n",
    "\n",
    "Muhcas veces queremos ajustar funciones a un set de datos. Existen muchas formas de hacer esto y varios aspectos a considerar, pero como ejemplo básico se pueden hacer cosas como estas. \n"
   ]
  },
  {
   "cell_type": "code",
   "execution_count": 14,
   "metadata": {},
   "outputs": [],
   "source": [
    "import numpy as np   \n",
    "import matplotlib.pyplot as plt       # Paquete para graficar\n",
    "from scipy.optimize import curve_fit  # Se importa metodo de fiteo"
   ]
  },
  {
   "cell_type": "code",
   "execution_count": 15,
   "metadata": {},
   "outputs": [
    {
     "data": {
      "image/png": "[encoded data removed]",
      "text/plain": [
       "<Figure size 432x288 with 1 Axes>"
      ]
     },
     "metadata": {
      "needs_background": "light"
     },
     "output_type": "display_data"
    }
   ],
   "source": [
    "x = [0.1, 0.9, 1.8, 3.2, 4.2, 5]\n",
    "y = [-0.1, 1, 2.1, 2.9, 3.9, 5.2]\n",
    "plt.plot(x, y, '*')\n",
    "plt.xlabel(r'$x_{data}$', fontsize=18) #Asi podemos escribir utilizando latex\n",
    "plt.ylabel(r'$y_{data}$', fontsize=18)\n",
    "plt.show()"
   ]
  },
  {
   "cell_type": "markdown",
   "metadata": {},
   "source": [
    "**9.1** Realice un fiteo lineal a los puntos (x,y) creando una función a que ajuste una recta del tipo `y=mx+n` utilizando la función polyfit. Grafique los puntos y el ajuste."
   ]
  },
  {
   "cell_type": "code",
   "execution_count": 16,
   "metadata": {},
   "outputs": [
    {
     "data": {
      "image/png": "[encoded data removed]",
      "text/plain": [
       "<Figure size 432x288 with 1 Axes>"
      ]
     },
     "metadata": {
      "needs_background": "light"
     },
     "output_type": "display_data"
    }
   ],
   "source": [
    "def lineal(x, m, a):\n",
    "    '''\n",
    "    Escriba la función\n",
    "    '''\n",
    "    return y\n",
    "\n",
    "z = np.polyfit(x, y, 1)\n",
    "\n",
    "#x_nuevo=\n",
    "#y_nuevo=\n",
    "\n",
    "\n",
    "plt.plot(x, y, 'o')\n",
    "#plt.plot(x_nuevo, y_nuevo, 'k')\n",
    "plt.xlabel(r'$x_{data}$', fontsize=18) #Podemos escribir en latex\n",
    "plt.ylabel(r'$y_{data}$', fontsize=18)\n",
    "plt.show()"
   ]
  },
  {
   "cell_type": "markdown",
   "metadata": {},
   "source": [
    "**9.2** Realice el ajuste anterior pero ahora utilizando scipy."
   ]
  },
  {
   "cell_type": "code",
   "execution_count": null,
   "metadata": {},
   "outputs": [],
   "source": []
  },
  {
   "cell_type": "markdown",
   "metadata": {},
   "source": [
    "### X. Minimizacion de funciones usando Python\n",
    "\n",
    "En Astronomia, nosotros tenemos diferentes modelos que describen fenomenos fisicos, pero tambien tenemos (ojala) muchos datos que nos indican la \"realidad\" del objeto que observamos. Los datos que tomamos son un reflejo de los procesos que ocurren en el objeto que estudiamos. \n",
    "\n",
    "En nuestro caso, esos objetos son nubes moleculares y gas que gira alrededor del centro galactico. \n",
    "\n",
    "La relacion que existe entre nuestros modelos y los datos es que, segun los procesos fisicos que nos interesen, estos nos dicen que datos podrian surgir de ellos en un caso ideal. Por ejemplo, sabemos que si la masa esta distribuida en una esfera, esperamos un perfil de velocidad de la forma $v(r) = \\sqrt(4 G \\pi r^2 \\rho_0 / 3)$. No obstante, los datos fueron tomados sin considerar ningun modelo, simplemente mirando el objeto. Por lo tanto, queremos saber que tan bien calza nuestro modelo ideal con los datos \"reales\". Para esto, encontraremos los parametros de nuestro modelo que hacen que se ajuste mejor a los datos.\n",
    "\n",
    "Hay varias formas de ajustar una curva a un set de puntos. Dependiendo de las caracteristicas de nuestros datos (por ejemplo, si tienen errores en solo un eje, en los dos ejes o en ninguno) hay diferentes metodos para ajustar la curva que funcionan mejor. En Astroinformatica veran mas al respecto.\n",
    "\n",
    "Por ahora, el metodo mas comun es la minimizacion de $\\chi^2$. \n",
    "\n",
    "##### ¿Que es $\\chi^2$?\n",
    "\n",
    "$\\chi^2$ es una distribucion de probabilidad. (probablemente la vieron en Probabilidad y Estadistica) Describe como se distribuye el valor de la variable independiente $X = Z_1^2+...+Z_k^2$, donde $Z$ para nuestro caso son los errores cuadraticos. Por lo general, $\\chi^2$ evalua que tan distintos son las desviaciones entre el dato real y el teorico con el error del dato real:\n",
    "\n",
    "$\\chi^2 = \\Sigma (y_{model}-y_{data})^2 / \\sigma_i^2$\n",
    "\n",
    "Como en este caso no tenemos errores y solo queremos ajustar una linea cercana a los puntos, usamos un valor de $\\chi^2$ sin errores:\n",
    "\n",
    "$\\chi^2 = \\Sigma (y_{model}-y_{data})^2 $\n",
    "\n",
    "##### Como ajustar una curva a un set de datos\n",
    "\n",
    "El problema que queremos solucionar es el de encontrar la curva que nos entregue el minimo valor de $\\chi^2$. En cursos mas avanzados (como Optimizacion) se ven las soluciones matematicas a problemas de minimizacion. Por ahora, lo que tenemos que saber es que hay distintas funciones implementadas en Python en la libreria scipy.\n",
    "\n",
    "Hoy veremos como aplicar distintas funciones para solucionar este problema. Ustedes pueden elegir la que quieran para la tarea."
   ]
  },
  {
   "cell_type": "code",
   "execution_count": 17,
   "metadata": {},
   "outputs": [],
   "source": [
    "import scipy as sp\n",
    "from scipy.optimize import fmin"
   ]
  },
  {
   "cell_type": "markdown",
   "metadata": {},
   "source": [
    "##### La funcion fmin\n",
    "\n",
    "La primera funcion que vamos a ver se llama optimize.fmin: lo que hace es minimizar una funcion, encontrando los parametros que la hacen alcanzar su valor minimo. Para poder usarla, tienen que fijarse que en la funcion que le entreguen, exista un valor minimo o si no se va a caer."
   ]
  },
  {
   "cell_type": "markdown",
   "metadata": {},
   "source": [
    "Vamos a generar una funcion aleatoria que se asemeje a una linea. Recordemos que la funcion de una linea recta es $y = mx + b$:"
   ]
  },
  {
   "cell_type": "code",
   "execution_count": 21,
   "metadata": {},
   "outputs": [
    {
     "data": {
      "image/png": "[encoded data removed]",
      "text/plain": [
       "<Figure size 432x288 with 1 Axes>"
      ]
     },
     "metadata": {
      "needs_background": "light"
     },
     "output_type": "display_data"
    }
   ],
   "source": [
    "sp.random.seed(42)\n",
    "\n",
    "m_true = -0.9594\n",
    "b_true = 4.294\n",
    "f_true = 0.534\n",
    "\n",
    "# Generamos puntos aleatorios a partir de la recta\n",
    "N = 50\n",
    "x = np.sort(10*sp.random.rand(N)) # seleccion aleatoria de eje x\n",
    "y = m_true * x + b_true \n",
    "y += np.absolute(f_true*y) * sp.random.randn(N) # seleccion aleatoria de eje y\n",
    "\n",
    "x0=np.linspace(0, 10, 500)\n",
    "plt.plot(x, y, 'k.')\n",
    "plt.plot(x0,m_true*x0+b_true, 'k.')\n",
    "plt.show()"
   ]
  },
  {
   "cell_type": "markdown",
   "metadata": {},
   "source": [
    "La funcion fmin recibe la funcion que se debe minimizar. Por lo tanto, tenemos que escribir la funcion $\\chi^2$:"
   ]
  },
  {
   "cell_type": "code",
   "execution_count": 22,
   "metadata": {},
   "outputs": [],
   "source": [
    "def chi_cuadrado(params):\n",
    "    m, b = params\n",
    "    y_model = m * x + b\n",
    "    y_data = y\n",
    "    a = 0\n",
    "    for i in range(len(y_data)):\n",
    "        a += (y_model[i] - y[i]) ** 2\n",
    "    return a"
   ]
  },
  {
   "cell_type": "markdown",
   "metadata": {},
   "source": [
    "**10.1** Hacemos la optimización para el ajuste."
   ]
  },
  {
   "cell_type": "code",
   "execution_count": 25,
   "metadata": {},
   "outputs": [
    {
     "name": "stdout",
     "output_type": "stream",
     "text": [
      "Optimization terminated successfully.\n",
      "         Current function value: 67.576946\n",
      "         Iterations: 36\n",
      "         Function evaluations: 70\n"
     ]
    }
   ],
   "source": [
    "initial = np.array([m_true, b_true]) + 0.1*sp.random.randn(2)\n",
    "optimo = fmin(chi_cuadrado, initial)"
   ]
  },
  {
   "cell_type": "markdown",
   "metadata": {},
   "source": [
    "Veamos como queda la funcion con los parametros que acabamos de estimar."
   ]
  },
  {
   "cell_type": "code",
   "execution_count": 40,
   "metadata": {},
   "outputs": [
    {
     "data": {
      "image/png": "[encoded data removed]",
      "text/plain": [
       "<Figure size 432x288 with 1 Axes>"
      ]
     },
     "metadata": {
      "needs_background": "light"
     },
     "output_type": "display_data"
    }
   ],
   "source": [
    "m_est = optimo[0]\n",
    "b_est = optimo[1]\n",
    "\n",
    "\n",
    "plt.plot(x0,m_true*x0+b_true, 'k-', label='Original')\n",
    "plt.plot(x, y, 'k.', label='Puntos')\n",
    "plt.plot(x0, m_est*x0+b_est, 'g-', label='Ajuste 1')\n",
    "plt.legend()\n",
    "plt.show()"
   ]
  },
  {
   "cell_type": "markdown",
   "metadata": {},
   "source": [
    "##### La funcion minimize\n",
    "\n",
    "**10.2** Hacemos la optimización para el ajuste ahora con minimize de scipy."
   ]
  },
  {
   "cell_type": "code",
   "execution_count": 41,
   "metadata": {},
   "outputs": [],
   "source": [
    "from scipy.optimize import minimize\n",
    "\n",
    "def chi_minimize(params, x, y):\n",
    "    m, b = params\n",
    "    y_model = m * x + b\n",
    "    y_data = y\n",
    "    a = 0\n",
    "    for i in range(len(y_data)):\n",
    "        a += (y_model[i] - y_data[i]) ** 2\n",
    "    return a"
   ]
  },
  {
   "cell_type": "code",
   "execution_count": 42,
   "metadata": {},
   "outputs": [
    {
     "name": "stderr",
     "output_type": "stream",
     "text": [
      "<ipython-input-42-13ad8694efeb>:1: DeprecationWarning: scipy.array is deprecated and will be removed in SciPy 2.0.0, use numpy.array instead\n",
      "  initial = sp.array([m_true, b_true]) + 0.1*sp.random.randn(2)\n"
     ]
    }
   ],
   "source": [
    "initial = sp.array([m_true, b_true]) + 0.1*sp.random.randn(2)\n",
    "optimo2 = minimize(chi_minimize, initial, args=(x, y)) # x e y son los datos, no modelo"
   ]
  },
  {
   "cell_type": "code",
   "execution_count": 55,
   "metadata": {},
   "outputs": [
    {
     "data": {
      "image/png": "[encoded data removed]",
      "text/plain": [
       "<Figure size 432x288 with 1 Axes>"
      ]
     },
     "metadata": {
      "needs_background": "light"
     },
     "output_type": "display_data"
    }
   ],
   "source": [
    "parametros = optimo2.x\n",
    "\n",
    "plt.plot(x, y, 'k.', label='Puntos')\n",
    "plt.plot(x0, parametros[0]*x0+parametros[1], 'r-', label='Ajuste 2')\n",
    "plt.legend()\n",
    "plt.show()"
   ]
  },
  {
   "cell_type": "markdown",
   "metadata": {},
   "source": [
    "**10.3** los dos ajustes realizados son iguales? Por qué?"
   ]
  },
  {
   "cell_type": "code",
   "execution_count": null,
   "metadata": {},
   "outputs": [],
   "source": []
  },
  {
   "cell_type": "markdown",
   "metadata": {},
   "source": [
    "##### La funcion leastsq\n",
    "\n",
    "Lo que hace esta funcion es minimizar la suma de los cuadrados de una funcion. Tenemos que escribir otra forma de la funcion que queremos minimizar con respecto a las anteriores\n",
    "\n",
    "**10.4** Hacemos nuevamente el ajuste"
   ]
  },
  {
   "cell_type": "code",
   "execution_count": 44,
   "metadata": {},
   "outputs": [],
   "source": [
    "from scipy.optimize import leastsq\n",
    "\n",
    "y_data = y\n",
    "x_data = x\n",
    "\n",
    "def chi(params):\n",
    "    m, b = params\n",
    "    return y_data - m*x_data - b"
   ]
  },
  {
   "cell_type": "code",
   "execution_count": 47,
   "metadata": {},
   "outputs": [],
   "source": [
    "initial = np.array([m_true, b_true]) + 0.1*sp.random.randn(2)\n",
    "optimo3 = leastsq(chi, initial)"
   ]
  },
  {
   "cell_type": "code",
   "execution_count": 56,
   "metadata": {},
   "outputs": [
    {
     "data": {
      "image/png": "[encoded data removed]",
      "text/plain": [
       "<Figure size 432x288 with 1 Axes>"
      ]
     },
     "metadata": {
      "needs_background": "light"
     },
     "output_type": "display_data"
    }
   ],
   "source": [
    "parametros3 = optimo3[0]\n",
    "\n",
    "plt.plot(x, y, 'k.', label='Puntos')\n",
    "plt.plot(x0, parametros3[0]*x0+parametros3[1], 'c-', label='Ajuste 3')\n",
    "plt.legend()\n",
    "plt.show()"
   ]
  },
  {
   "cell_type": "markdown",
   "metadata": {},
   "source": [
    "##### La funcion curve_fit\n",
    "\n",
    "Tambien existe una funcion que se llama curve_fit, que recibe una funcion modelo y los valores de x e y, sin necesidad de hacer nosotros una evaluacion $\\chi^2$ porque ya la trae implementada.\n",
    "\n",
    "**10.5** Hacemos nuevamente el ajuste"
   ]
  },
  {
   "cell_type": "code",
   "execution_count": 52,
   "metadata": {},
   "outputs": [],
   "source": [
    "from scipy.optimize import curve_fit\n",
    "\n",
    "def linea(x, *params):\n",
    "    m, b = params\n",
    "    return m*x+b"
   ]
  },
  {
   "cell_type": "code",
   "execution_count": 53,
   "metadata": {},
   "outputs": [
    {
     "name": "stderr",
     "output_type": "stream",
     "text": [
      "<ipython-input-53-4838462e33df>:1: DeprecationWarning: scipy.array is deprecated and will be removed in SciPy 2.0.0, use numpy.array instead\n",
      "  initial = sp.array([m_true, b_true]) + 0.1*sp.random.randn(2)\n"
     ]
    }
   ],
   "source": [
    "initial = sp.array([m_true, b_true]) + 0.1*sp.random.randn(2)\n",
    "optimo4 = curve_fit(linea, x, y, p0=initial)"
   ]
  },
  {
   "cell_type": "code",
   "execution_count": 57,
   "metadata": {},
   "outputs": [
    {
     "data": {
      "image/png": "[encoded data removed]",
      "text/plain": [
       "<Figure size 432x288 with 1 Axes>"
      ]
     },
     "metadata": {
      "needs_background": "light"
     },
     "output_type": "display_data"
    }
   ],
   "source": [
    "parametros4 = optimo4[0]\n",
    "\n",
    "plt.plot(x, y, 'k.', label='Puntos')\n",
    "plt.plot(x0, parametros4[0]*x0+parametros4[1], 'm-', label='Ajuste 4')\n",
    "plt.legend()\n",
    "plt.show()"
   ]
  },
  {
   "cell_type": "markdown",
   "metadata": {},
   "source": [
    "**10.6** Cual es la mejor forma de ajustar un conjunto de puntos:\n",
    "`Ajuste 1`, `Ajuste 2`, `Ajuste 3`o `Ajuste 4`?\n",
    "\n",
    "Justifica tu respuesta"
   ]
  },
  {
   "cell_type": "code",
   "execution_count": null,
   "metadata": {},
   "outputs": [],
   "source": []
  },
  {
   "cell_type": "markdown",
   "metadata": {},
   "source": [
    "Si llegaste hasta aca, dominas Python perfectamente! Espero que te haya servido el repaso y que estes preparadx para aprender muchas otras cosas interesantes! \n",
    "\n",
    "Que disfrutes Science and Commit!"
   ]
  },
  {
   "cell_type": "code",
   "execution_count": null,
   "metadata": {},
   "outputs": [],
   "source": []
  }
 ],
 "metadata": {
  "kernelspec": {
   "display_name": "Python 3",
   "language": "python",
   "name": "python3"
  },
  "language_info": {
   "codemirror_mode": {
    "name": "ipython",
    "version": 3
   },
   "file_extension": ".py",
   "mimetype": "text/x-python",
   "name": "python",
   "nbconvert_exporter": "python",
   "pygments_lexer": "ipython3",
   "version": "3.8.5"
  }
 },
 "nbformat": 4,
 "nbformat_minor": 4
}
