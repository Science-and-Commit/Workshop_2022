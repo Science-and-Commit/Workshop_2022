{
 "cells": [
  {
   "cell_type": "markdown",
   "id": "43a2cef2",
   "metadata": {},
   "source": [
    "# Code profiling"
   ]
  },
  {
   "cell_type": "markdown",
   "id": "f1243220",
   "metadata": {},
   "source": [
    "<font size=3> Existen varios módulos de python que ayudan a evaluar la eficiencia de los códigos. Aquí te listamos algunas muy útiles:\n",
    "    \n",
    "    - time : Ayuda a medir el tiempo en que se tardó en correr una función.\n",
    "    - cProfile\n",
    "    - pstats"
   ]
  },
  {
   "cell_type": "code",
   "execution_count": 12,
   "id": "0d035d8a",
   "metadata": {},
   "outputs": [],
   "source": [
    "def factorial(n):\n",
    "    if n==1:\n",
    "        return n\n",
    "    output = n*factorial(n-1)\n",
    "    return output    "
   ]
  },
  {
   "cell_type": "code",
   "execution_count": 19,
   "id": "0b0fd12c",
   "metadata": {},
   "outputs": [],
   "source": [
    "import cProfile\n",
    "import planta_en_paisaje as pp"
   ]
  },
  {
   "cell_type": "code",
   "execution_count": null,
   "id": "97894db4",
   "metadata": {},
   "outputs": [],
   "source": [
    "pp.convergencia"
   ]
  },
  {
   "cell_type": "code",
   "execution_count": null,
   "id": "4ea534e7",
   "metadata": {},
   "outputs": [],
   "source": [
    "import time\n",
    "  \n",
    "start = time.time()\n",
    "print(\"Time Consumed\")\n",
    "print(\"% s seconds\" % (time.time() - start))"
   ]
  },
  {
   "cell_type": "code",
   "execution_count": 17,
   "id": "9b581b1b",
   "metadata": {},
   "outputs": [
    {
     "name": "stdout",
     "output_type": "stream",
     "text": [
      "         8 function calls (4 primitive calls) in 0.000 seconds\n",
      "\n",
      "   Ordered by: standard name\n",
      "\n",
      "   ncalls  tottime  percall  cumtime  percall filename:lineno(function)\n",
      "      5/1    0.000    0.000    0.000    0.000 <ipython-input-12-e5409cddbf6e>:1(factorial)\n",
      "        1    0.000    0.000    0.000    0.000 <string>:1(<module>)\n",
      "        1    0.000    0.000    0.000    0.000 {built-in method builtins.exec}\n",
      "        1    0.000    0.000    0.000    0.000 {method 'disable' of '_lsprof.Profiler' objects}\n",
      "\n",
      "\n"
     ]
    }
   ],
   "source": [
    "cProfile.run(\"factorial(5)\")"
   ]
  },
  {
   "cell_type": "code",
   "execution_count": null,
   "id": "28c537ec",
   "metadata": {},
   "outputs": [],
   "source": []
  }
 ],
 "metadata": {
  "kernelspec": {
   "display_name": "Python 3",
   "language": "python",
   "name": "python3"
  },
  "language_info": {
   "codemirror_mode": {
    "name": "ipython",
    "version": 3
   },
   "file_extension": ".py",
   "mimetype": "text/x-python",
   "name": "python",
   "nbconvert_exporter": "python",
   "pygments_lexer": "ipython3",
   "version": "3.9.1"
  }
 },
 "nbformat": 4,
 "nbformat_minor": 5
}
