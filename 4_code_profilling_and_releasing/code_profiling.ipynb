{
 "cells": [
  {
   "cell_type": "markdown",
   "id": "0e9ad967",
   "metadata": {},
   "source": [
    "# Code profiling"
   ]
  },
  {
   "cell_type": "markdown",
   "id": "1669291f",
   "metadata": {},
   "source": [
    "<font size=3> Existen varios módulos de python que ayudan a evaluar la eficiencia de los códigos. Aquí te listamos algunas muy útiles:\n",
    "    \n",
    "    - cProfile\n",
    "    - pstats\n",
    "    - time : Ayuda a medir el tiempo en que se tardó en correr una función."
   ]
  },
  {
   "cell_type": "markdown",
   "id": "470074e9",
   "metadata": {},
   "source": [
    "<font size=3> En este Notebook veremos cómo se usan los primeros dos"
   ]
  },
  {
   "cell_type": "code",
   "execution_count": 10,
   "id": "0336f365",
   "metadata": {},
   "outputs": [],
   "source": [
    "import cProfile\n",
    "import numpy as np\n",
    "import planta_en_paisaje as pp\n",
    "import pstats"
   ]
  },
  {
   "cell_type": "markdown",
   "id": "b6510053",
   "metadata": {},
   "source": [
    "<font size='3'> Como primera instancia, evaluemos la operación de multiplicar 3*5. Para eso ocuparemos la función $run$ de cProfile."
   ]
  },
  {
   "cell_type": "code",
   "execution_count": 5,
   "id": "b5ab9b1d",
   "metadata": {},
   "outputs": [
    {
     "name": "stdout",
     "output_type": "stream",
     "text": [
      "         3 function calls in 0.002 seconds\n",
      "\n",
      "   Ordered by: standard name\n",
      "\n",
      "   ncalls  tottime  percall  cumtime  percall filename:lineno(function)\n",
      "        1    0.000    0.000    0.000    0.000 <string>:1(<module>)\n",
      "        1    0.002    0.002    0.002    0.002 {built-in method builtins.exec}\n",
      "        1    0.000    0.000    0.000    0.000 {method 'disable' of '_lsprof.Profiler' objects}\n",
      "\n",
      "\n"
     ]
    }
   ],
   "source": [
    "cProfile.run(\"3*5\")"
   ]
  },
  {
   "cell_type": "markdown",
   "id": "1b9c509d",
   "metadata": {},
   "source": [
    "<font size='3'>Entendamos el output de esta función. \n",
    "\n",
    "La primera línea muestra el número de funciones llamadas y el tiempo que les tomó en correr. \n",
    "\n",
    "\n",
    "La segunda línea muestra Ordered by: standard name, que significa que el siguiente string en la columna de más a la derecha fue usada para ordenar el output. Este puede cambiar con el parámetro sort.\n",
    "\n",
    "    \n",
    "La tercera línea en adelante contiene las funciones y subfunciones llamadas internamente. Veamos que significa cada columna de la tabla.\n",
    "\n",
    "- ncalls : Muestra el número de veces que se llamó la función\n",
    "    \n",
    "- tottime: Tiempo total tomado por cada función. Notar que el tiempo tomado en sub-funciones está excluido. \n",
    "    \n",
    "- percall: Tiempo total / número de llamadas. ( remainder is left out )\n",
    "    \n",
    "- cumtime: A diferencia de tottime, éste incluye el tiempo tomado en esta y todas las sub-funciones que la función de mayor nivel llama. Es el más útil y es accurate para funciones recursivas.\n",
    "    \n",
    "- el percall que va después de cumtime es calculado como el cuociente del cumtime dividido por llamadas primitivas. Las llamadas primitivas incluyen todas las llamadas que no fueron incluidas a través de la recursión.\n",
    "    \n",
    "    \n",
    "    \n",
    "tottime y cumtime son útiles. Una función con un alto tottime significa que debemos enfocarnos en 'acelerar' esta función. Una función con sólo un alto cumtime significa que deberíamos ver qué llama esta función para mejorar el tiempo en que corre."
   ]
  },
  {
   "cell_type": "markdown",
   "id": "567fbb48",
   "metadata": {},
   "source": [
    "## Haciendo Code profiling para una función que llama a otras\n",
    "\n",
    "<font size='3'> Para esto veamos el siguiente ejemplo, el cual crea una lista de 400000 elementos."
   ]
  },
  {
   "cell_type": "code",
   "execution_count": 7,
   "id": "309468e1",
   "metadata": {},
   "outputs": [
    {
     "name": "stdout",
     "output_type": "stream",
     "text": [
      "Array created successfully\n",
      "         400041 function calls in 0.185 seconds\n",
      "\n",
      "   Ordered by: standard name\n",
      "\n",
      "   ncalls  tottime  percall  cumtime  percall filename:lineno(function)\n",
      "        1    0.114    0.114    0.176    0.176 <ipython-input-7-77871eb6673f>:1(create_array)\n",
      "        1    0.009    0.009    0.185    0.185 <ipython-input-7-77871eb6673f>:10(main)\n",
      "        1    0.000    0.000    0.000    0.000 <ipython-input-7-77871eb6673f>:6(print_statement)\n",
      "        1    0.000    0.000    0.185    0.185 <string>:1(<module>)\n",
      "        3    0.000    0.000    0.000    0.000 iostream.py:195(schedule)\n",
      "        2    0.000    0.000    0.000    0.000 iostream.py:308(_is_master_process)\n",
      "        2    0.000    0.000    0.000    0.000 iostream.py:321(_schedule_flush)\n",
      "        2    0.000    0.000    0.000    0.000 iostream.py:384(write)\n",
      "        3    0.000    0.000    0.000    0.000 iostream.py:91(_event_pipe)\n",
      "        3    0.000    0.000    0.000    0.000 socket.py:438(send)\n",
      "        3    0.000    0.000    0.000    0.000 threading.py:1039(_wait_for_tstate_lock)\n",
      "        3    0.000    0.000    0.000    0.000 threading.py:1093(is_alive)\n",
      "        3    0.000    0.000    0.000    0.000 threading.py:529(is_set)\n",
      "        1    0.000    0.000    0.185    0.185 {built-in method builtins.exec}\n",
      "        2    0.000    0.000    0.000    0.000 {built-in method builtins.isinstance}\n",
      "        1    0.000    0.000    0.000    0.000 {built-in method builtins.print}\n",
      "        2    0.000    0.000    0.000    0.000 {built-in method posix.getpid}\n",
      "        3    0.000    0.000    0.000    0.000 {method 'acquire' of '_thread.lock' objects}\n",
      "        3    0.000    0.000    0.000    0.000 {method 'append' of 'collections.deque' objects}\n",
      "   400000    0.062    0.000    0.062    0.000 {method 'append' of 'list' objects}\n",
      "        1    0.000    0.000    0.000    0.000 {method 'disable' of '_lsprof.Profiler' objects}\n",
      "\n",
      "\n"
     ]
    }
   ],
   "source": [
    "def create_array():\n",
    "    arr=[]\n",
    "    for i in range(0,400000):\n",
    "        arr.append(i)\n",
    "\n",
    "def print_statement():\n",
    "    print('Array created successfully')\n",
    "\n",
    "\n",
    "def main():\n",
    "    create_array()\n",
    "    print_statement()\n",
    "\n",
    "\n",
    "if __name__ == '__main__':\n",
    "    cProfile.run('main()')"
   ]
  },
  {
   "cell_type": "markdown",
   "id": "0024e9a8",
   "metadata": {},
   "source": [
    "<font size='3'> A partir del output podemos observar como el método que más se demoró fue for i in range(0,400000), que llamó 400000 veces la función append. \n",
    "    Por defecto, cProfile ordena su output por 'standard name', lo cual puede no ser muy útil para funciones complejas o en casos donde el código tiene muchos pasos. Por suerte, podemos modificar los reportes de Profile!.\n",
    "\n",
    "Si te interesa encontrar las partes donde más se consume tiempo, puede ser útil ordenar los outputs por ncalls. Para hacer esto debes hacer lo siguiente: \n",
    "    \n",
    "    - Primero inicializa una instancia de la clase Profile\n",
    "    - Llama el método enable() del profiler para comenzar a colectar los datos de profiling\n",
    "    - Llama la función al que quieres hacer profile\n",
    "    - Para parar de colectar datos, llama el método disable()\n",
    "\n",
    "Y ahora, ¿cómo se reporta los datos recolectados? \n",
    "    \n",
    "El módulo pstats puede ser usado para manipular los resultados recolectados poe el objeto Profiler. Primero, crea una instancia de la clase stats usando psats.Stats. Luego, usa la clase Stats para crear un objeto estadístico a partir del objeto Progile a través de stats = pstats.Stats(profiler). Ahora, puedes ordenar el output por ncalls usando el método sort_stats() como se muestra abajo, Finalmente para mostrar el output, llama la función print_stats() del objeto stats."
   ]
  },
  {
   "cell_type": "code",
   "execution_count": 11,
   "id": "4d346cee",
   "metadata": {},
   "outputs": [
    {
     "name": "stdout",
     "output_type": "stream",
     "text": [
      "Array created successfully\n",
      "         400083 function calls in 0.206 seconds\n",
      "\n",
      "   Ordered by: call count\n",
      "\n",
      "   ncalls  tottime  percall  cumtime  percall filename:lineno(function)\n",
      "   400000    0.096    0.000    0.096    0.000 {method 'append' of 'list' objects}\n",
      "        4    0.000    0.000    0.000    0.000 {built-in method builtins.getattr}\n",
      "        4    0.000    0.000    0.000    0.000 {built-in method builtins.next}\n",
      "        4    0.000    0.000    0.000    0.000 /Users/paulacaceresburgos/opt/miniconda3/lib/python3.9/site-packages/IPython/core/compilerop.py:166(extra_flags)\n",
      "        3    0.000    0.000    0.000    0.000 {method 'append' of 'collections.deque' objects}\n",
      "        3    0.000    0.000    0.000    0.000 {method 'acquire' of '_thread.lock' objects}\n",
      "        3    0.000    0.000    0.000    0.000 /Users/paulacaceresburgos/opt/miniconda3/lib/python3.9/threading.py:529(is_set)\n",
      "        3    0.000    0.000    0.000    0.000 /Users/paulacaceresburgos/opt/miniconda3/lib/python3.9/threading.py:1039(_wait_for_tstate_lock)\n",
      "        3    0.000    0.000    0.000    0.000 /Users/paulacaceresburgos/opt/miniconda3/lib/python3.9/threading.py:1093(is_alive)\n",
      "        3    0.000    0.000    0.000    0.000 /Users/paulacaceresburgos/opt/miniconda3/lib/python3.9/site-packages/zmq/sugar/socket.py:438(send)\n",
      "        3    0.000    0.000    0.000    0.000 /Users/paulacaceresburgos/opt/miniconda3/lib/python3.9/site-packages/ipykernel/iostream.py:91(_event_pipe)\n",
      "        3    0.000    0.000    0.000    0.000 /Users/paulacaceresburgos/opt/miniconda3/lib/python3.9/site-packages/ipykernel/iostream.py:195(schedule)\n",
      "        2    0.000    0.000    0.000    0.000 {built-in method builtins.compile}\n",
      "        2    0.000    0.000    0.206    0.103 {built-in method builtins.exec}\n",
      "        2    0.000    0.000    0.000    0.000 {built-in method builtins.isinstance}\n",
      "        2    0.000    0.000    0.000    0.000 {built-in method posix.getpid}\n",
      "        2    0.000    0.000    0.000    0.000 /Users/paulacaceresburgos/opt/miniconda3/lib/python3.9/contextlib.py:86(__init__)\n",
      "        2    0.000    0.000    0.000    0.000 /Users/paulacaceresburgos/opt/miniconda3/lib/python3.9/contextlib.py:112(__enter__)\n",
      "        2    0.000    0.000    0.000    0.000 /Users/paulacaceresburgos/opt/miniconda3/lib/python3.9/contextlib.py:121(__exit__)\n",
      "        2    0.000    0.000    0.000    0.000 /Users/paulacaceresburgos/opt/miniconda3/lib/python3.9/contextlib.py:242(helper)\n",
      "        2    0.000    0.000    0.000    0.000 /Users/paulacaceresburgos/opt/miniconda3/lib/python3.9/site-packages/traitlets/traitlets.py:533(get)\n",
      "        2    0.000    0.000    0.000    0.000 /Users/paulacaceresburgos/opt/miniconda3/lib/python3.9/site-packages/traitlets/traitlets.py:564(__get__)\n",
      "        2    0.000    0.000    0.000    0.000 /Users/paulacaceresburgos/opt/miniconda3/lib/python3.9/site-packages/IPython/utils/ipstruct.py:125(__getattr__)\n",
      "        2    0.000    0.000    0.000    0.000 /Users/paulacaceresburgos/opt/miniconda3/lib/python3.9/codeop.py:142(__call__)\n",
      "        2    0.000    0.000    0.000    0.000 /Users/paulacaceresburgos/opt/miniconda3/lib/python3.9/site-packages/IPython/core/interactiveshell.py:1278(user_global_ns)\n",
      "        2    0.000    0.000    0.000    0.000 /Users/paulacaceresburgos/opt/miniconda3/lib/python3.9/site-packages/IPython/core/interactiveshell.py:3338(compare)\n",
      "        2    0.000    0.000    0.206    0.103 /Users/paulacaceresburgos/opt/miniconda3/lib/python3.9/site-packages/IPython/core/interactiveshell.py:3400(run_code)\n",
      "        2    0.000    0.000    0.000    0.000 /Users/paulacaceresburgos/opt/miniconda3/lib/python3.9/site-packages/IPython/core/hooks.py:103(__call__)\n",
      "        2    0.000    0.000    0.000    0.000 /Users/paulacaceresburgos/opt/miniconda3/lib/python3.9/site-packages/IPython/core/hooks.py:168(pre_run_code_hook)\n",
      "        2    0.000    0.000    0.000    0.000 /Users/paulacaceresburgos/opt/miniconda3/lib/python3.9/site-packages/ipykernel/iostream.py:308(_is_master_process)\n",
      "        2    0.000    0.000    0.000    0.000 /Users/paulacaceresburgos/opt/miniconda3/lib/python3.9/site-packages/ipykernel/iostream.py:321(_schedule_flush)\n",
      "        2    0.000    0.000    0.000    0.000 /Users/paulacaceresburgos/opt/miniconda3/lib/python3.9/site-packages/ipykernel/iostream.py:384(write)\n",
      "        1    0.000    0.000    0.000    0.000 {built-in method builtins.print}\n",
      "        1    0.000    0.000    0.000    0.000 {method 'disable' of '_lsprof.Profiler' objects}\n",
      "        1    0.000    0.000    0.000    0.000 <ipython-input-11-9cba0279cd77>:6(print_statement)\n",
      "        1    0.008    0.008    0.206    0.206 <ipython-input-11-9cba0279cd77>:10(main)\n",
      "        1    0.000    0.000    0.000    0.000 <ipython-input-11-9cba0279cd77>:17(<module>)\n",
      "        1    0.000    0.000    0.206    0.206 <ipython-input-11-9cba0279cd77>:16(<module>)\n",
      "        1    0.102    0.102    0.198    0.198 <ipython-input-11-9cba0279cd77>:1(create_array)\n",
      "\n",
      "\n"
     ]
    },
    {
     "data": {
      "text/plain": [
       "<pstats.Stats at 0x7fbcda294df0>"
      ]
     },
     "execution_count": 11,
     "metadata": {},
     "output_type": "execute_result"
    }
   ],
   "source": [
    "def create_array():\n",
    "    arr=[]\n",
    "    for i in range(0,400000):\n",
    "        arr.append(i)\n",
    "\n",
    "def print_statement():\n",
    "    print('Array created successfully')\n",
    "\n",
    "\n",
    "def main():\n",
    "    create_array()\n",
    "    print_statement()\n",
    "\n",
    "profiler = cProfile.Profile()\n",
    "profiler.enable()\n",
    "main()\n",
    "profiler.disable()\n",
    "stats = pstats.Stats(profiler).sort_stats('ncalls')\n",
    "stats.print_stats()\n",
    "\n"
   ]
  },
  {
   "cell_type": "markdown",
   "id": "8fad554b",
   "metadata": {},
   "source": [
    "<font size='3'> De la misma manera, puedes ordenar según diferentes parámetros $percall$, $tottime$, $cumtime$..."
   ]
  },
  {
   "cell_type": "markdown",
   "id": "1309f28b",
   "metadata": {},
   "source": [
    "<font size = '3'> También puedes imprimir las primeras 15 funciones que se demoran más, de la forma: "
   ]
  },
  {
   "cell_type": "code",
   "execution_count": 16,
   "id": "eb44a05a",
   "metadata": {},
   "outputs": [
    {
     "name": "stdout",
     "output_type": "stream",
     "text": [
      "         400083 function calls in 0.206 seconds\n",
      "\n",
      "   Ordered by: internal time\n",
      "   List reduced from 39 to 15 due to restriction <15>\n",
      "\n",
      "   ncalls  tottime  percall  cumtime  percall filename:lineno(function)\n",
      "        1    0.102    0.102    0.198    0.198 <ipython-input-11-9cba0279cd77>:1(create_array)\n",
      "   400000    0.096    0.000    0.096    0.000 {method 'append' of 'list' objects}\n",
      "        1    0.008    0.008    0.206    0.206 <ipython-input-11-9cba0279cd77>:10(main)\n",
      "        3    0.000    0.000    0.000    0.000 /Users/paulacaceresburgos/opt/miniconda3/lib/python3.9/site-packages/zmq/sugar/socket.py:438(send)\n",
      "        2    0.000    0.000    0.000    0.000 {built-in method builtins.compile}\n",
      "        2    0.000    0.000    0.000    0.000 /Users/paulacaceresburgos/opt/miniconda3/lib/python3.9/site-packages/ipykernel/iostream.py:384(write)\n",
      "        2    0.000    0.000    0.206    0.103 /Users/paulacaceresburgos/opt/miniconda3/lib/python3.9/site-packages/IPython/core/interactiveshell.py:3400(run_code)\n",
      "        3    0.000    0.000    0.000    0.000 /Users/paulacaceresburgos/opt/miniconda3/lib/python3.9/site-packages/ipykernel/iostream.py:195(schedule)\n",
      "        2    0.000    0.000    0.000    0.000 /Users/paulacaceresburgos/opt/miniconda3/lib/python3.9/codeop.py:142(__call__)\n",
      "        1    0.000    0.000    0.000    0.000 {built-in method builtins.print}\n",
      "        2    0.000    0.000    0.000    0.000 /Users/paulacaceresburgos/opt/miniconda3/lib/python3.9/contextlib.py:86(__init__)\n",
      "        1    0.000    0.000    0.000    0.000 <ipython-input-11-9cba0279cd77>:6(print_statement)\n",
      "        3    0.000    0.000    0.000    0.000 /Users/paulacaceresburgos/opt/miniconda3/lib/python3.9/threading.py:1093(is_alive)\n",
      "        2    0.000    0.000    0.000    0.000 /Users/paulacaceresburgos/opt/miniconda3/lib/python3.9/site-packages/ipykernel/iostream.py:308(_is_master_process)\n",
      "        4    0.000    0.000    0.000    0.000 /Users/paulacaceresburgos/opt/miniconda3/lib/python3.9/site-packages/IPython/core/compilerop.py:166(extra_flags)\n",
      "\n",
      "\n"
     ]
    },
    {
     "data": {
      "text/plain": [
       "<pstats.Stats at 0x7fbcda294df0>"
      ]
     },
     "execution_count": 16,
     "metadata": {},
     "output_type": "execute_result"
    }
   ],
   "source": [
    "stats.sort_stats('time').print_stats(15)"
   ]
  },
  {
   "cell_type": "markdown",
   "id": "89bee520",
   "metadata": {},
   "source": [
    "<font size = '3'> Se pueden añadir múltiples filtros, como por ejemplo las 15 funciones con 'append' que se demoraron más."
   ]
  },
  {
   "cell_type": "code",
   "execution_count": 13,
   "id": "ca6214bb",
   "metadata": {},
   "outputs": [
    {
     "name": "stdout",
     "output_type": "stream",
     "text": [
      "         400083 function calls in 0.206 seconds\n",
      "\n",
      "   Ordered by: internal time\n",
      "   List reduced from 39 to 2 due to restriction <'append'>\n",
      "\n",
      "   ncalls  tottime  percall  cumtime  percall filename:lineno(function)\n",
      "   400000    0.096    0.000    0.096    0.000 {method 'append' of 'list' objects}\n",
      "        3    0.000    0.000    0.000    0.000 {method 'append' of 'collections.deque' objects}\n",
      "\n",
      "\n"
     ]
    },
    {
     "data": {
      "text/plain": [
       "<pstats.Stats at 0x7fbcda294df0>"
      ]
     },
     "execution_count": 13,
     "metadata": {},
     "output_type": "execute_result"
    }
   ],
   "source": [
    "stats.sort_stats(\"time\").print_stats('append', 15)\n"
   ]
  },
  {
   "cell_type": "markdown",
   "id": "e32e357c",
   "metadata": {},
   "source": [
    "## Actividad"
   ]
  },
  {
   "cell_type": "markdown",
   "id": "33fa5c56",
   "metadata": {},
   "source": [
    "<font size='3'> La siguiente celda de código simula el impacto en temperatura de una termoeléctrica en un paisaje de mar y montaña (mirar la documentación para entender qué hace cada función). Este script no está para nada eficiente, y es tu labor encontrar cuáles son las partes más ineficientes, apóyate de lo que vimos anteriormente para ordenar el diagnóstico de cProfile por tiempo de ejecución. "
   ]
  },
  {
   "cell_type": "code",
   "execution_count": 8,
   "id": "ecc34eb9",
   "metadata": {},
   "outputs": [
    {
     "name": "stdout",
     "output_type": "stream",
     "text": [
      "2239\n"
     ]
    },
    {
     "data": {
      "image/png": "[encoded data removed]",
      "text/plain": [
       "<Figure size 432x288 with 2 Axes>"
      ]
     },
     "metadata": {
      "needs_background": "light"
     },
     "output_type": "display_data"
    }
   ],
   "source": [
    "Temp = np.zeros([200, 400])\n",
    "Borde = np.zeros([200, 400])\n",
    "BordesFijos = pp.CreaBordes(Borde)\n",
    "pp.plot_paisaje(Temp, BordesFijos, 0, 1.5)"
   ]
  },
  {
   "cell_type": "code",
   "execution_count": 1,
   "id": "c519e65a",
   "metadata": {
    "scrolled": true
   },
   "outputs": [
    {
     "ename": "NameError",
     "evalue": "name 'cProfile' is not defined",
     "output_type": "error",
     "traceback": [
      "\u001b[0;31m---------------------------------------------------------------------------\u001b[0m",
      "\u001b[0;31mNameError\u001b[0m                                 Traceback (most recent call last)",
      "\u001b[0;32m<ipython-input-1-cf3fbded3e3f>\u001b[0m in \u001b[0;36m<module>\u001b[0;34m\u001b[0m\n\u001b[1;32m      3\u001b[0m \u001b[0;34m\u001b[0m\u001b[0m\n\u001b[1;32m      4\u001b[0m \u001b[0;32mif\u001b[0m \u001b[0m__name__\u001b[0m \u001b[0;34m==\u001b[0m \u001b[0;34m'__main__'\u001b[0m\u001b[0;34m:\u001b[0m\u001b[0;34m\u001b[0m\u001b[0;34m\u001b[0m\u001b[0m\n\u001b[0;32m----> 5\u001b[0;31m     \u001b[0mprofiler\u001b[0m \u001b[0;34m=\u001b[0m \u001b[0mcProfile\u001b[0m\u001b[0;34m.\u001b[0m\u001b[0mProfile\u001b[0m\u001b[0;34m(\u001b[0m\u001b[0;34m)\u001b[0m\u001b[0;34m\u001b[0m\u001b[0;34m\u001b[0m\u001b[0m\n\u001b[0m\u001b[1;32m      6\u001b[0m     \u001b[0mprofiler\u001b[0m\u001b[0;34m.\u001b[0m\u001b[0menable\u001b[0m\u001b[0;34m(\u001b[0m\u001b[0;34m)\u001b[0m\u001b[0;34m\u001b[0m\u001b[0;34m\u001b[0m\u001b[0m\n\u001b[1;32m      7\u001b[0m     \u001b[0mmain\u001b[0m\u001b[0;34m(\u001b[0m\u001b[0;34m)\u001b[0m\u001b[0;34m\u001b[0m\u001b[0;34m\u001b[0m\u001b[0m\n",
      "\u001b[0;31mNameError\u001b[0m: name 'cProfile' is not defined"
     ]
    }
   ],
   "source": [
    "def main():\n",
    "    pp.plot_paisaje(Temp, BordesFijos, 0, 1.5)\n",
    "    \n",
    "if __name__ == '__main__':\n",
    "    profiler = cProfile.Profile()\n",
    "    profiler.enable()\n",
    "    main()\n",
    "    profiler.disable()\n",
    "    stats = pstats.Stats(profiler).sort_stats('ncalls')\n",
    "    stats.print_stats()"
   ]
  },
  {
   "cell_type": "code",
   "execution_count": null,
   "id": "cb124f72",
   "metadata": {},
   "outputs": [],
   "source": []
  },
  {
   "cell_type": "code",
   "execution_count": 2,
   "id": "6b1a52d1",
   "metadata": {},
   "outputs": [
    {
     "name": "stdout",
     "output_type": "stream",
     "text": [
      "2239\n"
     ]
    },
    {
     "data": {
      "image/png": "[encoded data removed]",
      "text/plain": [
       "<Figure size 432x288 with 2 Axes>"
      ]
     },
     "metadata": {
      "needs_background": "light"
     },
     "output_type": "display_data"
    }
   ],
   "source": [
    "Temp = np.zeros([200, 400])\n",
    "Borde = np.zeros([200, 400])\n",
    "BordesFijos = pp.CreaBordes(Borde)\n",
    "pp.plot_paisaje(Temp, BordesFijos, 0, 1.5)\n",
    "\n"
   ]
  },
  {
   "cell_type": "code",
   "execution_count": 3,
   "id": "015b4b8a",
   "metadata": {},
   "outputs": [
    {
     "name": "stdout",
     "output_type": "stream",
     "text": [
      "1\n"
     ]
    },
    {
     "data": {
      "image/png": "[encoded data removed]",
      "text/plain": [
       "<Figure size 432x288 with 2 Axes>"
      ]
     },
     "metadata": {
      "needs_background": "light"
     },
     "output_type": "display_data"
    }
   ],
   "source": [
    "Temp = np.zeros([200, 400])\n",
    "Borde = np.zeros([200, 400])\n",
    "BordesFijos = pp.CreaBordes(Borde)\n",
    "pp.plot_paisaje(Temp, BordesFijos, 16, 1.5)\n",
    "\n",
    "\n"
   ]
  },
  {
   "cell_type": "code",
   "execution_count": null,
   "id": "5bed6091",
   "metadata": {},
   "outputs": [],
   "source": [
    "pstats.Stats()"
   ]
  },
  {
   "cell_type": "code",
   "execution_count": 5,
   "id": "75ade320",
   "metadata": {},
   "outputs": [
    {
     "name": "stdout",
     "output_type": "stream",
     "text": [
      "1\n"
     ]
    },
    {
     "data": {
      "image/png": "[encoded data removed]",
      "text/plain": [
       "<Figure size 432x288 with 2 Axes>"
      ]
     },
     "metadata": {
      "needs_background": "light"
     },
     "output_type": "display_data"
    }
   ],
   "source": [
    "pp.plot_paisaje(Temp, BordesFijos, 32, 1.5)\n"
   ]
  },
  {
   "cell_type": "code",
   "execution_count": null,
   "id": "a99ab28d",
   "metadata": {},
   "outputs": [],
   "source": [
    "import time\n",
    "  \n",
    "start = time.time()\n",
    "print(\"Time Consumed\")\n",
    "print(\"% s seconds\" % (time.time() - start))\n",
    "\n"
   ]
  },
  {
   "cell_type": "markdown",
   "id": "8f63a404",
   "metadata": {},
   "source": [
    "## Formas de acelerar tu código\n",
    "<font size='3'> Si ya encontraste el bloque de código que debes acelerar, la estrategia general es eliminar computaciones innecesarias lo más que se pueda. Desafortunadamente no hay un sólo método para acelerar tu código. Pero aquí hay algunas ideas:\n",
    "1. Eliminar computaciones que no estén siendo usadas (por ejemplo, variables que no se estén ocupando, procesar datos que finalmente serán desechados)\n",
    "2. Usar funciones numpy cuando sea posible para operaciones matriciales\n",
    "3. Evitar usar loops for y while ya que son lentos.\n",
    "4. ?\n",
    "5. Reducir el número de iteraciones o aumentar la tolerancias de rutinas que son innecesariamente precisas (por ejemplo: optimizadores pueden correr por menos iteraciones, seno y coseno pueden ser aproximados a sus expansiones de taylor)\n",
    "6. Evitar copiar variables cuando no es necesario copiarlas (por ejemplo: si el input ya está en numpy.array, no es necesario aplicarle np.array() para asegurarse que sea numpy.array)\n",
    "7. Convertir parte de tu código python a código en C y llamarlo con python\n",
    "8. Otras ideas?"
   ]
  },
  {
   "cell_type": "code",
   "execution_count": null,
   "id": "c8074103",
   "metadata": {},
   "outputs": [],
   "source": []
  },
  {
   "cell_type": "code",
   "execution_count": null,
   "id": "5c53367c",
   "metadata": {},
   "outputs": [],
   "source": []
  }
 ],
 "metadata": {
  "kernelspec": {
   "display_name": "Python 3",
   "language": "python",
   "name": "python3"
  },
  "language_info": {
   "codemirror_mode": {
    "name": "ipython",
    "version": 3
   },
   "file_extension": ".py",
   "mimetype": "text/x-python",
   "name": "python",
   "nbconvert_exporter": "python",
   "pygments_lexer": "ipython3",
   "version": "3.9.1"
  }
 },
 "nbformat": 4,
 "nbformat_minor": 5
}
